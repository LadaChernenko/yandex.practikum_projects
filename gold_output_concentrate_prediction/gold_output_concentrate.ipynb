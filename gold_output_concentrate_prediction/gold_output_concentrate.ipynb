{
 "cells": [
  {
   "cell_type": "markdown",
   "metadata": {},
   "source": [
    "# Описание проекта\n",
    "Подготовка прототипа модели машинного обучения для золотодобывающей компании.\n",
    "Модель должна предсказать коэффициент восстановления золота из золотосодержащей руды. В распоряжении данные с параметрами добычи и очистки. \n",
    "\n",
    "Модель поможет оптимизировать производство, чтобы не запускать предприятие с убыточными характеристиками.\n"
   ]
  },
  {
   "cell_type": "markdown",
   "metadata": {},
   "source": [
    "## План выполнения работы:\n",
    "### <a href=#1>1. Подготовка данных</a>\n",
    "   #### <a href=#1_1> 1.1 Изучение данных</a>\n",
    "   #### <a href=#1_2> 1.2 Проверка правильности рассчётов эффективности обогащения</a>\n",
    "   #### <a href=#1_3> 1.3 Анализ признаков</a>\n",
    "   #### <a href=#1_4> 1.4 Предобаботка данных</a>\n",
    "### <a href=#2>2. Анализ данных</a>\n",
    "   #### <a href=#2_1> 2.1 Анализ концентрации металлов (Au, Ag, Pb) на различных этапах очистки</a>\n",
    "   #### <a href=#2_2> 2.2 Сравнение распределения размеров гранул сырья на обучающей и тестовой выборках.</a>\n",
    "   #### <a href=#2_3> 2.3 Исследование суммарной концентрацию всех веществ на разных стадиях</a>\n",
    "### <a href=#3>3. Модель</a>\n",
    "   #### <a href=#3_1> 3.1 Функция для вычисления итоговой sMAPE</a>\n",
    "   #### <a href=#3_2> 3.2 Обучение и оценка качества моделей</a>\n"
   ]
  },
  {
   "cell_type": "markdown",
   "metadata": {},
   "source": [
    "# <a id='1'> 1. Подготовка данных</a> "
   ]
  },
  {
   "cell_type": "code",
   "execution_count": 1,
   "metadata": {},
   "outputs": [],
   "source": [
    "import pandas as pd\n",
    "import numpy as np\n",
    "import seaborn as sns\n",
    "import matplotlib.pyplot as plt\n",
    "from sklearn.model_selection import RandomizedSearchCV, KFold, cross_val_score\n",
    "from sklearn.linear_model import LinearRegression \n",
    "from sklearn.ensemble import RandomForestRegressor, GradientBoostingRegressor\n",
    "from sklearn.dummy import DummyRegressor\n",
    "from sklearn import metrics\n",
    "from scipy import stats as st\n"
   ]
  },
  {
   "cell_type": "markdown",
   "metadata": {},
   "source": [
    "## <a id='1_1'> 1.1 Изучение данных</a> "
   ]
  },
  {
   "cell_type": "code",
   "execution_count": 3,
   "metadata": {},
   "outputs": [],
   "source": [
    "gold_recovery_train = pd.read_csv(r'c:\\Users\\hd\\Documents\\Python code\\practikum\\gold_zyfra\\gold_recovery_train.csv', index_col='date')\n",
    "gold_recovery_test = pd.read_csv(r'c:\\Users\\hd\\Documents\\Python code\\practikum\\gold_zyfra\\gold_recovery_test.csv', index_col='date')\n",
    "gold_recovery_full = pd.read_csv(r'c:\\Users\\hd\\Documents\\Python code\\practikum\\gold_zyfra\\gold_recovery_full.csv', index_col='date')"
   ]
  },
  {
   "cell_type": "code",
   "execution_count": 4,
   "metadata": {},
   "outputs": [],
   "source": [
    "datas = {'gold_recovery_train':gold_recovery_train, \n",
    "         'gold_recovery_test':gold_recovery_test, \n",
    "         'gold_recovery_full':gold_recovery_full}"
   ]
  },
  {
   "cell_type": "code",
   "execution_count": 5,
   "metadata": {},
   "outputs": [],
   "source": [
    "#for key in datas.keys():\n",
    "#    print('Содержание тaблицы '+key)\n",
    "#    display(datas[key].head())"
   ]
  },
  {
   "cell_type": "markdown",
   "metadata": {},
   "source": [
    "Информация о признаках в каждой из таблиц:"
   ]
  },
  {
   "cell_type": "code",
   "execution_count": 6,
   "metadata": {},
   "outputs": [],
   "source": [
    "#for key in datas.keys():\n",
    "#    print('Информация о таблице '+key)\n",
    "#    display(datas[key].info())"
   ]
  },
  {
   "cell_type": "markdown",
   "metadata": {},
   "source": [
    "Информация о пропусках в каждой из таблиц:"
   ]
  },
  {
   "cell_type": "code",
   "execution_count": 7,
   "metadata": {},
   "outputs": [],
   "source": [
    "def percent_nan(data):\n",
    "    isna_data = pd.DataFrame(data.isna().sum())\n",
    "    isna_data.columns = ['nan']\n",
    "    isna_data['rate'] = isna_data['nan']/len(data)\n",
    "    return(isna_data.style.format(\"{:.2%}\", subset='rate'))"
   ]
  },
  {
   "cell_type": "code",
   "execution_count": 8,
   "metadata": {},
   "outputs": [],
   "source": [
    "#for key in datas.keys():\n",
    "#    print('Информация о пропусках в таблице '+key)\n",
    "#    display(percent_nan(datas[key]))"
   ]
  },
  {
   "cell_type": "markdown",
   "metadata": {},
   "source": [
    "**Вывод:**\n",
    "- Целевые признаки содержатся в столбцах `final.output.recovery` и `rougher.output.recovery` в таблицах ***gold_recovery_train*** и ***gold_recovery_full***. \n",
    "- В целевых признаках присутствуют пропуски до 15% в таблице с обучающей выборкой.\n",
    "- В признаках так же присутствуют пропуски. \n",
    "- В таблице с тестовыми данными отсутсвуют некоторые признаки из таблицы с обучающей выборкой."
   ]
  },
  {
   "cell_type": "markdown",
   "metadata": {},
   "source": [
    "## <a id='1_2'> 1.2 Проверка правильности рассчётов эффективности обогащения</a> "
   ]
  },
  {
   "cell_type": "markdown",
   "metadata": {},
   "source": [
    "Рассчитаем эффективность обогощения чернового концентрата и финального концентрата по данным обучающей выборки.\n",
    "Необходимые для расчёта параметры содержатся в столбцах:\n",
    "- `rougher.input.feed_au`\n",
    "- `rougher.output.tail_au`\n",
    "- `rougher.output.concentrate_au`\n",
    "- `final.output.tail_au`\n",
    "- `final.output.concentrate_au`\n"
   ]
  },
  {
   "cell_type": "code",
   "execution_count": 9,
   "metadata": {},
   "outputs": [],
   "source": [
    "rougher_recovery = gold_recovery_train.loc[:,['rougher.input.feed_au', 'rougher.output.tail_au', \n",
    "                                              'rougher.output.concentrate_au', 'rougher.output.recovery']]"
   ]
  },
  {
   "cell_type": "code",
   "execution_count": 10,
   "metadata": {},
   "outputs": [],
   "source": [
    "final_recovery = gold_recovery_train.loc[:,['rougher.input.feed_au', 'final.output.tail_au', \n",
    "                                            'final.output.concentrate_au', 'final.output.recovery']]"
   ]
  },
  {
   "cell_type": "code",
   "execution_count": 11,
   "metadata": {},
   "outputs": [],
   "source": [
    "def get_recovery(data):\n",
    "    columns = data.columns\n",
    "    data['recovery'] = (100*(data[columns[2]]*(data[columns[0]]-data[columns[1]]))/\n",
    "                        (data[columns[0]]*(data[columns[2]]-data[columns[1]])))"
   ]
  },
  {
   "cell_type": "code",
   "execution_count": 12,
   "metadata": {},
   "outputs": [
    {
     "data": {
      "text/html": [
       "<div>\n",
       "<style scoped>\n",
       "    .dataframe tbody tr th:only-of-type {\n",
       "        vertical-align: middle;\n",
       "    }\n",
       "\n",
       "    .dataframe tbody tr th {\n",
       "        vertical-align: top;\n",
       "    }\n",
       "\n",
       "    .dataframe thead th {\n",
       "        text-align: right;\n",
       "    }\n",
       "</style>\n",
       "<table border=\"1\" class=\"dataframe\">\n",
       "  <thead>\n",
       "    <tr style=\"text-align: right;\">\n",
       "      <th></th>\n",
       "      <th>rougher.input.feed_au</th>\n",
       "      <th>rougher.output.tail_au</th>\n",
       "      <th>rougher.output.concentrate_au</th>\n",
       "      <th>rougher.output.recovery</th>\n",
       "      <th>recovery</th>\n",
       "    </tr>\n",
       "    <tr>\n",
       "      <th>date</th>\n",
       "      <th></th>\n",
       "      <th></th>\n",
       "      <th></th>\n",
       "      <th></th>\n",
       "      <th></th>\n",
       "    </tr>\n",
       "  </thead>\n",
       "  <tbody>\n",
       "    <tr>\n",
       "      <th>2016-01-15 00:00:00</th>\n",
       "      <td>6.486150</td>\n",
       "      <td>1.170244</td>\n",
       "      <td>19.793808</td>\n",
       "      <td>87.107763</td>\n",
       "      <td>87.107763</td>\n",
       "    </tr>\n",
       "    <tr>\n",
       "      <th>2016-01-15 01:00:00</th>\n",
       "      <td>6.478583</td>\n",
       "      <td>1.184827</td>\n",
       "      <td>20.050975</td>\n",
       "      <td>86.843261</td>\n",
       "      <td>86.843261</td>\n",
       "    </tr>\n",
       "    <tr>\n",
       "      <th>2016-01-15 02:00:00</th>\n",
       "      <td>6.362222</td>\n",
       "      <td>1.162562</td>\n",
       "      <td>19.737170</td>\n",
       "      <td>86.842308</td>\n",
       "      <td>86.842308</td>\n",
       "    </tr>\n",
       "    <tr>\n",
       "      <th>2016-01-15 03:00:00</th>\n",
       "      <td>6.118189</td>\n",
       "      <td>1.079755</td>\n",
       "      <td>19.320810</td>\n",
       "      <td>87.226430</td>\n",
       "      <td>87.226430</td>\n",
       "    </tr>\n",
       "    <tr>\n",
       "      <th>2016-01-15 04:00:00</th>\n",
       "      <td>5.663707</td>\n",
       "      <td>1.012642</td>\n",
       "      <td>19.216101</td>\n",
       "      <td>86.688794</td>\n",
       "      <td>86.688794</td>\n",
       "    </tr>\n",
       "  </tbody>\n",
       "</table>\n",
       "</div>"
      ],
      "text/plain": [
       "                     rougher.input.feed_au  rougher.output.tail_au  \\\n",
       "date                                                                 \n",
       "2016-01-15 00:00:00               6.486150                1.170244   \n",
       "2016-01-15 01:00:00               6.478583                1.184827   \n",
       "2016-01-15 02:00:00               6.362222                1.162562   \n",
       "2016-01-15 03:00:00               6.118189                1.079755   \n",
       "2016-01-15 04:00:00               5.663707                1.012642   \n",
       "\n",
       "                     rougher.output.concentrate_au  rougher.output.recovery  \\\n",
       "date                                                                          \n",
       "2016-01-15 00:00:00                      19.793808                87.107763   \n",
       "2016-01-15 01:00:00                      20.050975                86.843261   \n",
       "2016-01-15 02:00:00                      19.737170                86.842308   \n",
       "2016-01-15 03:00:00                      19.320810                87.226430   \n",
       "2016-01-15 04:00:00                      19.216101                86.688794   \n",
       "\n",
       "                      recovery  \n",
       "date                            \n",
       "2016-01-15 00:00:00  87.107763  \n",
       "2016-01-15 01:00:00  86.843261  \n",
       "2016-01-15 02:00:00  86.842308  \n",
       "2016-01-15 03:00:00  87.226430  \n",
       "2016-01-15 04:00:00  86.688794  "
      ]
     },
     "execution_count": 12,
     "metadata": {},
     "output_type": "execute_result"
    }
   ],
   "source": [
    "get_recovery(rougher_recovery)\n",
    "rougher_recovery.head()"
   ]
  },
  {
   "cell_type": "code",
   "execution_count": 13,
   "metadata": {},
   "outputs": [
    {
     "data": {
      "text/html": [
       "<div>\n",
       "<style scoped>\n",
       "    .dataframe tbody tr th:only-of-type {\n",
       "        vertical-align: middle;\n",
       "    }\n",
       "\n",
       "    .dataframe tbody tr th {\n",
       "        vertical-align: top;\n",
       "    }\n",
       "\n",
       "    .dataframe thead th {\n",
       "        text-align: right;\n",
       "    }\n",
       "</style>\n",
       "<table border=\"1\" class=\"dataframe\">\n",
       "  <thead>\n",
       "    <tr style=\"text-align: right;\">\n",
       "      <th></th>\n",
       "      <th>rougher.input.feed_au</th>\n",
       "      <th>final.output.tail_au</th>\n",
       "      <th>final.output.concentrate_au</th>\n",
       "      <th>final.output.recovery</th>\n",
       "      <th>recovery</th>\n",
       "    </tr>\n",
       "    <tr>\n",
       "      <th>date</th>\n",
       "      <th></th>\n",
       "      <th></th>\n",
       "      <th></th>\n",
       "      <th></th>\n",
       "      <th></th>\n",
       "    </tr>\n",
       "  </thead>\n",
       "  <tbody>\n",
       "    <tr>\n",
       "      <th>2016-01-15 00:00:00</th>\n",
       "      <td>6.486150</td>\n",
       "      <td>2.143149</td>\n",
       "      <td>42.192020</td>\n",
       "      <td>70.541216</td>\n",
       "      <td>70.541216</td>\n",
       "    </tr>\n",
       "    <tr>\n",
       "      <th>2016-01-15 01:00:00</th>\n",
       "      <td>6.478583</td>\n",
       "      <td>2.224930</td>\n",
       "      <td>42.701629</td>\n",
       "      <td>69.266198</td>\n",
       "      <td>69.266198</td>\n",
       "    </tr>\n",
       "    <tr>\n",
       "      <th>2016-01-15 02:00:00</th>\n",
       "      <td>6.362222</td>\n",
       "      <td>2.257889</td>\n",
       "      <td>42.657501</td>\n",
       "      <td>68.116445</td>\n",
       "      <td>68.116445</td>\n",
       "    </tr>\n",
       "    <tr>\n",
       "      <th>2016-01-15 03:00:00</th>\n",
       "      <td>6.118189</td>\n",
       "      <td>2.146849</td>\n",
       "      <td>42.689819</td>\n",
       "      <td>68.347543</td>\n",
       "      <td>68.347543</td>\n",
       "    </tr>\n",
       "    <tr>\n",
       "      <th>2016-01-15 04:00:00</th>\n",
       "      <td>5.663707</td>\n",
       "      <td>2.055292</td>\n",
       "      <td>42.774141</td>\n",
       "      <td>66.927016</td>\n",
       "      <td>66.927016</td>\n",
       "    </tr>\n",
       "  </tbody>\n",
       "</table>\n",
       "</div>"
      ],
      "text/plain": [
       "                     rougher.input.feed_au  final.output.tail_au  \\\n",
       "date                                                               \n",
       "2016-01-15 00:00:00               6.486150              2.143149   \n",
       "2016-01-15 01:00:00               6.478583              2.224930   \n",
       "2016-01-15 02:00:00               6.362222              2.257889   \n",
       "2016-01-15 03:00:00               6.118189              2.146849   \n",
       "2016-01-15 04:00:00               5.663707              2.055292   \n",
       "\n",
       "                     final.output.concentrate_au  final.output.recovery  \\\n",
       "date                                                                      \n",
       "2016-01-15 00:00:00                    42.192020              70.541216   \n",
       "2016-01-15 01:00:00                    42.701629              69.266198   \n",
       "2016-01-15 02:00:00                    42.657501              68.116445   \n",
       "2016-01-15 03:00:00                    42.689819              68.347543   \n",
       "2016-01-15 04:00:00                    42.774141              66.927016   \n",
       "\n",
       "                      recovery  \n",
       "date                            \n",
       "2016-01-15 00:00:00  70.541216  \n",
       "2016-01-15 01:00:00  69.266198  \n",
       "2016-01-15 02:00:00  68.116445  \n",
       "2016-01-15 03:00:00  68.347543  \n",
       "2016-01-15 04:00:00  66.927016  "
      ]
     },
     "execution_count": 13,
     "metadata": {},
     "output_type": "execute_result"
    }
   ],
   "source": [
    "get_recovery(final_recovery)\n",
    "final_recovery.head()"
   ]
  },
  {
   "cell_type": "markdown",
   "metadata": {},
   "source": [
    "Рассчитаем MAE между рассчитаным значением признака и указаным в таблице."
   ]
  },
  {
   "cell_type": "code",
   "execution_count": 14,
   "metadata": {},
   "outputs": [
    {
     "name": "stdout",
     "output_type": "stream",
     "text": [
      "MAE эффективности обогащения чернового концентраты: 1.0898633667227423e-14\n"
     ]
    }
   ],
   "source": [
    "rougher_recovery = rougher_recovery.dropna(subset=['rougher.output.recovery', 'recovery'])\n",
    "rougher_mae = metrics.mean_absolute_error(rougher_recovery['rougher.output.recovery'], \n",
    "                                          rougher_recovery['recovery'])\n",
    "print('MAE эффективности обогащения чернового концентраты:', rougher_mae)"
   ]
  },
  {
   "cell_type": "code",
   "execution_count": 15,
   "metadata": {},
   "outputs": [
    {
     "name": "stdout",
     "output_type": "stream",
     "text": [
      "MAE эффективности обогащения финального концентраты: 9.234385318911162e-15\n"
     ]
    }
   ],
   "source": [
    "final_recovery = final_recovery.dropna(subset=['final.output.recovery', 'recovery'])\n",
    "final_mae = metrics.mean_absolute_error(final_recovery['final.output.recovery'], \n",
    "                                        final_recovery['recovery'])\n",
    "print('MAE эффективности обогащения финального концентраты:', final_mae)"
   ]
  },
  {
   "cell_type": "markdown",
   "metadata": {},
   "source": [
    "**Вывод:**\n",
    "\n",
    "Средняя абсолютная ошибка вычисления целевых признаков по формуле очень маленькая."
   ]
  },
  {
   "cell_type": "markdown",
   "metadata": {},
   "source": [
    "## <a id='1_3'> 1.3 Анализ признаков</a> "
   ]
  },
  {
   "cell_type": "code",
   "execution_count": 16,
   "metadata": {},
   "outputs": [
    {
     "name": "stdout",
     "output_type": "stream",
     "text": [
      "Признаки, отсутствующие в тестовой выборке\n",
      "final.output.concentrate_ag\n",
      "final.output.concentrate_pb\n",
      "final.output.concentrate_sol\n",
      "final.output.concentrate_au\n",
      "final.output.recovery\n",
      "final.output.tail_ag\n",
      "final.output.tail_pb\n",
      "final.output.tail_sol\n",
      "final.output.tail_au\n",
      "primary_cleaner.output.concentrate_ag\n",
      "primary_cleaner.output.concentrate_pb\n",
      "primary_cleaner.output.concentrate_sol\n",
      "primary_cleaner.output.concentrate_au\n",
      "primary_cleaner.output.tail_ag\n",
      "primary_cleaner.output.tail_pb\n",
      "primary_cleaner.output.tail_sol\n",
      "primary_cleaner.output.tail_au\n",
      "rougher.calculation.sulfate_to_au_concentrate\n",
      "rougher.calculation.floatbank10_sulfate_to_au_feed\n",
      "rougher.calculation.floatbank11_sulfate_to_au_feed\n",
      "rougher.calculation.au_pb_ratio\n",
      "rougher.output.concentrate_ag\n",
      "rougher.output.concentrate_pb\n",
      "rougher.output.concentrate_sol\n",
      "rougher.output.concentrate_au\n",
      "rougher.output.recovery\n",
      "rougher.output.tail_ag\n",
      "rougher.output.tail_pb\n",
      "rougher.output.tail_sol\n",
      "rougher.output.tail_au\n",
      "secondary_cleaner.output.tail_ag\n",
      "secondary_cleaner.output.tail_pb\n",
      "secondary_cleaner.output.tail_sol\n",
      "secondary_cleaner.output.tail_au\n"
     ]
    }
   ],
   "source": [
    "print('Признаки, отсутствующие в тестовой выборке')\n",
    "absent_feature = []\n",
    "for column in gold_recovery_train.columns:\n",
    "    if column not in gold_recovery_test.columns:\n",
    "        absent_feature.append(column)\n",
    "        print (column)"
   ]
  },
  {
   "cell_type": "markdown",
   "metadata": {},
   "source": [
    "**Вывод:**\n",
    "\n",
    "В тестовой выборке **gold_recovery_test** отсутствуют признаки содержащие:\n",
    "- информацию о концентрации металлов (Au, Ag, Pb):\n",
    "    - на этапах первой и второй очистки; \n",
    "    - в отвальных хвостах;\n",
    "    - в финальном концентрате.\n",
    "- расчётные характеристики:\n",
    "    - `rougher.calculation.sulfate_to_au_concentrate`\n",
    "    - `rougher.calculation.floatbank10_sulfate_to_au_feed`\n",
    "    - `rougher.calculation.floatbank11_sulfate_to_au_feed`\n",
    "    - `rougher.calculation.au_pb_ratio`"
   ]
  },
  {
   "cell_type": "markdown",
   "metadata": {},
   "source": [
    "## <a id='1_4'> 1.4 Предобаботка данных</a> "
   ]
  },
  {
   "cell_type": "markdown",
   "metadata": {},
   "source": [
    "Удалим из обучающей выборки признаки, отсутствующие в тестовой части."
   ]
  },
  {
   "cell_type": "code",
   "execution_count": 17,
   "metadata": {},
   "outputs": [],
   "source": [
    "train_select_feature = gold_recovery_train.drop(absent_feature, axis=1)"
   ]
  },
  {
   "cell_type": "code",
   "execution_count": 18,
   "metadata": {},
   "outputs": [],
   "source": [
    "train_select_feature['final.output.recovery'] = gold_recovery_train['final.output.recovery']\n",
    "train_select_feature['rougher.output.recovery'] = gold_recovery_train['rougher.output.recovery']"
   ]
  },
  {
   "cell_type": "markdown",
   "metadata": {},
   "source": [
    "Удалим пропуски в целевом признаке."
   ]
  },
  {
   "cell_type": "code",
   "execution_count": 19,
   "metadata": {},
   "outputs": [],
   "source": [
    "train_select_feature = train_select_feature.dropna(subset=['final.output.recovery', 'rougher.output.recovery'])"
   ]
  },
  {
   "cell_type": "markdown",
   "metadata": {},
   "source": [
    "Так как соседние по времени значения параметров должны быть похожи, заменим пропуски в данных на значения недавно измеренных параметров."
   ]
  },
  {
   "cell_type": "code",
   "execution_count": 20,
   "metadata": {},
   "outputs": [],
   "source": [
    "train_select_feature = train_select_feature.fillna(method='ffill')"
   ]
  },
  {
   "cell_type": "code",
   "execution_count": 21,
   "metadata": {},
   "outputs": [
    {
     "data": {
      "text/html": [
       "<style  type=\"text/css\" >\n",
       "</style><table id=\"T_16b63b8c_087d_11eb_a709_f0761c3cb6d8\" ><thead>    <tr>        <th class=\"blank level0\" ></th>        <th class=\"col_heading level0 col0\" >nan</th>        <th class=\"col_heading level0 col1\" >rate</th>    </tr></thead><tbody>\n",
       "                <tr>\n",
       "                        <th id=\"T_16b63b8c_087d_11eb_a709_f0761c3cb6d8level0_row0\" class=\"row_heading level0 row0\" >primary_cleaner.input.sulfate</th>\n",
       "                        <td id=\"T_16b63b8c_087d_11eb_a709_f0761c3cb6d8row0_col0\" class=\"data row0 col0\" >0</td>\n",
       "                        <td id=\"T_16b63b8c_087d_11eb_a709_f0761c3cb6d8row0_col1\" class=\"data row0 col1\" >0.00%</td>\n",
       "            </tr>\n",
       "            <tr>\n",
       "                        <th id=\"T_16b63b8c_087d_11eb_a709_f0761c3cb6d8level0_row1\" class=\"row_heading level0 row1\" >primary_cleaner.input.depressant</th>\n",
       "                        <td id=\"T_16b63b8c_087d_11eb_a709_f0761c3cb6d8row1_col0\" class=\"data row1 col0\" >0</td>\n",
       "                        <td id=\"T_16b63b8c_087d_11eb_a709_f0761c3cb6d8row1_col1\" class=\"data row1 col1\" >0.00%</td>\n",
       "            </tr>\n",
       "            <tr>\n",
       "                        <th id=\"T_16b63b8c_087d_11eb_a709_f0761c3cb6d8level0_row2\" class=\"row_heading level0 row2\" >primary_cleaner.input.feed_size</th>\n",
       "                        <td id=\"T_16b63b8c_087d_11eb_a709_f0761c3cb6d8row2_col0\" class=\"data row2 col0\" >0</td>\n",
       "                        <td id=\"T_16b63b8c_087d_11eb_a709_f0761c3cb6d8row2_col1\" class=\"data row2 col1\" >0.00%</td>\n",
       "            </tr>\n",
       "            <tr>\n",
       "                        <th id=\"T_16b63b8c_087d_11eb_a709_f0761c3cb6d8level0_row3\" class=\"row_heading level0 row3\" >primary_cleaner.input.xanthate</th>\n",
       "                        <td id=\"T_16b63b8c_087d_11eb_a709_f0761c3cb6d8row3_col0\" class=\"data row3 col0\" >0</td>\n",
       "                        <td id=\"T_16b63b8c_087d_11eb_a709_f0761c3cb6d8row3_col1\" class=\"data row3 col1\" >0.00%</td>\n",
       "            </tr>\n",
       "            <tr>\n",
       "                        <th id=\"T_16b63b8c_087d_11eb_a709_f0761c3cb6d8level0_row4\" class=\"row_heading level0 row4\" >primary_cleaner.state.floatbank8_a_air</th>\n",
       "                        <td id=\"T_16b63b8c_087d_11eb_a709_f0761c3cb6d8row4_col0\" class=\"data row4 col0\" >0</td>\n",
       "                        <td id=\"T_16b63b8c_087d_11eb_a709_f0761c3cb6d8row4_col1\" class=\"data row4 col1\" >0.00%</td>\n",
       "            </tr>\n",
       "            <tr>\n",
       "                        <th id=\"T_16b63b8c_087d_11eb_a709_f0761c3cb6d8level0_row5\" class=\"row_heading level0 row5\" >primary_cleaner.state.floatbank8_a_level</th>\n",
       "                        <td id=\"T_16b63b8c_087d_11eb_a709_f0761c3cb6d8row5_col0\" class=\"data row5 col0\" >0</td>\n",
       "                        <td id=\"T_16b63b8c_087d_11eb_a709_f0761c3cb6d8row5_col1\" class=\"data row5 col1\" >0.00%</td>\n",
       "            </tr>\n",
       "            <tr>\n",
       "                        <th id=\"T_16b63b8c_087d_11eb_a709_f0761c3cb6d8level0_row6\" class=\"row_heading level0 row6\" >primary_cleaner.state.floatbank8_b_air</th>\n",
       "                        <td id=\"T_16b63b8c_087d_11eb_a709_f0761c3cb6d8row6_col0\" class=\"data row6 col0\" >0</td>\n",
       "                        <td id=\"T_16b63b8c_087d_11eb_a709_f0761c3cb6d8row6_col1\" class=\"data row6 col1\" >0.00%</td>\n",
       "            </tr>\n",
       "            <tr>\n",
       "                        <th id=\"T_16b63b8c_087d_11eb_a709_f0761c3cb6d8level0_row7\" class=\"row_heading level0 row7\" >primary_cleaner.state.floatbank8_b_level</th>\n",
       "                        <td id=\"T_16b63b8c_087d_11eb_a709_f0761c3cb6d8row7_col0\" class=\"data row7 col0\" >0</td>\n",
       "                        <td id=\"T_16b63b8c_087d_11eb_a709_f0761c3cb6d8row7_col1\" class=\"data row7 col1\" >0.00%</td>\n",
       "            </tr>\n",
       "            <tr>\n",
       "                        <th id=\"T_16b63b8c_087d_11eb_a709_f0761c3cb6d8level0_row8\" class=\"row_heading level0 row8\" >primary_cleaner.state.floatbank8_c_air</th>\n",
       "                        <td id=\"T_16b63b8c_087d_11eb_a709_f0761c3cb6d8row8_col0\" class=\"data row8 col0\" >0</td>\n",
       "                        <td id=\"T_16b63b8c_087d_11eb_a709_f0761c3cb6d8row8_col1\" class=\"data row8 col1\" >0.00%</td>\n",
       "            </tr>\n",
       "            <tr>\n",
       "                        <th id=\"T_16b63b8c_087d_11eb_a709_f0761c3cb6d8level0_row9\" class=\"row_heading level0 row9\" >primary_cleaner.state.floatbank8_c_level</th>\n",
       "                        <td id=\"T_16b63b8c_087d_11eb_a709_f0761c3cb6d8row9_col0\" class=\"data row9 col0\" >0</td>\n",
       "                        <td id=\"T_16b63b8c_087d_11eb_a709_f0761c3cb6d8row9_col1\" class=\"data row9 col1\" >0.00%</td>\n",
       "            </tr>\n",
       "            <tr>\n",
       "                        <th id=\"T_16b63b8c_087d_11eb_a709_f0761c3cb6d8level0_row10\" class=\"row_heading level0 row10\" >primary_cleaner.state.floatbank8_d_air</th>\n",
       "                        <td id=\"T_16b63b8c_087d_11eb_a709_f0761c3cb6d8row10_col0\" class=\"data row10 col0\" >0</td>\n",
       "                        <td id=\"T_16b63b8c_087d_11eb_a709_f0761c3cb6d8row10_col1\" class=\"data row10 col1\" >0.00%</td>\n",
       "            </tr>\n",
       "            <tr>\n",
       "                        <th id=\"T_16b63b8c_087d_11eb_a709_f0761c3cb6d8level0_row11\" class=\"row_heading level0 row11\" >primary_cleaner.state.floatbank8_d_level</th>\n",
       "                        <td id=\"T_16b63b8c_087d_11eb_a709_f0761c3cb6d8row11_col0\" class=\"data row11 col0\" >0</td>\n",
       "                        <td id=\"T_16b63b8c_087d_11eb_a709_f0761c3cb6d8row11_col1\" class=\"data row11 col1\" >0.00%</td>\n",
       "            </tr>\n",
       "            <tr>\n",
       "                        <th id=\"T_16b63b8c_087d_11eb_a709_f0761c3cb6d8level0_row12\" class=\"row_heading level0 row12\" >rougher.input.feed_ag</th>\n",
       "                        <td id=\"T_16b63b8c_087d_11eb_a709_f0761c3cb6d8row12_col0\" class=\"data row12 col0\" >0</td>\n",
       "                        <td id=\"T_16b63b8c_087d_11eb_a709_f0761c3cb6d8row12_col1\" class=\"data row12 col1\" >0.00%</td>\n",
       "            </tr>\n",
       "            <tr>\n",
       "                        <th id=\"T_16b63b8c_087d_11eb_a709_f0761c3cb6d8level0_row13\" class=\"row_heading level0 row13\" >rougher.input.feed_pb</th>\n",
       "                        <td id=\"T_16b63b8c_087d_11eb_a709_f0761c3cb6d8row13_col0\" class=\"data row13 col0\" >0</td>\n",
       "                        <td id=\"T_16b63b8c_087d_11eb_a709_f0761c3cb6d8row13_col1\" class=\"data row13 col1\" >0.00%</td>\n",
       "            </tr>\n",
       "            <tr>\n",
       "                        <th id=\"T_16b63b8c_087d_11eb_a709_f0761c3cb6d8level0_row14\" class=\"row_heading level0 row14\" >rougher.input.feed_rate</th>\n",
       "                        <td id=\"T_16b63b8c_087d_11eb_a709_f0761c3cb6d8row14_col0\" class=\"data row14 col0\" >0</td>\n",
       "                        <td id=\"T_16b63b8c_087d_11eb_a709_f0761c3cb6d8row14_col1\" class=\"data row14 col1\" >0.00%</td>\n",
       "            </tr>\n",
       "            <tr>\n",
       "                        <th id=\"T_16b63b8c_087d_11eb_a709_f0761c3cb6d8level0_row15\" class=\"row_heading level0 row15\" >rougher.input.feed_size</th>\n",
       "                        <td id=\"T_16b63b8c_087d_11eb_a709_f0761c3cb6d8row15_col0\" class=\"data row15 col0\" >0</td>\n",
       "                        <td id=\"T_16b63b8c_087d_11eb_a709_f0761c3cb6d8row15_col1\" class=\"data row15 col1\" >0.00%</td>\n",
       "            </tr>\n",
       "            <tr>\n",
       "                        <th id=\"T_16b63b8c_087d_11eb_a709_f0761c3cb6d8level0_row16\" class=\"row_heading level0 row16\" >rougher.input.feed_sol</th>\n",
       "                        <td id=\"T_16b63b8c_087d_11eb_a709_f0761c3cb6d8row16_col0\" class=\"data row16 col0\" >0</td>\n",
       "                        <td id=\"T_16b63b8c_087d_11eb_a709_f0761c3cb6d8row16_col1\" class=\"data row16 col1\" >0.00%</td>\n",
       "            </tr>\n",
       "            <tr>\n",
       "                        <th id=\"T_16b63b8c_087d_11eb_a709_f0761c3cb6d8level0_row17\" class=\"row_heading level0 row17\" >rougher.input.feed_au</th>\n",
       "                        <td id=\"T_16b63b8c_087d_11eb_a709_f0761c3cb6d8row17_col0\" class=\"data row17 col0\" >0</td>\n",
       "                        <td id=\"T_16b63b8c_087d_11eb_a709_f0761c3cb6d8row17_col1\" class=\"data row17 col1\" >0.00%</td>\n",
       "            </tr>\n",
       "            <tr>\n",
       "                        <th id=\"T_16b63b8c_087d_11eb_a709_f0761c3cb6d8level0_row18\" class=\"row_heading level0 row18\" >rougher.input.floatbank10_sulfate</th>\n",
       "                        <td id=\"T_16b63b8c_087d_11eb_a709_f0761c3cb6d8row18_col0\" class=\"data row18 col0\" >0</td>\n",
       "                        <td id=\"T_16b63b8c_087d_11eb_a709_f0761c3cb6d8row18_col1\" class=\"data row18 col1\" >0.00%</td>\n",
       "            </tr>\n",
       "            <tr>\n",
       "                        <th id=\"T_16b63b8c_087d_11eb_a709_f0761c3cb6d8level0_row19\" class=\"row_heading level0 row19\" >rougher.input.floatbank10_xanthate</th>\n",
       "                        <td id=\"T_16b63b8c_087d_11eb_a709_f0761c3cb6d8row19_col0\" class=\"data row19 col0\" >0</td>\n",
       "                        <td id=\"T_16b63b8c_087d_11eb_a709_f0761c3cb6d8row19_col1\" class=\"data row19 col1\" >0.00%</td>\n",
       "            </tr>\n",
       "            <tr>\n",
       "                        <th id=\"T_16b63b8c_087d_11eb_a709_f0761c3cb6d8level0_row20\" class=\"row_heading level0 row20\" >rougher.input.floatbank11_sulfate</th>\n",
       "                        <td id=\"T_16b63b8c_087d_11eb_a709_f0761c3cb6d8row20_col0\" class=\"data row20 col0\" >0</td>\n",
       "                        <td id=\"T_16b63b8c_087d_11eb_a709_f0761c3cb6d8row20_col1\" class=\"data row20 col1\" >0.00%</td>\n",
       "            </tr>\n",
       "            <tr>\n",
       "                        <th id=\"T_16b63b8c_087d_11eb_a709_f0761c3cb6d8level0_row21\" class=\"row_heading level0 row21\" >rougher.input.floatbank11_xanthate</th>\n",
       "                        <td id=\"T_16b63b8c_087d_11eb_a709_f0761c3cb6d8row21_col0\" class=\"data row21 col0\" >0</td>\n",
       "                        <td id=\"T_16b63b8c_087d_11eb_a709_f0761c3cb6d8row21_col1\" class=\"data row21 col1\" >0.00%</td>\n",
       "            </tr>\n",
       "            <tr>\n",
       "                        <th id=\"T_16b63b8c_087d_11eb_a709_f0761c3cb6d8level0_row22\" class=\"row_heading level0 row22\" >rougher.state.floatbank10_a_air</th>\n",
       "                        <td id=\"T_16b63b8c_087d_11eb_a709_f0761c3cb6d8row22_col0\" class=\"data row22 col0\" >0</td>\n",
       "                        <td id=\"T_16b63b8c_087d_11eb_a709_f0761c3cb6d8row22_col1\" class=\"data row22 col1\" >0.00%</td>\n",
       "            </tr>\n",
       "            <tr>\n",
       "                        <th id=\"T_16b63b8c_087d_11eb_a709_f0761c3cb6d8level0_row23\" class=\"row_heading level0 row23\" >rougher.state.floatbank10_a_level</th>\n",
       "                        <td id=\"T_16b63b8c_087d_11eb_a709_f0761c3cb6d8row23_col0\" class=\"data row23 col0\" >0</td>\n",
       "                        <td id=\"T_16b63b8c_087d_11eb_a709_f0761c3cb6d8row23_col1\" class=\"data row23 col1\" >0.00%</td>\n",
       "            </tr>\n",
       "            <tr>\n",
       "                        <th id=\"T_16b63b8c_087d_11eb_a709_f0761c3cb6d8level0_row24\" class=\"row_heading level0 row24\" >rougher.state.floatbank10_b_air</th>\n",
       "                        <td id=\"T_16b63b8c_087d_11eb_a709_f0761c3cb6d8row24_col0\" class=\"data row24 col0\" >0</td>\n",
       "                        <td id=\"T_16b63b8c_087d_11eb_a709_f0761c3cb6d8row24_col1\" class=\"data row24 col1\" >0.00%</td>\n",
       "            </tr>\n",
       "            <tr>\n",
       "                        <th id=\"T_16b63b8c_087d_11eb_a709_f0761c3cb6d8level0_row25\" class=\"row_heading level0 row25\" >rougher.state.floatbank10_b_level</th>\n",
       "                        <td id=\"T_16b63b8c_087d_11eb_a709_f0761c3cb6d8row25_col0\" class=\"data row25 col0\" >0</td>\n",
       "                        <td id=\"T_16b63b8c_087d_11eb_a709_f0761c3cb6d8row25_col1\" class=\"data row25 col1\" >0.00%</td>\n",
       "            </tr>\n",
       "            <tr>\n",
       "                        <th id=\"T_16b63b8c_087d_11eb_a709_f0761c3cb6d8level0_row26\" class=\"row_heading level0 row26\" >rougher.state.floatbank10_c_air</th>\n",
       "                        <td id=\"T_16b63b8c_087d_11eb_a709_f0761c3cb6d8row26_col0\" class=\"data row26 col0\" >0</td>\n",
       "                        <td id=\"T_16b63b8c_087d_11eb_a709_f0761c3cb6d8row26_col1\" class=\"data row26 col1\" >0.00%</td>\n",
       "            </tr>\n",
       "            <tr>\n",
       "                        <th id=\"T_16b63b8c_087d_11eb_a709_f0761c3cb6d8level0_row27\" class=\"row_heading level0 row27\" >rougher.state.floatbank10_c_level</th>\n",
       "                        <td id=\"T_16b63b8c_087d_11eb_a709_f0761c3cb6d8row27_col0\" class=\"data row27 col0\" >0</td>\n",
       "                        <td id=\"T_16b63b8c_087d_11eb_a709_f0761c3cb6d8row27_col1\" class=\"data row27 col1\" >0.00%</td>\n",
       "            </tr>\n",
       "            <tr>\n",
       "                        <th id=\"T_16b63b8c_087d_11eb_a709_f0761c3cb6d8level0_row28\" class=\"row_heading level0 row28\" >rougher.state.floatbank10_d_air</th>\n",
       "                        <td id=\"T_16b63b8c_087d_11eb_a709_f0761c3cb6d8row28_col0\" class=\"data row28 col0\" >0</td>\n",
       "                        <td id=\"T_16b63b8c_087d_11eb_a709_f0761c3cb6d8row28_col1\" class=\"data row28 col1\" >0.00%</td>\n",
       "            </tr>\n",
       "            <tr>\n",
       "                        <th id=\"T_16b63b8c_087d_11eb_a709_f0761c3cb6d8level0_row29\" class=\"row_heading level0 row29\" >rougher.state.floatbank10_d_level</th>\n",
       "                        <td id=\"T_16b63b8c_087d_11eb_a709_f0761c3cb6d8row29_col0\" class=\"data row29 col0\" >0</td>\n",
       "                        <td id=\"T_16b63b8c_087d_11eb_a709_f0761c3cb6d8row29_col1\" class=\"data row29 col1\" >0.00%</td>\n",
       "            </tr>\n",
       "            <tr>\n",
       "                        <th id=\"T_16b63b8c_087d_11eb_a709_f0761c3cb6d8level0_row30\" class=\"row_heading level0 row30\" >rougher.state.floatbank10_e_air</th>\n",
       "                        <td id=\"T_16b63b8c_087d_11eb_a709_f0761c3cb6d8row30_col0\" class=\"data row30 col0\" >0</td>\n",
       "                        <td id=\"T_16b63b8c_087d_11eb_a709_f0761c3cb6d8row30_col1\" class=\"data row30 col1\" >0.00%</td>\n",
       "            </tr>\n",
       "            <tr>\n",
       "                        <th id=\"T_16b63b8c_087d_11eb_a709_f0761c3cb6d8level0_row31\" class=\"row_heading level0 row31\" >rougher.state.floatbank10_e_level</th>\n",
       "                        <td id=\"T_16b63b8c_087d_11eb_a709_f0761c3cb6d8row31_col0\" class=\"data row31 col0\" >0</td>\n",
       "                        <td id=\"T_16b63b8c_087d_11eb_a709_f0761c3cb6d8row31_col1\" class=\"data row31 col1\" >0.00%</td>\n",
       "            </tr>\n",
       "            <tr>\n",
       "                        <th id=\"T_16b63b8c_087d_11eb_a709_f0761c3cb6d8level0_row32\" class=\"row_heading level0 row32\" >rougher.state.floatbank10_f_air</th>\n",
       "                        <td id=\"T_16b63b8c_087d_11eb_a709_f0761c3cb6d8row32_col0\" class=\"data row32 col0\" >0</td>\n",
       "                        <td id=\"T_16b63b8c_087d_11eb_a709_f0761c3cb6d8row32_col1\" class=\"data row32 col1\" >0.00%</td>\n",
       "            </tr>\n",
       "            <tr>\n",
       "                        <th id=\"T_16b63b8c_087d_11eb_a709_f0761c3cb6d8level0_row33\" class=\"row_heading level0 row33\" >rougher.state.floatbank10_f_level</th>\n",
       "                        <td id=\"T_16b63b8c_087d_11eb_a709_f0761c3cb6d8row33_col0\" class=\"data row33 col0\" >0</td>\n",
       "                        <td id=\"T_16b63b8c_087d_11eb_a709_f0761c3cb6d8row33_col1\" class=\"data row33 col1\" >0.00%</td>\n",
       "            </tr>\n",
       "            <tr>\n",
       "                        <th id=\"T_16b63b8c_087d_11eb_a709_f0761c3cb6d8level0_row34\" class=\"row_heading level0 row34\" >secondary_cleaner.state.floatbank2_a_air</th>\n",
       "                        <td id=\"T_16b63b8c_087d_11eb_a709_f0761c3cb6d8row34_col0\" class=\"data row34 col0\" >0</td>\n",
       "                        <td id=\"T_16b63b8c_087d_11eb_a709_f0761c3cb6d8row34_col1\" class=\"data row34 col1\" >0.00%</td>\n",
       "            </tr>\n",
       "            <tr>\n",
       "                        <th id=\"T_16b63b8c_087d_11eb_a709_f0761c3cb6d8level0_row35\" class=\"row_heading level0 row35\" >secondary_cleaner.state.floatbank2_a_level</th>\n",
       "                        <td id=\"T_16b63b8c_087d_11eb_a709_f0761c3cb6d8row35_col0\" class=\"data row35 col0\" >0</td>\n",
       "                        <td id=\"T_16b63b8c_087d_11eb_a709_f0761c3cb6d8row35_col1\" class=\"data row35 col1\" >0.00%</td>\n",
       "            </tr>\n",
       "            <tr>\n",
       "                        <th id=\"T_16b63b8c_087d_11eb_a709_f0761c3cb6d8level0_row36\" class=\"row_heading level0 row36\" >secondary_cleaner.state.floatbank2_b_air</th>\n",
       "                        <td id=\"T_16b63b8c_087d_11eb_a709_f0761c3cb6d8row36_col0\" class=\"data row36 col0\" >0</td>\n",
       "                        <td id=\"T_16b63b8c_087d_11eb_a709_f0761c3cb6d8row36_col1\" class=\"data row36 col1\" >0.00%</td>\n",
       "            </tr>\n",
       "            <tr>\n",
       "                        <th id=\"T_16b63b8c_087d_11eb_a709_f0761c3cb6d8level0_row37\" class=\"row_heading level0 row37\" >secondary_cleaner.state.floatbank2_b_level</th>\n",
       "                        <td id=\"T_16b63b8c_087d_11eb_a709_f0761c3cb6d8row37_col0\" class=\"data row37 col0\" >0</td>\n",
       "                        <td id=\"T_16b63b8c_087d_11eb_a709_f0761c3cb6d8row37_col1\" class=\"data row37 col1\" >0.00%</td>\n",
       "            </tr>\n",
       "            <tr>\n",
       "                        <th id=\"T_16b63b8c_087d_11eb_a709_f0761c3cb6d8level0_row38\" class=\"row_heading level0 row38\" >secondary_cleaner.state.floatbank3_a_air</th>\n",
       "                        <td id=\"T_16b63b8c_087d_11eb_a709_f0761c3cb6d8row38_col0\" class=\"data row38 col0\" >0</td>\n",
       "                        <td id=\"T_16b63b8c_087d_11eb_a709_f0761c3cb6d8row38_col1\" class=\"data row38 col1\" >0.00%</td>\n",
       "            </tr>\n",
       "            <tr>\n",
       "                        <th id=\"T_16b63b8c_087d_11eb_a709_f0761c3cb6d8level0_row39\" class=\"row_heading level0 row39\" >secondary_cleaner.state.floatbank3_a_level</th>\n",
       "                        <td id=\"T_16b63b8c_087d_11eb_a709_f0761c3cb6d8row39_col0\" class=\"data row39 col0\" >0</td>\n",
       "                        <td id=\"T_16b63b8c_087d_11eb_a709_f0761c3cb6d8row39_col1\" class=\"data row39 col1\" >0.00%</td>\n",
       "            </tr>\n",
       "            <tr>\n",
       "                        <th id=\"T_16b63b8c_087d_11eb_a709_f0761c3cb6d8level0_row40\" class=\"row_heading level0 row40\" >secondary_cleaner.state.floatbank3_b_air</th>\n",
       "                        <td id=\"T_16b63b8c_087d_11eb_a709_f0761c3cb6d8row40_col0\" class=\"data row40 col0\" >0</td>\n",
       "                        <td id=\"T_16b63b8c_087d_11eb_a709_f0761c3cb6d8row40_col1\" class=\"data row40 col1\" >0.00%</td>\n",
       "            </tr>\n",
       "            <tr>\n",
       "                        <th id=\"T_16b63b8c_087d_11eb_a709_f0761c3cb6d8level0_row41\" class=\"row_heading level0 row41\" >secondary_cleaner.state.floatbank3_b_level</th>\n",
       "                        <td id=\"T_16b63b8c_087d_11eb_a709_f0761c3cb6d8row41_col0\" class=\"data row41 col0\" >0</td>\n",
       "                        <td id=\"T_16b63b8c_087d_11eb_a709_f0761c3cb6d8row41_col1\" class=\"data row41 col1\" >0.00%</td>\n",
       "            </tr>\n",
       "            <tr>\n",
       "                        <th id=\"T_16b63b8c_087d_11eb_a709_f0761c3cb6d8level0_row42\" class=\"row_heading level0 row42\" >secondary_cleaner.state.floatbank4_a_air</th>\n",
       "                        <td id=\"T_16b63b8c_087d_11eb_a709_f0761c3cb6d8row42_col0\" class=\"data row42 col0\" >0</td>\n",
       "                        <td id=\"T_16b63b8c_087d_11eb_a709_f0761c3cb6d8row42_col1\" class=\"data row42 col1\" >0.00%</td>\n",
       "            </tr>\n",
       "            <tr>\n",
       "                        <th id=\"T_16b63b8c_087d_11eb_a709_f0761c3cb6d8level0_row43\" class=\"row_heading level0 row43\" >secondary_cleaner.state.floatbank4_a_level</th>\n",
       "                        <td id=\"T_16b63b8c_087d_11eb_a709_f0761c3cb6d8row43_col0\" class=\"data row43 col0\" >0</td>\n",
       "                        <td id=\"T_16b63b8c_087d_11eb_a709_f0761c3cb6d8row43_col1\" class=\"data row43 col1\" >0.00%</td>\n",
       "            </tr>\n",
       "            <tr>\n",
       "                        <th id=\"T_16b63b8c_087d_11eb_a709_f0761c3cb6d8level0_row44\" class=\"row_heading level0 row44\" >secondary_cleaner.state.floatbank4_b_air</th>\n",
       "                        <td id=\"T_16b63b8c_087d_11eb_a709_f0761c3cb6d8row44_col0\" class=\"data row44 col0\" >0</td>\n",
       "                        <td id=\"T_16b63b8c_087d_11eb_a709_f0761c3cb6d8row44_col1\" class=\"data row44 col1\" >0.00%</td>\n",
       "            </tr>\n",
       "            <tr>\n",
       "                        <th id=\"T_16b63b8c_087d_11eb_a709_f0761c3cb6d8level0_row45\" class=\"row_heading level0 row45\" >secondary_cleaner.state.floatbank4_b_level</th>\n",
       "                        <td id=\"T_16b63b8c_087d_11eb_a709_f0761c3cb6d8row45_col0\" class=\"data row45 col0\" >0</td>\n",
       "                        <td id=\"T_16b63b8c_087d_11eb_a709_f0761c3cb6d8row45_col1\" class=\"data row45 col1\" >0.00%</td>\n",
       "            </tr>\n",
       "            <tr>\n",
       "                        <th id=\"T_16b63b8c_087d_11eb_a709_f0761c3cb6d8level0_row46\" class=\"row_heading level0 row46\" >secondary_cleaner.state.floatbank5_a_air</th>\n",
       "                        <td id=\"T_16b63b8c_087d_11eb_a709_f0761c3cb6d8row46_col0\" class=\"data row46 col0\" >0</td>\n",
       "                        <td id=\"T_16b63b8c_087d_11eb_a709_f0761c3cb6d8row46_col1\" class=\"data row46 col1\" >0.00%</td>\n",
       "            </tr>\n",
       "            <tr>\n",
       "                        <th id=\"T_16b63b8c_087d_11eb_a709_f0761c3cb6d8level0_row47\" class=\"row_heading level0 row47\" >secondary_cleaner.state.floatbank5_a_level</th>\n",
       "                        <td id=\"T_16b63b8c_087d_11eb_a709_f0761c3cb6d8row47_col0\" class=\"data row47 col0\" >0</td>\n",
       "                        <td id=\"T_16b63b8c_087d_11eb_a709_f0761c3cb6d8row47_col1\" class=\"data row47 col1\" >0.00%</td>\n",
       "            </tr>\n",
       "            <tr>\n",
       "                        <th id=\"T_16b63b8c_087d_11eb_a709_f0761c3cb6d8level0_row48\" class=\"row_heading level0 row48\" >secondary_cleaner.state.floatbank5_b_air</th>\n",
       "                        <td id=\"T_16b63b8c_087d_11eb_a709_f0761c3cb6d8row48_col0\" class=\"data row48 col0\" >0</td>\n",
       "                        <td id=\"T_16b63b8c_087d_11eb_a709_f0761c3cb6d8row48_col1\" class=\"data row48 col1\" >0.00%</td>\n",
       "            </tr>\n",
       "            <tr>\n",
       "                        <th id=\"T_16b63b8c_087d_11eb_a709_f0761c3cb6d8level0_row49\" class=\"row_heading level0 row49\" >secondary_cleaner.state.floatbank5_b_level</th>\n",
       "                        <td id=\"T_16b63b8c_087d_11eb_a709_f0761c3cb6d8row49_col0\" class=\"data row49 col0\" >0</td>\n",
       "                        <td id=\"T_16b63b8c_087d_11eb_a709_f0761c3cb6d8row49_col1\" class=\"data row49 col1\" >0.00%</td>\n",
       "            </tr>\n",
       "            <tr>\n",
       "                        <th id=\"T_16b63b8c_087d_11eb_a709_f0761c3cb6d8level0_row50\" class=\"row_heading level0 row50\" >secondary_cleaner.state.floatbank6_a_air</th>\n",
       "                        <td id=\"T_16b63b8c_087d_11eb_a709_f0761c3cb6d8row50_col0\" class=\"data row50 col0\" >0</td>\n",
       "                        <td id=\"T_16b63b8c_087d_11eb_a709_f0761c3cb6d8row50_col1\" class=\"data row50 col1\" >0.00%</td>\n",
       "            </tr>\n",
       "            <tr>\n",
       "                        <th id=\"T_16b63b8c_087d_11eb_a709_f0761c3cb6d8level0_row51\" class=\"row_heading level0 row51\" >secondary_cleaner.state.floatbank6_a_level</th>\n",
       "                        <td id=\"T_16b63b8c_087d_11eb_a709_f0761c3cb6d8row51_col0\" class=\"data row51 col0\" >0</td>\n",
       "                        <td id=\"T_16b63b8c_087d_11eb_a709_f0761c3cb6d8row51_col1\" class=\"data row51 col1\" >0.00%</td>\n",
       "            </tr>\n",
       "            <tr>\n",
       "                        <th id=\"T_16b63b8c_087d_11eb_a709_f0761c3cb6d8level0_row52\" class=\"row_heading level0 row52\" >final.output.recovery</th>\n",
       "                        <td id=\"T_16b63b8c_087d_11eb_a709_f0761c3cb6d8row52_col0\" class=\"data row52 col0\" >0</td>\n",
       "                        <td id=\"T_16b63b8c_087d_11eb_a709_f0761c3cb6d8row52_col1\" class=\"data row52 col1\" >0.00%</td>\n",
       "            </tr>\n",
       "            <tr>\n",
       "                        <th id=\"T_16b63b8c_087d_11eb_a709_f0761c3cb6d8level0_row53\" class=\"row_heading level0 row53\" >rougher.output.recovery</th>\n",
       "                        <td id=\"T_16b63b8c_087d_11eb_a709_f0761c3cb6d8row53_col0\" class=\"data row53 col0\" >0</td>\n",
       "                        <td id=\"T_16b63b8c_087d_11eb_a709_f0761c3cb6d8row53_col1\" class=\"data row53 col1\" >0.00%</td>\n",
       "            </tr>\n",
       "    </tbody></table>"
      ],
      "text/plain": [
       "<pandas.io.formats.style.Styler at 0x977dbddc0>"
      ]
     },
     "execution_count": 21,
     "metadata": {},
     "output_type": "execute_result"
    }
   ],
   "source": [
    "percent_nan(train_select_feature)"
   ]
  },
  {
   "cell_type": "markdown",
   "metadata": {},
   "source": [
    "# <a id='2'> 2. Анализ данных</a> "
   ]
  },
  {
   "cell_type": "markdown",
   "metadata": {},
   "source": [
    "## <a id='2_1'> 2.1 Анализ концентрации металлов (Au, Ag, Pb) на различных этапах очистки</a> "
   ]
  },
  {
   "cell_type": "markdown",
   "metadata": {},
   "source": [
    "Данные о концентрации металлов содержатся в столбцах:\n",
    "- Начальная концентрация\n",
    "    - `rougher.input.feed_ag`\n",
    "    - `rougher.input.feed_au`\n",
    "    - `rougher.input.feed_pb`\n",
    "- После чернового процесса\n",
    "    - `rougher.output.concentrate_ag`\n",
    "    - `rougher.output.concentrate_pb`\n",
    "    - `rougher.output.concentrate_au`\n",
    "- После первой очистки\n",
    "    - `primary_cleaner.output.concentrate_ag`\n",
    "    - `primary_cleaner.output.concentrate_au`\n",
    "    - `primary_cleaner.output.concentrate_pb`\n",
    "- После второй очистки\n",
    "    - `final.output.concentrate_ag`\n",
    "    - `final.output.concentrate_pb`\n",
    "    - `final.output.concentrate_au`\n",
    "    \n",
    "Построим графики для каждого металла с каждым этапом измерения концентрации."
   ]
  },
  {
   "cell_type": "code",
   "execution_count": 22,
   "metadata": {},
   "outputs": [],
   "source": [
    "concentrate_ag = ['rougher.input.feed_ag', 'rougher.output.concentrate_ag', \n",
    "                  'primary_cleaner.output.concentrate_ag', 'final.output.concentrate_ag']\n",
    "concentrate_au = ['rougher.input.feed_au', 'rougher.output.concentrate_au', \n",
    "                  'primary_cleaner.output.concentrate_au', 'final.output.concentrate_au']\n",
    "concentrate_pb = ['rougher.input.feed_pb', 'rougher.output.concentrate_pb', \n",
    "                  'primary_cleaner.output.concentrate_pb', 'final.output.concentrate_pb']"
   ]
  },
  {
   "cell_type": "code",
   "execution_count": 23,
   "metadata": {},
   "outputs": [],
   "source": [
    "def get_hist(data, columns, material):\n",
    "    sns.set(style=\"white\", palette=\"muted\", color_codes=True)\n",
    "    f, ax = plt.subplots(figsize=(12, 6), dpi= 80)\n",
    "    plt.title('Концентрация '+ material+' на различных этапах обработки')\n",
    "\n",
    "    sns.boxplot(data=data[columns], orient=\"h\")\n",
    "\n",
    "    ax.set_xlabel('Концентрация')\n",
    "    ax.grid(True)\n",
    "    plt.show()\n"
   ]
  },
  {
   "cell_type": "code",
   "execution_count": 24,
   "metadata": {},
   "outputs": [
    {
     "data": {
      "image/png": "[encoded data removed]",
      "text/plain": [
       "<Figure size 960x480 with 1 Axes>"
      ]
     },
     "metadata": {},
     "output_type": "display_data"
    }
   ],
   "source": [
    "get_hist(gold_recovery_train, concentrate_ag, 'серебра')"
   ]
  },
  {
   "cell_type": "code",
   "execution_count": 25,
   "metadata": {},
   "outputs": [
    {
     "data": {
      "image/png": "[encoded data removed]",
      "text/plain": [
       "<Figure size 960x480 with 1 Axes>"
      ]
     },
     "metadata": {},
     "output_type": "display_data"
    }
   ],
   "source": [
    "get_hist(gold_recovery_train, concentrate_pb, 'свинца')"
   ]
  },
  {
   "cell_type": "code",
   "execution_count": 26,
   "metadata": {},
   "outputs": [
    {
     "data": {
      "image/png": "[encoded data removed]",
      "text/plain": [
       "<Figure size 960x480 with 1 Axes>"
      ]
     },
     "metadata": {},
     "output_type": "display_data"
    }
   ],
   "source": [
    "get_hist(gold_recovery_train, concentrate_au, 'золота')"
   ]
  },
  {
   "cell_type": "markdown",
   "metadata": {},
   "source": [
    "**Вывод:**\n",
    "\n",
    "По графикам хорошо видно, как поэтапно уменьшается среднее значение концентрации ***серебра(Ag)*** в сырье и увеличивается концентрация ***золота(Au)***.\n",
    "Среднее значение концентрации ***свинца(Pb)*** также увеличивается."
   ]
  },
  {
   "cell_type": "markdown",
   "metadata": {},
   "source": [
    "## <a id='2_2'> 2.2 Сравнение распределения размеров гранул сырья на обучающей и тестовой выборках.</a> "
   ]
  },
  {
   "cell_type": "code",
   "execution_count": 27,
   "metadata": {},
   "outputs": [
    {
     "name": "stdout",
     "output_type": "stream",
     "text": [
      "primary_cleaner.input.feed_size\n",
      "rougher.input.feed_size\n"
     ]
    }
   ],
   "source": [
    "for column in gold_recovery_train.columns:\n",
    "    if 'feed_size' in column:\n",
    "        print (column)"
   ]
  },
  {
   "cell_type": "markdown",
   "metadata": {},
   "source": [
    "Информация о резмере гранул сырья содержится в столбцах `primary_cleaner.input.feed_size` и `rougher.input.feed_size`"
   ]
  },
  {
   "cell_type": "code",
   "execution_count": 28,
   "metadata": {},
   "outputs": [],
   "source": [
    "def hist_plot(column, stage):\n",
    "    train = gold_recovery_train[column].dropna()\n",
    "    test = gold_recovery_test[column].dropna()\n",
    "    mean_train = np.mean(train)\n",
    "    var_train = np.var(train)\n",
    "    std_train = np.sqrt(var_train)\n",
    "    mean_test = np.mean(test)\n",
    "    var_test = np.var(test)\n",
    "    std_test = np.sqrt(var_test)\n",
    "    \n",
    "    sns.set(style=\"white\", palette=\"muted\", color_codes=True)\n",
    "    \n",
    "    f, ax = plt.subplots(figsize=(8, 8), dpi= 80)\n",
    "    plt.title('Распределение размеров гранул сырья на этапе '+stage)\n",
    "    sns.distplot(train, label=\"Train\", \n",
    "                 hist_kws={'density':False}, kde_kws={'linewidth':1})\n",
    "    sns.distplot(test, label=\"Test\", \n",
    "                 hist_kws={'density':False}, kde_kws={'linewidth':1})\n",
    "    \n",
    "    plt.legend()\n",
    "    plt.show()\n",
    "    \n",
    "    print('Среднее значение в обучающей выборке:', mean_train)\n",
    "    print('Стандартное отклонение в обучающей выборке:', std_train)\n",
    "    print('Среднее значение в тестовой выборке:', mean_test)\n",
    "    print('Стандартное отклонение в тестовой выборке:', std_test)"
   ]
  },
  {
   "cell_type": "code",
   "execution_count": 29,
   "metadata": {},
   "outputs": [
    {
     "data": {
      "image/png": "[encoded data removed]",
      "text/plain": [
       "<Figure size 640x640 with 1 Axes>"
      ]
     },
     "metadata": {},
     "output_type": "display_data"
    },
    {
     "name": "stdout",
     "output_type": "stream",
     "text": [
      "Среднее значение в обучающей выборке: 58.67644376412437\n",
      "Стандартное отклонение в обучающей выборке: 23.921863317984805\n",
      "Среднее значение в тестовой выборке: 55.93753506406798\n",
      "Стандартное отклонение в тестовой выборке: 22.72230614049458\n"
     ]
    }
   ],
   "source": [
    "hist_plot('rougher.input.feed_size', 'черновой обработки')"
   ]
  },
  {
   "cell_type": "code",
   "execution_count": 30,
   "metadata": {},
   "outputs": [
    {
     "data": {
      "image/png": "[encoded data removed]",
      "text/plain": [
       "<Figure size 640x640 with 1 Axes>"
      ]
     },
     "metadata": {},
     "output_type": "display_data"
    },
    {
     "name": "stdout",
     "output_type": "stream",
     "text": [
      "Среднее значение в обучающей выборке: 7.29728487125721\n",
      "Стандартное отклонение в обучающей выборке: 0.6191473986007594\n",
      "Среднее значение в тестовой выборке: 7.264651292245429\n",
      "Стандартное отклонение в тестовой выборке: 0.6114735639413534\n"
     ]
    }
   ],
   "source": [
    "hist_plot('primary_cleaner.input.feed_size', 'первичной обработки')"
   ]
  },
  {
   "cell_type": "markdown",
   "metadata": {},
   "source": [
    "Воспользуемся критерием согласия Колмогорова-Смирнова для оценки распределения размера гранул в обучающей и тестовой выборки.\n",
    "Пусть нулевая гипотеза гласит что что две исследуемые выборки подчиняются одному распределению случайной величины. Тогда альтернативная гипотеза будет будет гласить что они не подчиняются одному распределению."
   ]
  },
  {
   "cell_type": "code",
   "execution_count": 31,
   "metadata": {},
   "outputs": [],
   "source": [
    "def get_ks_statistic(column, alpha=.01):\n",
    "    train = gold_recovery_train[column].dropna()\n",
    "    test = gold_recovery_test[column].dropna() \n",
    "    results = st.ks_2samp(train, test)\n",
    "\n",
    "    print('p-значение:', results.pvalue)\n",
    "    \n",
    "    if (results.pvalue < alpha):\n",
    "        print(\"Отвергаем нулевую гипотезу\")\n",
    "    else:\n",
    "        print(\"Не получилось отвергнуть нулевую гипотезу\")"
   ]
  },
  {
   "cell_type": "code",
   "execution_count": 32,
   "metadata": {},
   "outputs": [
    {
     "name": "stdout",
     "output_type": "stream",
     "text": [
      "Для значений среднего распределения размера гранул на этапе черновой обработки:\n",
      "p-значение: 5.871332318176002e-140\n",
      "Отвергаем нулевую гипотезу\n"
     ]
    }
   ],
   "source": [
    "print('Для значений среднего распределения размера гранул на этапе черновой обработки:')\n",
    "get_ks_statistic('rougher.input.feed_size', alpha=.05)"
   ]
  },
  {
   "cell_type": "code",
   "execution_count": 33,
   "metadata": {},
   "outputs": [
    {
     "name": "stdout",
     "output_type": "stream",
     "text": [
      "Для значений среднего распределения размера гранул на этапе первичной обработки:\n",
      "p-значение: 1.20224761832344e-10\n",
      "Отвергаем нулевую гипотезу\n"
     ]
    }
   ],
   "source": [
    "print('Для значений среднего распределения размера гранул на этапе первичной обработки:')\n",
    "get_ks_statistic('primary_cleaner.input.feed_size', alpha=.05)"
   ]
  },
  {
   "cell_type": "markdown",
   "metadata": {},
   "source": [
    "**Вывод:**\n",
    "\n",
    "Распределения размеров гранул сырья на обучающей и тестовой выборках отличаются на черновом этапе обработки и на этапе первичной очистки."
   ]
  },
  {
   "cell_type": "markdown",
   "metadata": {},
   "source": [
    "## <a id='2_3'> 2.3 Исследование суммарной концентрацию всех веществ на разных стадиях</a> "
   ]
  },
  {
   "cell_type": "markdown",
   "metadata": {},
   "source": [
    "Исследуем суммарную концентрацию всех веществ на разных стадиях: в сырье, в черновом и финальном концентратах.\n",
    "Рассмотрим эти параметры из общей выборки **gold_recovery_full**. Данные содержатся в столбцах:\n",
    "`rougher.input.feed_`\n",
    "`rougher.output.concentrate_`\n",
    "`final.output.concentrate_` для каждого металла"
   ]
  },
  {
   "cell_type": "code",
   "execution_count": 34,
   "metadata": {},
   "outputs": [],
   "source": [
    "gold_recovery_full = gold_recovery_full.dropna(subset=['final.output.recovery', 'rougher.output.recovery'])\n",
    "gold_recovery_full = gold_recovery_full.fillna(method='ffill')"
   ]
  },
  {
   "cell_type": "code",
   "execution_count": 35,
   "metadata": {},
   "outputs": [],
   "source": [
    "total_concentrate = gold_recovery_full.loc[:, (concentrate_ag+concentrate_au+concentrate_pb)]"
   ]
  },
  {
   "cell_type": "code",
   "execution_count": 36,
   "metadata": {},
   "outputs": [],
   "source": [
    "def get_sum(stage):\n",
    "    total_concentrate['total_'+stage] = (total_concentrate[stage+'_ag']+\n",
    "                                       total_concentrate[stage+'_au']+\n",
    "                                       total_concentrate[stage+'_pb'])"
   ]
  },
  {
   "cell_type": "code",
   "execution_count": 37,
   "metadata": {},
   "outputs": [],
   "source": [
    "stages = ['rougher.input.feed', 'rougher.output.concentrate', 'final.output.concentrate']\n",
    "for stage in stages:\n",
    "    get_sum(stage)"
   ]
  },
  {
   "cell_type": "code",
   "execution_count": 38,
   "metadata": {},
   "outputs": [
    {
     "data": {
      "text/html": [
       "<div>\n",
       "<style scoped>\n",
       "    .dataframe tbody tr th:only-of-type {\n",
       "        vertical-align: middle;\n",
       "    }\n",
       "\n",
       "    .dataframe tbody tr th {\n",
       "        vertical-align: top;\n",
       "    }\n",
       "\n",
       "    .dataframe thead th {\n",
       "        text-align: right;\n",
       "    }\n",
       "</style>\n",
       "<table border=\"1\" class=\"dataframe\">\n",
       "  <thead>\n",
       "    <tr style=\"text-align: right;\">\n",
       "      <th></th>\n",
       "      <th>rougher.input.feed_ag</th>\n",
       "      <th>rougher.output.concentrate_ag</th>\n",
       "      <th>primary_cleaner.output.concentrate_ag</th>\n",
       "      <th>final.output.concentrate_ag</th>\n",
       "      <th>rougher.input.feed_au</th>\n",
       "      <th>rougher.output.concentrate_au</th>\n",
       "      <th>primary_cleaner.output.concentrate_au</th>\n",
       "      <th>final.output.concentrate_au</th>\n",
       "      <th>rougher.input.feed_pb</th>\n",
       "      <th>rougher.output.concentrate_pb</th>\n",
       "      <th>primary_cleaner.output.concentrate_pb</th>\n",
       "      <th>final.output.concentrate_pb</th>\n",
       "      <th>total_rougher.input.feed</th>\n",
       "      <th>total_rougher.output.concentrate</th>\n",
       "      <th>total_final.output.concentrate</th>\n",
       "    </tr>\n",
       "    <tr>\n",
       "      <th>date</th>\n",
       "      <th></th>\n",
       "      <th></th>\n",
       "      <th></th>\n",
       "      <th></th>\n",
       "      <th></th>\n",
       "      <th></th>\n",
       "      <th></th>\n",
       "      <th></th>\n",
       "      <th></th>\n",
       "      <th></th>\n",
       "      <th></th>\n",
       "      <th></th>\n",
       "      <th></th>\n",
       "      <th></th>\n",
       "      <th></th>\n",
       "    </tr>\n",
       "  </thead>\n",
       "  <tbody>\n",
       "    <tr>\n",
       "      <th>2016-01-15 00:00:00</th>\n",
       "      <td>6.100378</td>\n",
       "      <td>11.500771</td>\n",
       "      <td>8.547551</td>\n",
       "      <td>6.055403</td>\n",
       "      <td>6.486150</td>\n",
       "      <td>19.793808</td>\n",
       "      <td>34.174427</td>\n",
       "      <td>42.192020</td>\n",
       "      <td>2.284912</td>\n",
       "      <td>7.101074</td>\n",
       "      <td>10.389648</td>\n",
       "      <td>9.889648</td>\n",
       "      <td>14.871440</td>\n",
       "      <td>38.395653</td>\n",
       "      <td>58.137072</td>\n",
       "    </tr>\n",
       "    <tr>\n",
       "      <th>2016-01-15 01:00:00</th>\n",
       "      <td>6.161113</td>\n",
       "      <td>11.615865</td>\n",
       "      <td>8.558743</td>\n",
       "      <td>6.029369</td>\n",
       "      <td>6.478583</td>\n",
       "      <td>20.050975</td>\n",
       "      <td>34.118526</td>\n",
       "      <td>42.701629</td>\n",
       "      <td>2.266033</td>\n",
       "      <td>7.278807</td>\n",
       "      <td>10.497069</td>\n",
       "      <td>9.968944</td>\n",
       "      <td>14.905729</td>\n",
       "      <td>38.945647</td>\n",
       "      <td>58.699942</td>\n",
       "    </tr>\n",
       "    <tr>\n",
       "      <th>2016-01-15 02:00:00</th>\n",
       "      <td>6.116455</td>\n",
       "      <td>11.695753</td>\n",
       "      <td>8.603505</td>\n",
       "      <td>6.055926</td>\n",
       "      <td>6.362222</td>\n",
       "      <td>19.737170</td>\n",
       "      <td>33.969464</td>\n",
       "      <td>42.657501</td>\n",
       "      <td>2.159622</td>\n",
       "      <td>7.216833</td>\n",
       "      <td>10.354494</td>\n",
       "      <td>10.213995</td>\n",
       "      <td>14.638299</td>\n",
       "      <td>38.649756</td>\n",
       "      <td>58.927421</td>\n",
       "    </tr>\n",
       "  </tbody>\n",
       "</table>\n",
       "</div>"
      ],
      "text/plain": [
       "                     rougher.input.feed_ag  rougher.output.concentrate_ag  \\\n",
       "date                                                                        \n",
       "2016-01-15 00:00:00               6.100378                      11.500771   \n",
       "2016-01-15 01:00:00               6.161113                      11.615865   \n",
       "2016-01-15 02:00:00               6.116455                      11.695753   \n",
       "\n",
       "                     primary_cleaner.output.concentrate_ag  \\\n",
       "date                                                         \n",
       "2016-01-15 00:00:00                               8.547551   \n",
       "2016-01-15 01:00:00                               8.558743   \n",
       "2016-01-15 02:00:00                               8.603505   \n",
       "\n",
       "                     final.output.concentrate_ag  rougher.input.feed_au  \\\n",
       "date                                                                      \n",
       "2016-01-15 00:00:00                     6.055403               6.486150   \n",
       "2016-01-15 01:00:00                     6.029369               6.478583   \n",
       "2016-01-15 02:00:00                     6.055926               6.362222   \n",
       "\n",
       "                     rougher.output.concentrate_au  \\\n",
       "date                                                 \n",
       "2016-01-15 00:00:00                      19.793808   \n",
       "2016-01-15 01:00:00                      20.050975   \n",
       "2016-01-15 02:00:00                      19.737170   \n",
       "\n",
       "                     primary_cleaner.output.concentrate_au  \\\n",
       "date                                                         \n",
       "2016-01-15 00:00:00                              34.174427   \n",
       "2016-01-15 01:00:00                              34.118526   \n",
       "2016-01-15 02:00:00                              33.969464   \n",
       "\n",
       "                     final.output.concentrate_au  rougher.input.feed_pb  \\\n",
       "date                                                                      \n",
       "2016-01-15 00:00:00                    42.192020               2.284912   \n",
       "2016-01-15 01:00:00                    42.701629               2.266033   \n",
       "2016-01-15 02:00:00                    42.657501               2.159622   \n",
       "\n",
       "                     rougher.output.concentrate_pb  \\\n",
       "date                                                 \n",
       "2016-01-15 00:00:00                       7.101074   \n",
       "2016-01-15 01:00:00                       7.278807   \n",
       "2016-01-15 02:00:00                       7.216833   \n",
       "\n",
       "                     primary_cleaner.output.concentrate_pb  \\\n",
       "date                                                         \n",
       "2016-01-15 00:00:00                              10.389648   \n",
       "2016-01-15 01:00:00                              10.497069   \n",
       "2016-01-15 02:00:00                              10.354494   \n",
       "\n",
       "                     final.output.concentrate_pb  total_rougher.input.feed  \\\n",
       "date                                                                         \n",
       "2016-01-15 00:00:00                     9.889648                 14.871440   \n",
       "2016-01-15 01:00:00                     9.968944                 14.905729   \n",
       "2016-01-15 02:00:00                    10.213995                 14.638299   \n",
       "\n",
       "                     total_rougher.output.concentrate  \\\n",
       "date                                                    \n",
       "2016-01-15 00:00:00                         38.395653   \n",
       "2016-01-15 01:00:00                         38.945647   \n",
       "2016-01-15 02:00:00                         38.649756   \n",
       "\n",
       "                     total_final.output.concentrate  \n",
       "date                                                 \n",
       "2016-01-15 00:00:00                       58.137072  \n",
       "2016-01-15 01:00:00                       58.699942  \n",
       "2016-01-15 02:00:00                       58.927421  "
      ]
     },
     "execution_count": 38,
     "metadata": {},
     "output_type": "execute_result"
    }
   ],
   "source": [
    "total_concentrate.head(3)"
   ]
  },
  {
   "cell_type": "code",
   "execution_count": 39,
   "metadata": {},
   "outputs": [
    {
     "data": {
      "image/png": "[encoded data removed]",
      "text/plain": [
       "<Figure size 960x480 with 1 Axes>"
      ]
     },
     "metadata": {},
     "output_type": "display_data"
    }
   ],
   "source": [
    "sns.set(style=\"white\", palette=\"muted\", color_codes=True)\n",
    "f, ax = plt.subplots(figsize=(12, 6), dpi= 80)\n",
    "plt.title('Суммарная концентрация на каждом этапе')\n",
    "sns.distplot(total_concentrate['total_rougher.input.feed'], label='сырьё', \n",
    "             hist_kws={'density':False}, kde_kws={'linewidth':1})\n",
    "sns.distplot(total_concentrate['total_rougher.output.concentrate'], label='черновая очистка', \n",
    "             hist_kws={'density':False}, kde_kws={'linewidth':1})\n",
    "sns.distplot(total_concentrate['total_final.output.concentrate'], label='финальный концентрат', \n",
    "             hist_kws={'density':False}, kde_kws={'linewidth':1})\n",
    "ax.set_xlabel('Суммарная концентрация')\n",
    "ax.grid(True)\n",
    "plt.legend()\n",
    "plt.show()"
   ]
  },
  {
   "cell_type": "markdown",
   "metadata": {},
   "source": [
    "**Вывод:**\n",
    "\n",
    "По графику видно, что на двух их трёх этапах присутствуют нулевые значения суммарной концентрации металлов. Такие данные могут быть ошибочными, или не информативными. Удалим их из обеих выборок."
   ]
  },
  {
   "cell_type": "code",
   "execution_count": 40,
   "metadata": {},
   "outputs": [
    {
     "name": "stdout",
     "output_type": "stream",
     "text": [
      "Размер выборки до удаления (19439, 15)\n",
      "Размер выборки после удаления (18949, 15)\n"
     ]
    }
   ],
   "source": [
    "total_concentrate_filter = total_concentrate.loc[total_concentrate['total_rougher.input.feed']!= 0]\n",
    "total_concentrate_filter = total_concentrate_filter.loc[total_concentrate_filter['total_rougher.output.concentrate']!= 0] \n",
    "total_concentrate_filter = total_concentrate_filter.loc[total_concentrate_filter['total_final.output.concentrate']!= 0]\n",
    "print('Размер выборки до удаления', total_concentrate.shape)\n",
    "print('Размер выборки после удаления', total_concentrate_filter.shape)"
   ]
  },
  {
   "cell_type": "markdown",
   "metadata": {},
   "source": [
    "Удалим выбросы (Q3+3IQR) из этих данных."
   ]
  },
  {
   "cell_type": "code",
   "execution_count": 41,
   "metadata": {},
   "outputs": [],
   "source": [
    "def remove_outlier(data, column):\n",
    "    Q1 = data[column].quantile(0.25)\n",
    "    Q3 = data[column].quantile(0.75)\n",
    "    IQR = Q3 - Q1\n",
    "    data = data.loc[data[column] <= (Q3 + 3*IQR)]\n",
    "    data = data.loc[data[column] >= (Q1 - 3*IQR)]"
   ]
  },
  {
   "cell_type": "code",
   "execution_count": 42,
   "metadata": {},
   "outputs": [
    {
     "name": "stdout",
     "output_type": "stream",
     "text": [
      "Размер выборки после удаления выбросов (18949, 15)\n"
     ]
    }
   ],
   "source": [
    "remove_outlier(total_concentrate_filter, 'total_rougher.input.feed')\n",
    "remove_outlier(total_concentrate_filter, 'total_rougher.output.concentrate')\n",
    "remove_outlier(total_concentrate_filter, 'total_final.output.concentrate')\n",
    "print('Размер выборки после удаления выбросов', total_concentrate_filter.shape)"
   ]
  },
  {
   "cell_type": "code",
   "execution_count": 43,
   "metadata": {},
   "outputs": [],
   "source": [
    "train_index=(list(set(total_concentrate_filter.index).intersection(set(train_select_feature.index))))\n",
    "test_index=(list(set(total_concentrate_filter.index).intersection(set(gold_recovery_test.index))))"
   ]
  },
  {
   "cell_type": "code",
   "execution_count": 44,
   "metadata": {},
   "outputs": [],
   "source": [
    "train_gold_data = train_select_feature.loc[train_index,:]\n",
    "test_feature = gold_recovery_test.loc[test_index,:]"
   ]
  },
  {
   "cell_type": "code",
   "execution_count": 45,
   "metadata": {},
   "outputs": [
    {
     "name": "stdout",
     "output_type": "stream",
     "text": [
      "Размер обучающей выборки до удаления (14149, 54)\n",
      "Размер обучающей выборки после удаления (13795, 54)\n",
      "\n",
      "Размер тестовой выборки до удаления (5856, 52)\n",
      "Размер тестовой выборки после удаления (5154, 52)\n"
     ]
    }
   ],
   "source": [
    "print('Размер обучающей выборки до удаления', train_select_feature.shape)\n",
    "print('Размер обучающей выборки после удаления', train_gold_data.shape)\n",
    "print()\n",
    "print('Размер тестовой выборки до удаления', gold_recovery_test.shape)\n",
    "print('Размер тестовой выборки после удаления', test_feature.shape)"
   ]
  },
  {
   "cell_type": "markdown",
   "metadata": {},
   "source": [
    "Отдельно выделим целевые признаки для тестовой выборки из общего датасета."
   ]
  },
  {
   "cell_type": "code",
   "execution_count": 46,
   "metadata": {},
   "outputs": [
    {
     "name": "stdout",
     "output_type": "stream",
     "text": [
      "Размер тестовой выборки для целевого признака (5154, 2)\n"
     ]
    }
   ],
   "source": [
    "test_target = gold_recovery_full.loc[test_index,['final.output.recovery', 'rougher.output.recovery']]\n",
    "print('Размер тестовой выборки для целевого признака', test_target.shape)"
   ]
  },
  {
   "cell_type": "markdown",
   "metadata": {},
   "source": [
    "# <a id='3'> 3. Модель</a> "
   ]
  },
  {
   "cell_type": "markdown",
   "metadata": {},
   "source": [
    "## <a id='3_1'> 3.1 Функция для вычисления итоговой sMAPE</a>"
   ]
  },
  {
   "cell_type": "code",
   "execution_count": 47,
   "metadata": {},
   "outputs": [],
   "source": [
    "def get_smape(y_true, y_pred):\n",
    "    delt = np.abs(y_true-y_pred)\n",
    "    summ = (np.abs(y_true)+np.abs(y_pred))/2\n",
    "    smape = (sum(delt/summ))/len(y_true)\n",
    "    return smape"
   ]
  },
  {
   "cell_type": "markdown",
   "metadata": {},
   "source": [
    "## <a id='3_2'> 3.2 Обучение и оценка качества моделей</a>"
   ]
  },
  {
   "cell_type": "markdown",
   "metadata": {},
   "source": [
    "Разделим обучающую и тестовую выборки на две части, в зависимости от целевого признака:\n",
    "- признаки для предсказания `rougher.output.recovery`:\n",
    "    - rougher.input.feed_ag                    \n",
    "    - rougher.input.feed_pb                         \n",
    "    - rougher.input.feed_rate                       \n",
    "    - rougher.input.feed_size                       \n",
    "    - rougher.input.feed_sol                        \n",
    "    - rougher.input.feed_au                         \n",
    "    - rougher.input.floatbank10_sulfate             \n",
    "    - rougher.input.floatbank10_xanthate            \n",
    "    - rougher.input.floatbank11_sulfate             \n",
    "    - rougher.input.floatbank11_xanthate            \n",
    "    - rougher.state.floatbank10_a_air               \n",
    "    - rougher.state.floatbank10_a_level             \n",
    "    - rougher.state.floatbank10_b_air               \n",
    "    - rougher.state.floatbank10_b_level             \n",
    "    - rougher.state.floatbank10_c_air               \n",
    "    - rougher.state.floatbank10_c_level             \n",
    "    - rougher.state.floatbank10_d_air               \n",
    "    - rougher.state.floatbank10_d_level             \n",
    "    - rougher.state.floatbank10_e_air               \n",
    "    - rougher.state.floatbank10_e_level             \n",
    "    - rougher.state.floatbank10_f_air               \n",
    "    - rougher.state.floatbank10_f_level  \n",
    "- признаки для предсказания `final.output.recovery`:\n",
    "    - все признаки."
   ]
  },
  {
   "cell_type": "code",
   "execution_count": 48,
   "metadata": {},
   "outputs": [],
   "source": [
    "rougher_features = ['rougher.input.feed_ag', \n",
    "                    'rougher.input.feed_pb',\n",
    "                    'rougher.input.feed_rate',\n",
    "                    'rougher.input.feed_size',\n",
    "                    'rougher.input.feed_sol',\n",
    "                    'rougher.input.feed_au',\n",
    "                    'rougher.input.floatbank10_sulfate',\n",
    "                    'rougher.input.floatbank10_xanthate',\n",
    "                    'rougher.input.floatbank11_sulfate',\n",
    "                    'rougher.input.floatbank11_xanthate',\n",
    "                    'rougher.state.floatbank10_a_air',\n",
    "                    'rougher.state.floatbank10_a_level',\n",
    "                    'rougher.state.floatbank10_b_air',\n",
    "                    'rougher.state.floatbank10_b_level',\n",
    "                    'rougher.state.floatbank10_c_air',\n",
    "                    'rougher.state.floatbank10_c_level',\n",
    "                    'rougher.state.floatbank10_d_air',\n",
    "                    'rougher.state.floatbank10_d_level',\n",
    "                    'rougher.state.floatbank10_e_air',\n",
    "                    'rougher.state.floatbank10_e_level',\n",
    "                    'rougher.state.floatbank10_f_air',\n",
    "                    'rougher.state.floatbank10_f_level'] "
   ]
  },
  {
   "cell_type": "code",
   "execution_count": 49,
   "metadata": {},
   "outputs": [],
   "source": [
    "rougher_train_features = train_gold_data.loc[:,rougher_features]\n",
    "rougher_train_target = train_gold_data.loc[:,'rougher.output.recovery']\n",
    "\n",
    "final_train_features = train_gold_data.drop(['rougher.output.recovery', 'final.output.recovery'], axis=1)\n",
    "final_train_target = train_gold_data.loc[:,'final.output.recovery']"
   ]
  },
  {
   "cell_type": "code",
   "execution_count": 50,
   "metadata": {},
   "outputs": [],
   "source": [
    "rougher_test_features = test_feature.loc[:,rougher_features]\n",
    "rougher_test_target = test_target.loc[:,'rougher.output.recovery']\n",
    "\n",
    "final_test_features = test_feature\n",
    "final_test_target = test_target.loc[:,'final.output.recovery']"
   ]
  },
  {
   "cell_type": "code",
   "execution_count": 51,
   "metadata": {},
   "outputs": [],
   "source": [
    "final_test_features = final_test_features.fillna(method='ffill')\n",
    "rougher_test_features = rougher_test_features.fillna(method='ffill')\n",
    "#final_test_features = final_test_features.fillna(method='pad')"
   ]
  },
  {
   "cell_type": "markdown",
   "metadata": {},
   "source": [
    "В качестве моделей используем Линейную регрессию, Случайный лес и Градиентный бустинг. \n",
    "\n",
    "Наилучшие параметры подберём с помошью RandomizedSearchCV"
   ]
  },
  {
   "cell_type": "code",
   "execution_count": 52,
   "metadata": {},
   "outputs": [],
   "source": [
    "#используем в как метрику качества sMAPE\n",
    "my_scorer = metrics.make_scorer(get_smape, greater_is_better=False, needs_proba=False, needs_threshold=False)"
   ]
  },
  {
   "cell_type": "code",
   "execution_count": 53,
   "metadata": {},
   "outputs": [],
   "source": [
    "def get_score(model, X_train, y_train, X_valid, y_valid):\n",
    "    clf = model.fit(X_train, y_train)\n",
    "    res = cross_val_score(clf, X_train, y_train, scoring=my_scorer, cv=5)\n",
    "\n",
    "    print('CV_score: {:.2%}'.format(np.mean(res)))\n"
   ]
  },
  {
   "cell_type": "code",
   "execution_count": 54,
   "metadata": {},
   "outputs": [],
   "source": [
    "def get_best_params(features, target, model, parameters):\n",
    "\n",
    "    #Подберём лучшие параметры модели с помощью RandomizedSearchCV\n",
    "    clf = RandomizedSearchCV(estimator = model,\n",
    "                             param_distributions = parameters,\n",
    "                             scoring=my_scorer, cv = 5,\n",
    "                             random_state = 124)\n",
    "    search = clf.fit(features, target)\n",
    "    print('Best Params: ', search.best_params_)"
   ]
  },
  {
   "cell_type": "markdown",
   "metadata": {},
   "source": [
    "***Найдём лучшие параметры и оценку качества для модели Случайного леса:***"
   ]
  },
  {
   "cell_type": "code",
   "execution_count": 55,
   "metadata": {},
   "outputs": [],
   "source": [
    "parameters ={'max_depth':np.arange(1, 11), \n",
    "             'n_estimators':np.arange(10, 50, 5)}\n",
    "rand_forest = RandomForestRegressor(random_state=124)\n",
    "get_best_params(final_train_features, final_train_target, \n",
    "                rand_forest, parameters)"
   ]
  },
  {
   "cell_type": "code",
   "execution_count": 56,
   "metadata": {},
   "outputs": [],
   "source": [
    "parameters ={'max_depth':np.arange(1, 11), \n",
    "             'n_estimators':np.arange(10, 50, 5)}\n",
    "rand_forest = RandomForestRegressor(random_state=124)\n",
    "get_best_params(rougher_train_features, rougher_train_target, \n",
    "                rand_forest, parameters)"
   ]
  },
  {
   "cell_type": "markdown",
   "metadata": {},
   "source": [
    "***Найдём лучшие параметры и оценку качества для модели Градинтного бустинга:***\n",
    "- Этап 1. Подбор параметров, отвечающих за сложность модели"
   ]
  },
  {
   "cell_type": "code",
   "execution_count": 57,
   "metadata": {},
   "outputs": [
    {
     "name": "stdout",
     "output_type": "stream",
     "text": [
      "Best Params:  {'subsample': 0.9000000000000004, 'max_depth': 12}\n"
     ]
    }
   ],
   "source": [
    "parameters = {'max_depth':np.arange(3, 14),\n",
    "              'subsample':np.arange(0.5, 1, 0.05)\n",
    "             }\n",
    "g_boost = GradientBoostingRegressor(n_estimators=10, learning_rate=0.01, n_iter_no_change=10, random_state=124)\n",
    "get_best_params(final_train_features, final_train_target, \n",
    "                g_boost, parameters)"
   ]
  },
  {
   "cell_type": "markdown",
   "metadata": {},
   "source": [
    "- Этап 2. Отптимизация"
   ]
  },
  {
   "cell_type": "code",
   "execution_count": 58,
   "metadata": {},
   "outputs": [
    {
     "name": "stdout",
     "output_type": "stream",
     "text": [
      "Best Params:  {'n_estimators': 80, 'learning_rate': 0.1}\n"
     ]
    }
   ],
   "source": [
    "parameters = {'learning_rate': np.arange(0.1, 0.5, 0.1),\n",
    "              'n_estimators':np.arange(50, 100, 10)}\n",
    "g_boost = GradientBoostingRegressor(subsample=0.9, max_depth=12, random_state=124)\n",
    "get_best_params(final_train_features, final_train_target, \n",
    "                g_boost, parameters)"
   ]
  },
  {
   "cell_type": "code",
   "execution_count": 64,
   "metadata": {},
   "outputs": [
    {
     "name": "stdout",
     "output_type": "stream",
     "text": [
      "Оценка качества Линейной регрессии на final:\n",
      "CV_score: -8.15%\n"
     ]
    }
   ],
   "source": [
    "print('Оценка качества Линейной регрессии на final:')\n",
    "get_score(LinearRegression(), final_train_features, final_train_target, final_test_features, final_test_target)"
   ]
  },
  {
   "cell_type": "code",
   "execution_count": 65,
   "metadata": {},
   "outputs": [
    {
     "name": "stdout",
     "output_type": "stream",
     "text": [
      "Оценка качества Линейной регрессии на rougher:\n",
      "CV_score: -5.15%\n"
     ]
    }
   ],
   "source": [
    "print('Оценка качества Линейной регрессии на rougher:')\n",
    "get_score(LinearRegression(), rougher_train_features, rougher_train_target, \n",
    "          rougher_test_features, rougher_test_target)"
   ]
  },
  {
   "cell_type": "code",
   "execution_count": 66,
   "metadata": {},
   "outputs": [
    {
     "name": "stdout",
     "output_type": "stream",
     "text": [
      "Оценка качества Случайного леса на final:\n",
      "CV_score: -6.63%\n"
     ]
    }
   ],
   "source": [
    "print('Оценка качества Случайного леса на final:')\n",
    "get_score(RandomForestRegressor(n_estimators=15,max_depth=10, random_state=124), \n",
    "          final_train_features, final_train_target, final_test_features, final_test_target)"
   ]
  },
  {
   "cell_type": "code",
   "execution_count": 67,
   "metadata": {},
   "outputs": [
    {
     "name": "stdout",
     "output_type": "stream",
     "text": [
      "Оценка качества Случайного леса на rougher:\n",
      "CV_score: -3.39%\n"
     ]
    }
   ],
   "source": [
    "print('Оценка качества Случайного леса на rougher:')\n",
    "get_score(RandomForestRegressor(n_estimators=15,max_depth=10, random_state=124), \n",
    "          rougher_train_features, rougher_train_target, rougher_test_features, rougher_test_target)"
   ]
  },
  {
   "cell_type": "code",
   "execution_count": 68,
   "metadata": {},
   "outputs": [
    {
     "name": "stdout",
     "output_type": "stream",
     "text": [
      "Оценка качества Градиентного бустинга на final:\n",
      "CV_score: -5.71%\n"
     ]
    }
   ],
   "source": [
    "print('Оценка качества Градиентного бустинга на final:')\n",
    "get_score(GradientBoostingRegressor(subsample=0.9, max_depth=12, n_estimators=80, learning_rate=0.1, random_state=124), \n",
    "          final_train_features, final_train_target, final_test_features, final_test_target)"
   ]
  },
  {
   "cell_type": "code",
   "execution_count": 69,
   "metadata": {},
   "outputs": [
    {
     "name": "stdout",
     "output_type": "stream",
     "text": [
      "Оценка качества Градиентного бустинга на rougher:\n",
      "CV_score: -2.82%\n"
     ]
    }
   ],
   "source": [
    "print('Оценка качества Градиентного бустинга на rougher:')\n",
    "get_score(GradientBoostingRegressor(subsample=0.9, max_depth=12, n_estimators=80, learning_rate=0.1, random_state=124), \n",
    "          rougher_train_features, rougher_train_target, rougher_test_features, rougher_test_target)"
   ]
  },
  {
   "cell_type": "markdown",
   "metadata": {},
   "source": [
    "Лучшее качество на валидационной выборке показывает модель градиентного бустинга:\n",
    "- 5.71% для признака `final.output.recovery`\n",
    "- 2.82% для признака `rougher.output.recovery`\n",
    "\n",
    "Обучим её на тренировочной выборке."
   ]
  },
  {
   "cell_type": "code",
   "execution_count": 70,
   "metadata": {},
   "outputs": [],
   "source": [
    "def smape_score(model, X_train, y_train, X_test, y_test):\n",
    "    clf = model.fit(X_train, y_train)\n",
    "    y_pred = clf.predict(X_test)\n",
    "    smape = get_smape(y_test, y_pred)\n",
    "    print('sMAPE: {:.2%}'.format(smape))\n",
    "    return smape\n",
    "    "
   ]
  },
  {
   "cell_type": "code",
   "execution_count": 75,
   "metadata": {},
   "outputs": [
    {
     "name": "stdout",
     "output_type": "stream",
     "text": [
      "sMAPE: 8.34%\n"
     ]
    }
   ],
   "source": [
    "final_smape = smape_score(GradientBoostingRegressor(subsample=0.9, \n",
    "                                                    max_depth=12, \n",
    "                                                    n_estimators=80, \n",
    "                                                    learning_rate=0.1, \n",
    "                                                    random_state=124), \n",
    "          final_train_features, final_train_target, final_test_features, final_test_target)"
   ]
  },
  {
   "cell_type": "code",
   "execution_count": 76,
   "metadata": {},
   "outputs": [
    {
     "name": "stdout",
     "output_type": "stream",
     "text": [
      "sMAPE: 4.79%\n"
     ]
    }
   ],
   "source": [
    "rougher_smape = smape_score(GradientBoostingRegressor(subsample=0.9, \n",
    "                                                      max_depth=12, \n",
    "                                                      n_estimators=80, \n",
    "                                                      learning_rate=0.1, \n",
    "                                                      random_state=124), \n",
    "          rougher_train_features, rougher_train_target, rougher_test_features, rougher_test_target)"
   ]
  },
  {
   "cell_type": "code",
   "execution_count": 77,
   "metadata": {},
   "outputs": [
    {
     "name": "stdout",
     "output_type": "stream",
     "text": [
      "Итоговая оценка качества модели GradientBoostingRegressor на тестовой выборке: 7.45%\n"
     ]
    }
   ],
   "source": [
    "total_smape = 0.25*rougher_smape + 0.75*final_smape\n",
    "print('Итоговая оценка качества модели GradientBoostingRegressor на тестовой выборке: {:.2%}'.format(total_smape))"
   ]
  },
  {
   "cell_type": "markdown",
   "metadata": {},
   "source": [
    "Сравним качество модели со случайной."
   ]
  },
  {
   "cell_type": "code",
   "execution_count": 71,
   "metadata": {},
   "outputs": [
    {
     "name": "stdout",
     "output_type": "stream",
     "text": [
      "sMAPE: 8.56%\n"
     ]
    }
   ],
   "source": [
    "dummy_final_smape = smape_score(DummyRegressor(strategy=\"mean\"), \n",
    "          final_train_features, final_train_target, final_test_features, final_test_target)"
   ]
  },
  {
   "cell_type": "code",
   "execution_count": 72,
   "metadata": {},
   "outputs": [
    {
     "name": "stdout",
     "output_type": "stream",
     "text": [
      "sMAPE: 5.38%\n"
     ]
    }
   ],
   "source": [
    "dummy_rougher_smape = smape_score(DummyRegressor(strategy=\"mean\"), \n",
    "          rougher_train_features, rougher_train_target, rougher_test_features, rougher_test_target)"
   ]
  },
  {
   "cell_type": "code",
   "execution_count": 74,
   "metadata": {},
   "outputs": [
    {
     "name": "stdout",
     "output_type": "stream",
     "text": [
      "Итоговая оценка качества Dummy модели: 7.77%\n"
     ]
    }
   ],
   "source": [
    "total_smape_dummy = 0.25*dummy_rougher_smape + 0.75*dummy_final_smape\n",
    "print('Итоговая оценка качества Dummy модели: {:.2%}'.format(total_smape_dummy))"
   ]
  },
  {
   "cell_type": "markdown",
   "metadata": {},
   "source": [
    "**Вывод:**\n",
    "Построеная нами модель предсказывает концентрацию золота после черновой обработки с качеством sMAPE: **4.79%** и финальную концентрацию после всех этапов очистки с sMAPE: **8.34%**.\n",
    "\n",
    "Финальное качество модели с учётом обоих показателей **7.45%**, что на 0.32% больше чем у случайной модели."
   ]
  },
  {
   "cell_type": "code",
   "execution_count": null,
   "metadata": {},
   "outputs": [],
   "source": []
  }
 ],
 "metadata": {
  "kernelspec": {
   "display_name": "Python 3",
   "language": "python",
   "name": "python3"
  },
  "language_info": {
   "codemirror_mode": {
    "name": "ipython",
    "version": 3
   },
   "file_extension": ".py",
   "mimetype": "text/x-python",
   "name": "python",
   "nbconvert_exporter": "python",
   "pygments_lexer": "ipython3",
   "version": "3.7.8"
  }
 },
 "nbformat": 4,
 "nbformat_minor": 2
}
