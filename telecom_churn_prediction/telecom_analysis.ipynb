{
 "cells": [
  {
   "cell_type": "markdown",
   "metadata": {},
   "source": [
    "# Телеком: исследование оттока клиентов\n",
    "\n",
    "Сравним распределения величин ежемесячных платежей (`MonthlyCharges`) всех клиентов и тех, кто ушёл. \n",
    "\n",
    "Сравним поведение клиентов этих двух групп. Посмотрим на долю пользователей интернета и телефонной связи."
   ]
  },
  {
   "cell_type": "markdown",
   "metadata": {},
   "source": [
    "## Загрузка данных"
   ]
  },
  {
   "cell_type": "code",
   "execution_count": 1,
   "metadata": {},
   "outputs": [],
   "source": [
    "import pandas as pd\n",
    "import numpy as np\n",
    "import seaborn as sns\n",
    "from scipy import stats as st\n",
    "import matplotlib.pyplot as plt"
   ]
  },
  {
   "cell_type": "code",
   "execution_count": 2,
   "metadata": {},
   "outputs": [],
   "source": [
    "\n",
    "contract = pd.read_csv('final_provider/contract.csv')\n",
    "personal = pd.read_csv('final_provider/personal.csv')\n",
    "internet = pd.read_csv('final_provider/internet.csv')\n",
    "phone = pd.read_csv('final_provider/phone.csv')"
   ]
  },
  {
   "cell_type": "code",
   "execution_count": 3,
   "metadata": {},
   "outputs": [],
   "source": [
    "datas = {'contract' : contract,\n",
    "         'personal' : personal,\n",
    "         'internet' : internet,\n",
    "         'phone' : phone}"
   ]
  },
  {
   "cell_type": "code",
   "execution_count": 4,
   "metadata": {},
   "outputs": [],
   "source": [
    "#таблица с долей пропусков\n",
    "def percent_nan(data):\n",
    "    isna_data = pd.DataFrame(data.isna().sum())\n",
    "    isna_data.columns = ['nan']\n",
    "    isna_data['rate'] = isna_data['nan']/len(data)\n",
    "    return(isna_data.style.format(\"{:.2%}\", subset='rate'))"
   ]
  },
  {
   "cell_type": "code",
   "execution_count": 5,
   "metadata": {},
   "outputs": [],
   "source": [
    "def get_df_info(df):\n",
    "    display(df.head(5))\n",
    "    display(df.info())\n",
    "    display(df.describe())\n",
    "    display(percent_nan(df))"
   ]
  },
  {
   "cell_type": "code",
   "execution_count": 6,
   "metadata": {},
   "outputs": [
    {
     "name": "stdout",
     "output_type": "stream",
     "text": [
      "Информация о таблице: contract\n"
     ]
    },
    {
     "data": {
      "text/html": [
       "<div>\n",
       "<style scoped>\n",
       "    .dataframe tbody tr th:only-of-type {\n",
       "        vertical-align: middle;\n",
       "    }\n",
       "\n",
       "    .dataframe tbody tr th {\n",
       "        vertical-align: top;\n",
       "    }\n",
       "\n",
       "    .dataframe thead th {\n",
       "        text-align: right;\n",
       "    }\n",
       "</style>\n",
       "<table border=\"1\" class=\"dataframe\">\n",
       "  <thead>\n",
       "    <tr style=\"text-align: right;\">\n",
       "      <th></th>\n",
       "      <th>customerID</th>\n",
       "      <th>BeginDate</th>\n",
       "      <th>EndDate</th>\n",
       "      <th>Type</th>\n",
       "      <th>PaperlessBilling</th>\n",
       "      <th>PaymentMethod</th>\n",
       "      <th>MonthlyCharges</th>\n",
       "      <th>TotalCharges</th>\n",
       "    </tr>\n",
       "  </thead>\n",
       "  <tbody>\n",
       "    <tr>\n",
       "      <td>0</td>\n",
       "      <td>7590-VHVEG</td>\n",
       "      <td>2020-01-01</td>\n",
       "      <td>No</td>\n",
       "      <td>Month-to-month</td>\n",
       "      <td>Yes</td>\n",
       "      <td>Electronic check</td>\n",
       "      <td>29.85</td>\n",
       "      <td>29.85</td>\n",
       "    </tr>\n",
       "    <tr>\n",
       "      <td>1</td>\n",
       "      <td>5575-GNVDE</td>\n",
       "      <td>2017-04-01</td>\n",
       "      <td>No</td>\n",
       "      <td>One year</td>\n",
       "      <td>No</td>\n",
       "      <td>Mailed check</td>\n",
       "      <td>56.95</td>\n",
       "      <td>1889.5</td>\n",
       "    </tr>\n",
       "    <tr>\n",
       "      <td>2</td>\n",
       "      <td>3668-QPYBK</td>\n",
       "      <td>2019-10-01</td>\n",
       "      <td>2019-12-01 00:00:00</td>\n",
       "      <td>Month-to-month</td>\n",
       "      <td>Yes</td>\n",
       "      <td>Mailed check</td>\n",
       "      <td>53.85</td>\n",
       "      <td>108.15</td>\n",
       "    </tr>\n",
       "    <tr>\n",
       "      <td>3</td>\n",
       "      <td>7795-CFOCW</td>\n",
       "      <td>2016-05-01</td>\n",
       "      <td>No</td>\n",
       "      <td>One year</td>\n",
       "      <td>No</td>\n",
       "      <td>Bank transfer (automatic)</td>\n",
       "      <td>42.30</td>\n",
       "      <td>1840.75</td>\n",
       "    </tr>\n",
       "    <tr>\n",
       "      <td>4</td>\n",
       "      <td>9237-HQITU</td>\n",
       "      <td>2019-09-01</td>\n",
       "      <td>2019-11-01 00:00:00</td>\n",
       "      <td>Month-to-month</td>\n",
       "      <td>Yes</td>\n",
       "      <td>Electronic check</td>\n",
       "      <td>70.70</td>\n",
       "      <td>151.65</td>\n",
       "    </tr>\n",
       "  </tbody>\n",
       "</table>\n",
       "</div>"
      ],
      "text/plain": [
       "   customerID   BeginDate              EndDate            Type  \\\n",
       "0  7590-VHVEG  2020-01-01                   No  Month-to-month   \n",
       "1  5575-GNVDE  2017-04-01                   No        One year   \n",
       "2  3668-QPYBK  2019-10-01  2019-12-01 00:00:00  Month-to-month   \n",
       "3  7795-CFOCW  2016-05-01                   No        One year   \n",
       "4  9237-HQITU  2019-09-01  2019-11-01 00:00:00  Month-to-month   \n",
       "\n",
       "  PaperlessBilling              PaymentMethod  MonthlyCharges TotalCharges  \n",
       "0              Yes           Electronic check           29.85        29.85  \n",
       "1               No               Mailed check           56.95       1889.5  \n",
       "2              Yes               Mailed check           53.85       108.15  \n",
       "3               No  Bank transfer (automatic)           42.30      1840.75  \n",
       "4              Yes           Electronic check           70.70       151.65  "
      ]
     },
     "metadata": {},
     "output_type": "display_data"
    },
    {
     "name": "stdout",
     "output_type": "stream",
     "text": [
      "<class 'pandas.core.frame.DataFrame'>\n",
      "RangeIndex: 7043 entries, 0 to 7042\n",
      "Data columns (total 8 columns):\n",
      "customerID          7043 non-null object\n",
      "BeginDate           7043 non-null object\n",
      "EndDate             7043 non-null object\n",
      "Type                7043 non-null object\n",
      "PaperlessBilling    7043 non-null object\n",
      "PaymentMethod       7043 non-null object\n",
      "MonthlyCharges      7043 non-null float64\n",
      "TotalCharges        7043 non-null object\n",
      "dtypes: float64(1), object(7)\n",
      "memory usage: 440.3+ KB\n"
     ]
    },
    {
     "data": {
      "text/plain": [
       "None"
      ]
     },
     "metadata": {},
     "output_type": "display_data"
    },
    {
     "data": {
      "text/html": [
       "<div>\n",
       "<style scoped>\n",
       "    .dataframe tbody tr th:only-of-type {\n",
       "        vertical-align: middle;\n",
       "    }\n",
       "\n",
       "    .dataframe tbody tr th {\n",
       "        vertical-align: top;\n",
       "    }\n",
       "\n",
       "    .dataframe thead th {\n",
       "        text-align: right;\n",
       "    }\n",
       "</style>\n",
       "<table border=\"1\" class=\"dataframe\">\n",
       "  <thead>\n",
       "    <tr style=\"text-align: right;\">\n",
       "      <th></th>\n",
       "      <th>MonthlyCharges</th>\n",
       "    </tr>\n",
       "  </thead>\n",
       "  <tbody>\n",
       "    <tr>\n",
       "      <td>count</td>\n",
       "      <td>7043.000000</td>\n",
       "    </tr>\n",
       "    <tr>\n",
       "      <td>mean</td>\n",
       "      <td>64.761692</td>\n",
       "    </tr>\n",
       "    <tr>\n",
       "      <td>std</td>\n",
       "      <td>30.090047</td>\n",
       "    </tr>\n",
       "    <tr>\n",
       "      <td>min</td>\n",
       "      <td>18.250000</td>\n",
       "    </tr>\n",
       "    <tr>\n",
       "      <td>25%</td>\n",
       "      <td>35.500000</td>\n",
       "    </tr>\n",
       "    <tr>\n",
       "      <td>50%</td>\n",
       "      <td>70.350000</td>\n",
       "    </tr>\n",
       "    <tr>\n",
       "      <td>75%</td>\n",
       "      <td>89.850000</td>\n",
       "    </tr>\n",
       "    <tr>\n",
       "      <td>max</td>\n",
       "      <td>118.750000</td>\n",
       "    </tr>\n",
       "  </tbody>\n",
       "</table>\n",
       "</div>"
      ],
      "text/plain": [
       "       MonthlyCharges\n",
       "count     7043.000000\n",
       "mean        64.761692\n",
       "std         30.090047\n",
       "min         18.250000\n",
       "25%         35.500000\n",
       "50%         70.350000\n",
       "75%         89.850000\n",
       "max        118.750000"
      ]
     },
     "metadata": {},
     "output_type": "display_data"
    },
    {
     "data": {
      "text/html": [
       "<style  type=\"text/css\" >\n",
       "</style><table id=\"T_ebd71c78_648d_11eb_9139_f0761c3cb6d8\" ><thead>    <tr>        <th class=\"blank level0\" ></th>        <th class=\"col_heading level0 col0\" >nan</th>        <th class=\"col_heading level0 col1\" >rate</th>    </tr></thead><tbody>\n",
       "                <tr>\n",
       "                        <th id=\"T_ebd71c78_648d_11eb_9139_f0761c3cb6d8level0_row0\" class=\"row_heading level0 row0\" >customerID</th>\n",
       "                        <td id=\"T_ebd71c78_648d_11eb_9139_f0761c3cb6d8row0_col0\" class=\"data row0 col0\" >0</td>\n",
       "                        <td id=\"T_ebd71c78_648d_11eb_9139_f0761c3cb6d8row0_col1\" class=\"data row0 col1\" >0.00%</td>\n",
       "            </tr>\n",
       "            <tr>\n",
       "                        <th id=\"T_ebd71c78_648d_11eb_9139_f0761c3cb6d8level0_row1\" class=\"row_heading level0 row1\" >BeginDate</th>\n",
       "                        <td id=\"T_ebd71c78_648d_11eb_9139_f0761c3cb6d8row1_col0\" class=\"data row1 col0\" >0</td>\n",
       "                        <td id=\"T_ebd71c78_648d_11eb_9139_f0761c3cb6d8row1_col1\" class=\"data row1 col1\" >0.00%</td>\n",
       "            </tr>\n",
       "            <tr>\n",
       "                        <th id=\"T_ebd71c78_648d_11eb_9139_f0761c3cb6d8level0_row2\" class=\"row_heading level0 row2\" >EndDate</th>\n",
       "                        <td id=\"T_ebd71c78_648d_11eb_9139_f0761c3cb6d8row2_col0\" class=\"data row2 col0\" >0</td>\n",
       "                        <td id=\"T_ebd71c78_648d_11eb_9139_f0761c3cb6d8row2_col1\" class=\"data row2 col1\" >0.00%</td>\n",
       "            </tr>\n",
       "            <tr>\n",
       "                        <th id=\"T_ebd71c78_648d_11eb_9139_f0761c3cb6d8level0_row3\" class=\"row_heading level0 row3\" >Type</th>\n",
       "                        <td id=\"T_ebd71c78_648d_11eb_9139_f0761c3cb6d8row3_col0\" class=\"data row3 col0\" >0</td>\n",
       "                        <td id=\"T_ebd71c78_648d_11eb_9139_f0761c3cb6d8row3_col1\" class=\"data row3 col1\" >0.00%</td>\n",
       "            </tr>\n",
       "            <tr>\n",
       "                        <th id=\"T_ebd71c78_648d_11eb_9139_f0761c3cb6d8level0_row4\" class=\"row_heading level0 row4\" >PaperlessBilling</th>\n",
       "                        <td id=\"T_ebd71c78_648d_11eb_9139_f0761c3cb6d8row4_col0\" class=\"data row4 col0\" >0</td>\n",
       "                        <td id=\"T_ebd71c78_648d_11eb_9139_f0761c3cb6d8row4_col1\" class=\"data row4 col1\" >0.00%</td>\n",
       "            </tr>\n",
       "            <tr>\n",
       "                        <th id=\"T_ebd71c78_648d_11eb_9139_f0761c3cb6d8level0_row5\" class=\"row_heading level0 row5\" >PaymentMethod</th>\n",
       "                        <td id=\"T_ebd71c78_648d_11eb_9139_f0761c3cb6d8row5_col0\" class=\"data row5 col0\" >0</td>\n",
       "                        <td id=\"T_ebd71c78_648d_11eb_9139_f0761c3cb6d8row5_col1\" class=\"data row5 col1\" >0.00%</td>\n",
       "            </tr>\n",
       "            <tr>\n",
       "                        <th id=\"T_ebd71c78_648d_11eb_9139_f0761c3cb6d8level0_row6\" class=\"row_heading level0 row6\" >MonthlyCharges</th>\n",
       "                        <td id=\"T_ebd71c78_648d_11eb_9139_f0761c3cb6d8row6_col0\" class=\"data row6 col0\" >0</td>\n",
       "                        <td id=\"T_ebd71c78_648d_11eb_9139_f0761c3cb6d8row6_col1\" class=\"data row6 col1\" >0.00%</td>\n",
       "            </tr>\n",
       "            <tr>\n",
       "                        <th id=\"T_ebd71c78_648d_11eb_9139_f0761c3cb6d8level0_row7\" class=\"row_heading level0 row7\" >TotalCharges</th>\n",
       "                        <td id=\"T_ebd71c78_648d_11eb_9139_f0761c3cb6d8row7_col0\" class=\"data row7 col0\" >0</td>\n",
       "                        <td id=\"T_ebd71c78_648d_11eb_9139_f0761c3cb6d8row7_col1\" class=\"data row7 col1\" >0.00%</td>\n",
       "            </tr>\n",
       "    </tbody></table>"
      ],
      "text/plain": [
       "<pandas.io.formats.style.Styler at 0x4047e5c908>"
      ]
     },
     "metadata": {},
     "output_type": "display_data"
    },
    {
     "name": "stdout",
     "output_type": "stream",
     "text": [
      "Информация о таблице: personal\n"
     ]
    },
    {
     "data": {
      "text/html": [
       "<div>\n",
       "<style scoped>\n",
       "    .dataframe tbody tr th:only-of-type {\n",
       "        vertical-align: middle;\n",
       "    }\n",
       "\n",
       "    .dataframe tbody tr th {\n",
       "        vertical-align: top;\n",
       "    }\n",
       "\n",
       "    .dataframe thead th {\n",
       "        text-align: right;\n",
       "    }\n",
       "</style>\n",
       "<table border=\"1\" class=\"dataframe\">\n",
       "  <thead>\n",
       "    <tr style=\"text-align: right;\">\n",
       "      <th></th>\n",
       "      <th>customerID</th>\n",
       "      <th>gender</th>\n",
       "      <th>SeniorCitizen</th>\n",
       "      <th>Partner</th>\n",
       "      <th>Dependents</th>\n",
       "    </tr>\n",
       "  </thead>\n",
       "  <tbody>\n",
       "    <tr>\n",
       "      <td>0</td>\n",
       "      <td>7590-VHVEG</td>\n",
       "      <td>Female</td>\n",
       "      <td>0</td>\n",
       "      <td>Yes</td>\n",
       "      <td>No</td>\n",
       "    </tr>\n",
       "    <tr>\n",
       "      <td>1</td>\n",
       "      <td>5575-GNVDE</td>\n",
       "      <td>Male</td>\n",
       "      <td>0</td>\n",
       "      <td>No</td>\n",
       "      <td>No</td>\n",
       "    </tr>\n",
       "    <tr>\n",
       "      <td>2</td>\n",
       "      <td>3668-QPYBK</td>\n",
       "      <td>Male</td>\n",
       "      <td>0</td>\n",
       "      <td>No</td>\n",
       "      <td>No</td>\n",
       "    </tr>\n",
       "    <tr>\n",
       "      <td>3</td>\n",
       "      <td>7795-CFOCW</td>\n",
       "      <td>Male</td>\n",
       "      <td>0</td>\n",
       "      <td>No</td>\n",
       "      <td>No</td>\n",
       "    </tr>\n",
       "    <tr>\n",
       "      <td>4</td>\n",
       "      <td>9237-HQITU</td>\n",
       "      <td>Female</td>\n",
       "      <td>0</td>\n",
       "      <td>No</td>\n",
       "      <td>No</td>\n",
       "    </tr>\n",
       "  </tbody>\n",
       "</table>\n",
       "</div>"
      ],
      "text/plain": [
       "   customerID  gender  SeniorCitizen Partner Dependents\n",
       "0  7590-VHVEG  Female              0     Yes         No\n",
       "1  5575-GNVDE    Male              0      No         No\n",
       "2  3668-QPYBK    Male              0      No         No\n",
       "3  7795-CFOCW    Male              0      No         No\n",
       "4  9237-HQITU  Female              0      No         No"
      ]
     },
     "metadata": {},
     "output_type": "display_data"
    },
    {
     "name": "stdout",
     "output_type": "stream",
     "text": [
      "<class 'pandas.core.frame.DataFrame'>\n",
      "RangeIndex: 7043 entries, 0 to 7042\n",
      "Data columns (total 5 columns):\n",
      "customerID       7043 non-null object\n",
      "gender           7043 non-null object\n",
      "SeniorCitizen    7043 non-null int64\n",
      "Partner          7043 non-null object\n",
      "Dependents       7043 non-null object\n",
      "dtypes: int64(1), object(4)\n",
      "memory usage: 275.2+ KB\n"
     ]
    },
    {
     "data": {
      "text/plain": [
       "None"
      ]
     },
     "metadata": {},
     "output_type": "display_data"
    },
    {
     "data": {
      "text/html": [
       "<div>\n",
       "<style scoped>\n",
       "    .dataframe tbody tr th:only-of-type {\n",
       "        vertical-align: middle;\n",
       "    }\n",
       "\n",
       "    .dataframe tbody tr th {\n",
       "        vertical-align: top;\n",
       "    }\n",
       "\n",
       "    .dataframe thead th {\n",
       "        text-align: right;\n",
       "    }\n",
       "</style>\n",
       "<table border=\"1\" class=\"dataframe\">\n",
       "  <thead>\n",
       "    <tr style=\"text-align: right;\">\n",
       "      <th></th>\n",
       "      <th>SeniorCitizen</th>\n",
       "    </tr>\n",
       "  </thead>\n",
       "  <tbody>\n",
       "    <tr>\n",
       "      <td>count</td>\n",
       "      <td>7043.000000</td>\n",
       "    </tr>\n",
       "    <tr>\n",
       "      <td>mean</td>\n",
       "      <td>0.162147</td>\n",
       "    </tr>\n",
       "    <tr>\n",
       "      <td>std</td>\n",
       "      <td>0.368612</td>\n",
       "    </tr>\n",
       "    <tr>\n",
       "      <td>min</td>\n",
       "      <td>0.000000</td>\n",
       "    </tr>\n",
       "    <tr>\n",
       "      <td>25%</td>\n",
       "      <td>0.000000</td>\n",
       "    </tr>\n",
       "    <tr>\n",
       "      <td>50%</td>\n",
       "      <td>0.000000</td>\n",
       "    </tr>\n",
       "    <tr>\n",
       "      <td>75%</td>\n",
       "      <td>0.000000</td>\n",
       "    </tr>\n",
       "    <tr>\n",
       "      <td>max</td>\n",
       "      <td>1.000000</td>\n",
       "    </tr>\n",
       "  </tbody>\n",
       "</table>\n",
       "</div>"
      ],
      "text/plain": [
       "       SeniorCitizen\n",
       "count    7043.000000\n",
       "mean        0.162147\n",
       "std         0.368612\n",
       "min         0.000000\n",
       "25%         0.000000\n",
       "50%         0.000000\n",
       "75%         0.000000\n",
       "max         1.000000"
      ]
     },
     "metadata": {},
     "output_type": "display_data"
    },
    {
     "data": {
      "text/html": [
       "<style  type=\"text/css\" >\n",
       "</style><table id=\"T_ebe12fe6_648d_11eb_9fb2_f0761c3cb6d8\" ><thead>    <tr>        <th class=\"blank level0\" ></th>        <th class=\"col_heading level0 col0\" >nan</th>        <th class=\"col_heading level0 col1\" >rate</th>    </tr></thead><tbody>\n",
       "                <tr>\n",
       "                        <th id=\"T_ebe12fe6_648d_11eb_9fb2_f0761c3cb6d8level0_row0\" class=\"row_heading level0 row0\" >customerID</th>\n",
       "                        <td id=\"T_ebe12fe6_648d_11eb_9fb2_f0761c3cb6d8row0_col0\" class=\"data row0 col0\" >0</td>\n",
       "                        <td id=\"T_ebe12fe6_648d_11eb_9fb2_f0761c3cb6d8row0_col1\" class=\"data row0 col1\" >0.00%</td>\n",
       "            </tr>\n",
       "            <tr>\n",
       "                        <th id=\"T_ebe12fe6_648d_11eb_9fb2_f0761c3cb6d8level0_row1\" class=\"row_heading level0 row1\" >gender</th>\n",
       "                        <td id=\"T_ebe12fe6_648d_11eb_9fb2_f0761c3cb6d8row1_col0\" class=\"data row1 col0\" >0</td>\n",
       "                        <td id=\"T_ebe12fe6_648d_11eb_9fb2_f0761c3cb6d8row1_col1\" class=\"data row1 col1\" >0.00%</td>\n",
       "            </tr>\n",
       "            <tr>\n",
       "                        <th id=\"T_ebe12fe6_648d_11eb_9fb2_f0761c3cb6d8level0_row2\" class=\"row_heading level0 row2\" >SeniorCitizen</th>\n",
       "                        <td id=\"T_ebe12fe6_648d_11eb_9fb2_f0761c3cb6d8row2_col0\" class=\"data row2 col0\" >0</td>\n",
       "                        <td id=\"T_ebe12fe6_648d_11eb_9fb2_f0761c3cb6d8row2_col1\" class=\"data row2 col1\" >0.00%</td>\n",
       "            </tr>\n",
       "            <tr>\n",
       "                        <th id=\"T_ebe12fe6_648d_11eb_9fb2_f0761c3cb6d8level0_row3\" class=\"row_heading level0 row3\" >Partner</th>\n",
       "                        <td id=\"T_ebe12fe6_648d_11eb_9fb2_f0761c3cb6d8row3_col0\" class=\"data row3 col0\" >0</td>\n",
       "                        <td id=\"T_ebe12fe6_648d_11eb_9fb2_f0761c3cb6d8row3_col1\" class=\"data row3 col1\" >0.00%</td>\n",
       "            </tr>\n",
       "            <tr>\n",
       "                        <th id=\"T_ebe12fe6_648d_11eb_9fb2_f0761c3cb6d8level0_row4\" class=\"row_heading level0 row4\" >Dependents</th>\n",
       "                        <td id=\"T_ebe12fe6_648d_11eb_9fb2_f0761c3cb6d8row4_col0\" class=\"data row4 col0\" >0</td>\n",
       "                        <td id=\"T_ebe12fe6_648d_11eb_9fb2_f0761c3cb6d8row4_col1\" class=\"data row4 col1\" >0.00%</td>\n",
       "            </tr>\n",
       "    </tbody></table>"
      ],
      "text/plain": [
       "<pandas.io.formats.style.Styler at 0x404812e988>"
      ]
     },
     "metadata": {},
     "output_type": "display_data"
    },
    {
     "name": "stdout",
     "output_type": "stream",
     "text": [
      "Информация о таблице: internet\n"
     ]
    },
    {
     "data": {
      "text/html": [
       "<div>\n",
       "<style scoped>\n",
       "    .dataframe tbody tr th:only-of-type {\n",
       "        vertical-align: middle;\n",
       "    }\n",
       "\n",
       "    .dataframe tbody tr th {\n",
       "        vertical-align: top;\n",
       "    }\n",
       "\n",
       "    .dataframe thead th {\n",
       "        text-align: right;\n",
       "    }\n",
       "</style>\n",
       "<table border=\"1\" class=\"dataframe\">\n",
       "  <thead>\n",
       "    <tr style=\"text-align: right;\">\n",
       "      <th></th>\n",
       "      <th>customerID</th>\n",
       "      <th>InternetService</th>\n",
       "      <th>OnlineSecurity</th>\n",
       "      <th>OnlineBackup</th>\n",
       "      <th>DeviceProtection</th>\n",
       "      <th>TechSupport</th>\n",
       "      <th>StreamingTV</th>\n",
       "      <th>StreamingMovies</th>\n",
       "    </tr>\n",
       "  </thead>\n",
       "  <tbody>\n",
       "    <tr>\n",
       "      <td>0</td>\n",
       "      <td>7590-VHVEG</td>\n",
       "      <td>DSL</td>\n",
       "      <td>No</td>\n",
       "      <td>Yes</td>\n",
       "      <td>No</td>\n",
       "      <td>No</td>\n",
       "      <td>No</td>\n",
       "      <td>No</td>\n",
       "    </tr>\n",
       "    <tr>\n",
       "      <td>1</td>\n",
       "      <td>5575-GNVDE</td>\n",
       "      <td>DSL</td>\n",
       "      <td>Yes</td>\n",
       "      <td>No</td>\n",
       "      <td>Yes</td>\n",
       "      <td>No</td>\n",
       "      <td>No</td>\n",
       "      <td>No</td>\n",
       "    </tr>\n",
       "    <tr>\n",
       "      <td>2</td>\n",
       "      <td>3668-QPYBK</td>\n",
       "      <td>DSL</td>\n",
       "      <td>Yes</td>\n",
       "      <td>Yes</td>\n",
       "      <td>No</td>\n",
       "      <td>No</td>\n",
       "      <td>No</td>\n",
       "      <td>No</td>\n",
       "    </tr>\n",
       "    <tr>\n",
       "      <td>3</td>\n",
       "      <td>7795-CFOCW</td>\n",
       "      <td>DSL</td>\n",
       "      <td>Yes</td>\n",
       "      <td>No</td>\n",
       "      <td>Yes</td>\n",
       "      <td>Yes</td>\n",
       "      <td>No</td>\n",
       "      <td>No</td>\n",
       "    </tr>\n",
       "    <tr>\n",
       "      <td>4</td>\n",
       "      <td>9237-HQITU</td>\n",
       "      <td>Fiber optic</td>\n",
       "      <td>No</td>\n",
       "      <td>No</td>\n",
       "      <td>No</td>\n",
       "      <td>No</td>\n",
       "      <td>No</td>\n",
       "      <td>No</td>\n",
       "    </tr>\n",
       "  </tbody>\n",
       "</table>\n",
       "</div>"
      ],
      "text/plain": [
       "   customerID InternetService OnlineSecurity OnlineBackup DeviceProtection  \\\n",
       "0  7590-VHVEG             DSL             No          Yes               No   \n",
       "1  5575-GNVDE             DSL            Yes           No              Yes   \n",
       "2  3668-QPYBK             DSL            Yes          Yes               No   \n",
       "3  7795-CFOCW             DSL            Yes           No              Yes   \n",
       "4  9237-HQITU     Fiber optic             No           No               No   \n",
       "\n",
       "  TechSupport StreamingTV StreamingMovies  \n",
       "0          No          No              No  \n",
       "1          No          No              No  \n",
       "2          No          No              No  \n",
       "3         Yes          No              No  \n",
       "4          No          No              No  "
      ]
     },
     "metadata": {},
     "output_type": "display_data"
    },
    {
     "name": "stdout",
     "output_type": "stream",
     "text": [
      "<class 'pandas.core.frame.DataFrame'>\n",
      "RangeIndex: 5517 entries, 0 to 5516\n",
      "Data columns (total 8 columns):\n",
      "customerID          5517 non-null object\n",
      "InternetService     5517 non-null object\n",
      "OnlineSecurity      5517 non-null object\n",
      "OnlineBackup        5517 non-null object\n",
      "DeviceProtection    5517 non-null object\n",
      "TechSupport         5517 non-null object\n",
      "StreamingTV         5517 non-null object\n",
      "StreamingMovies     5517 non-null object\n",
      "dtypes: object(8)\n",
      "memory usage: 344.9+ KB\n"
     ]
    },
    {
     "data": {
      "text/plain": [
       "None"
      ]
     },
     "metadata": {},
     "output_type": "display_data"
    },
    {
     "data": {
      "text/html": [
       "<div>\n",
       "<style scoped>\n",
       "    .dataframe tbody tr th:only-of-type {\n",
       "        vertical-align: middle;\n",
       "    }\n",
       "\n",
       "    .dataframe tbody tr th {\n",
       "        vertical-align: top;\n",
       "    }\n",
       "\n",
       "    .dataframe thead th {\n",
       "        text-align: right;\n",
       "    }\n",
       "</style>\n",
       "<table border=\"1\" class=\"dataframe\">\n",
       "  <thead>\n",
       "    <tr style=\"text-align: right;\">\n",
       "      <th></th>\n",
       "      <th>customerID</th>\n",
       "      <th>InternetService</th>\n",
       "      <th>OnlineSecurity</th>\n",
       "      <th>OnlineBackup</th>\n",
       "      <th>DeviceProtection</th>\n",
       "      <th>TechSupport</th>\n",
       "      <th>StreamingTV</th>\n",
       "      <th>StreamingMovies</th>\n",
       "    </tr>\n",
       "  </thead>\n",
       "  <tbody>\n",
       "    <tr>\n",
       "      <td>count</td>\n",
       "      <td>5517</td>\n",
       "      <td>5517</td>\n",
       "      <td>5517</td>\n",
       "      <td>5517</td>\n",
       "      <td>5517</td>\n",
       "      <td>5517</td>\n",
       "      <td>5517</td>\n",
       "      <td>5517</td>\n",
       "    </tr>\n",
       "    <tr>\n",
       "      <td>unique</td>\n",
       "      <td>5517</td>\n",
       "      <td>2</td>\n",
       "      <td>2</td>\n",
       "      <td>2</td>\n",
       "      <td>2</td>\n",
       "      <td>2</td>\n",
       "      <td>2</td>\n",
       "      <td>2</td>\n",
       "    </tr>\n",
       "    <tr>\n",
       "      <td>top</td>\n",
       "      <td>2925-MXLSX</td>\n",
       "      <td>Fiber optic</td>\n",
       "      <td>No</td>\n",
       "      <td>No</td>\n",
       "      <td>No</td>\n",
       "      <td>No</td>\n",
       "      <td>No</td>\n",
       "      <td>No</td>\n",
       "    </tr>\n",
       "    <tr>\n",
       "      <td>freq</td>\n",
       "      <td>1</td>\n",
       "      <td>3096</td>\n",
       "      <td>3498</td>\n",
       "      <td>3088</td>\n",
       "      <td>3095</td>\n",
       "      <td>3473</td>\n",
       "      <td>2810</td>\n",
       "      <td>2785</td>\n",
       "    </tr>\n",
       "  </tbody>\n",
       "</table>\n",
       "</div>"
      ],
      "text/plain": [
       "        customerID InternetService OnlineSecurity OnlineBackup  \\\n",
       "count         5517            5517           5517         5517   \n",
       "unique        5517               2              2            2   \n",
       "top     2925-MXLSX     Fiber optic             No           No   \n",
       "freq             1            3096           3498         3088   \n",
       "\n",
       "       DeviceProtection TechSupport StreamingTV StreamingMovies  \n",
       "count              5517        5517        5517            5517  \n",
       "unique                2           2           2               2  \n",
       "top                  No          No          No              No  \n",
       "freq               3095        3473        2810            2785  "
      ]
     },
     "metadata": {},
     "output_type": "display_data"
    },
    {
     "data": {
      "text/html": [
       "<style  type=\"text/css\" >\n",
       "</style><table id=\"T_ebf77b22_648d_11eb_a1cb_f0761c3cb6d8\" ><thead>    <tr>        <th class=\"blank level0\" ></th>        <th class=\"col_heading level0 col0\" >nan</th>        <th class=\"col_heading level0 col1\" >rate</th>    </tr></thead><tbody>\n",
       "                <tr>\n",
       "                        <th id=\"T_ebf77b22_648d_11eb_a1cb_f0761c3cb6d8level0_row0\" class=\"row_heading level0 row0\" >customerID</th>\n",
       "                        <td id=\"T_ebf77b22_648d_11eb_a1cb_f0761c3cb6d8row0_col0\" class=\"data row0 col0\" >0</td>\n",
       "                        <td id=\"T_ebf77b22_648d_11eb_a1cb_f0761c3cb6d8row0_col1\" class=\"data row0 col1\" >0.00%</td>\n",
       "            </tr>\n",
       "            <tr>\n",
       "                        <th id=\"T_ebf77b22_648d_11eb_a1cb_f0761c3cb6d8level0_row1\" class=\"row_heading level0 row1\" >InternetService</th>\n",
       "                        <td id=\"T_ebf77b22_648d_11eb_a1cb_f0761c3cb6d8row1_col0\" class=\"data row1 col0\" >0</td>\n",
       "                        <td id=\"T_ebf77b22_648d_11eb_a1cb_f0761c3cb6d8row1_col1\" class=\"data row1 col1\" >0.00%</td>\n",
       "            </tr>\n",
       "            <tr>\n",
       "                        <th id=\"T_ebf77b22_648d_11eb_a1cb_f0761c3cb6d8level0_row2\" class=\"row_heading level0 row2\" >OnlineSecurity</th>\n",
       "                        <td id=\"T_ebf77b22_648d_11eb_a1cb_f0761c3cb6d8row2_col0\" class=\"data row2 col0\" >0</td>\n",
       "                        <td id=\"T_ebf77b22_648d_11eb_a1cb_f0761c3cb6d8row2_col1\" class=\"data row2 col1\" >0.00%</td>\n",
       "            </tr>\n",
       "            <tr>\n",
       "                        <th id=\"T_ebf77b22_648d_11eb_a1cb_f0761c3cb6d8level0_row3\" class=\"row_heading level0 row3\" >OnlineBackup</th>\n",
       "                        <td id=\"T_ebf77b22_648d_11eb_a1cb_f0761c3cb6d8row3_col0\" class=\"data row3 col0\" >0</td>\n",
       "                        <td id=\"T_ebf77b22_648d_11eb_a1cb_f0761c3cb6d8row3_col1\" class=\"data row3 col1\" >0.00%</td>\n",
       "            </tr>\n",
       "            <tr>\n",
       "                        <th id=\"T_ebf77b22_648d_11eb_a1cb_f0761c3cb6d8level0_row4\" class=\"row_heading level0 row4\" >DeviceProtection</th>\n",
       "                        <td id=\"T_ebf77b22_648d_11eb_a1cb_f0761c3cb6d8row4_col0\" class=\"data row4 col0\" >0</td>\n",
       "                        <td id=\"T_ebf77b22_648d_11eb_a1cb_f0761c3cb6d8row4_col1\" class=\"data row4 col1\" >0.00%</td>\n",
       "            </tr>\n",
       "            <tr>\n",
       "                        <th id=\"T_ebf77b22_648d_11eb_a1cb_f0761c3cb6d8level0_row5\" class=\"row_heading level0 row5\" >TechSupport</th>\n",
       "                        <td id=\"T_ebf77b22_648d_11eb_a1cb_f0761c3cb6d8row5_col0\" class=\"data row5 col0\" >0</td>\n",
       "                        <td id=\"T_ebf77b22_648d_11eb_a1cb_f0761c3cb6d8row5_col1\" class=\"data row5 col1\" >0.00%</td>\n",
       "            </tr>\n",
       "            <tr>\n",
       "                        <th id=\"T_ebf77b22_648d_11eb_a1cb_f0761c3cb6d8level0_row6\" class=\"row_heading level0 row6\" >StreamingTV</th>\n",
       "                        <td id=\"T_ebf77b22_648d_11eb_a1cb_f0761c3cb6d8row6_col0\" class=\"data row6 col0\" >0</td>\n",
       "                        <td id=\"T_ebf77b22_648d_11eb_a1cb_f0761c3cb6d8row6_col1\" class=\"data row6 col1\" >0.00%</td>\n",
       "            </tr>\n",
       "            <tr>\n",
       "                        <th id=\"T_ebf77b22_648d_11eb_a1cb_f0761c3cb6d8level0_row7\" class=\"row_heading level0 row7\" >StreamingMovies</th>\n",
       "                        <td id=\"T_ebf77b22_648d_11eb_a1cb_f0761c3cb6d8row7_col0\" class=\"data row7 col0\" >0</td>\n",
       "                        <td id=\"T_ebf77b22_648d_11eb_a1cb_f0761c3cb6d8row7_col1\" class=\"data row7 col1\" >0.00%</td>\n",
       "            </tr>\n",
       "    </tbody></table>"
      ],
      "text/plain": [
       "<pandas.io.formats.style.Styler at 0x4046828348>"
      ]
     },
     "metadata": {},
     "output_type": "display_data"
    },
    {
     "name": "stdout",
     "output_type": "stream",
     "text": [
      "Информация о таблице: phone\n"
     ]
    },
    {
     "data": {
      "text/html": [
       "<div>\n",
       "<style scoped>\n",
       "    .dataframe tbody tr th:only-of-type {\n",
       "        vertical-align: middle;\n",
       "    }\n",
       "\n",
       "    .dataframe tbody tr th {\n",
       "        vertical-align: top;\n",
       "    }\n",
       "\n",
       "    .dataframe thead th {\n",
       "        text-align: right;\n",
       "    }\n",
       "</style>\n",
       "<table border=\"1\" class=\"dataframe\">\n",
       "  <thead>\n",
       "    <tr style=\"text-align: right;\">\n",
       "      <th></th>\n",
       "      <th>customerID</th>\n",
       "      <th>MultipleLines</th>\n",
       "    </tr>\n",
       "  </thead>\n",
       "  <tbody>\n",
       "    <tr>\n",
       "      <td>0</td>\n",
       "      <td>5575-GNVDE</td>\n",
       "      <td>No</td>\n",
       "    </tr>\n",
       "    <tr>\n",
       "      <td>1</td>\n",
       "      <td>3668-QPYBK</td>\n",
       "      <td>No</td>\n",
       "    </tr>\n",
       "    <tr>\n",
       "      <td>2</td>\n",
       "      <td>9237-HQITU</td>\n",
       "      <td>No</td>\n",
       "    </tr>\n",
       "    <tr>\n",
       "      <td>3</td>\n",
       "      <td>9305-CDSKC</td>\n",
       "      <td>Yes</td>\n",
       "    </tr>\n",
       "    <tr>\n",
       "      <td>4</td>\n",
       "      <td>1452-KIOVK</td>\n",
       "      <td>Yes</td>\n",
       "    </tr>\n",
       "  </tbody>\n",
       "</table>\n",
       "</div>"
      ],
      "text/plain": [
       "   customerID MultipleLines\n",
       "0  5575-GNVDE            No\n",
       "1  3668-QPYBK            No\n",
       "2  9237-HQITU            No\n",
       "3  9305-CDSKC           Yes\n",
       "4  1452-KIOVK           Yes"
      ]
     },
     "metadata": {},
     "output_type": "display_data"
    },
    {
     "name": "stdout",
     "output_type": "stream",
     "text": [
      "<class 'pandas.core.frame.DataFrame'>\n",
      "RangeIndex: 6361 entries, 0 to 6360\n",
      "Data columns (total 2 columns):\n",
      "customerID       6361 non-null object\n",
      "MultipleLines    6361 non-null object\n",
      "dtypes: object(2)\n",
      "memory usage: 99.5+ KB\n"
     ]
    },
    {
     "data": {
      "text/plain": [
       "None"
      ]
     },
     "metadata": {},
     "output_type": "display_data"
    },
    {
     "data": {
      "text/html": [
       "<div>\n",
       "<style scoped>\n",
       "    .dataframe tbody tr th:only-of-type {\n",
       "        vertical-align: middle;\n",
       "    }\n",
       "\n",
       "    .dataframe tbody tr th {\n",
       "        vertical-align: top;\n",
       "    }\n",
       "\n",
       "    .dataframe thead th {\n",
       "        text-align: right;\n",
       "    }\n",
       "</style>\n",
       "<table border=\"1\" class=\"dataframe\">\n",
       "  <thead>\n",
       "    <tr style=\"text-align: right;\">\n",
       "      <th></th>\n",
       "      <th>customerID</th>\n",
       "      <th>MultipleLines</th>\n",
       "    </tr>\n",
       "  </thead>\n",
       "  <tbody>\n",
       "    <tr>\n",
       "      <td>count</td>\n",
       "      <td>6361</td>\n",
       "      <td>6361</td>\n",
       "    </tr>\n",
       "    <tr>\n",
       "      <td>unique</td>\n",
       "      <td>6361</td>\n",
       "      <td>2</td>\n",
       "    </tr>\n",
       "    <tr>\n",
       "      <td>top</td>\n",
       "      <td>3212-KXOCR</td>\n",
       "      <td>No</td>\n",
       "    </tr>\n",
       "    <tr>\n",
       "      <td>freq</td>\n",
       "      <td>1</td>\n",
       "      <td>3390</td>\n",
       "    </tr>\n",
       "  </tbody>\n",
       "</table>\n",
       "</div>"
      ],
      "text/plain": [
       "        customerID MultipleLines\n",
       "count         6361          6361\n",
       "unique        6361             2\n",
       "top     3212-KXOCR            No\n",
       "freq             1          3390"
      ]
     },
     "metadata": {},
     "output_type": "display_data"
    },
    {
     "data": {
      "text/html": [
       "<style  type=\"text/css\" >\n",
       "</style><table id=\"T_ec0623cc_648d_11eb_8b51_f0761c3cb6d8\" ><thead>    <tr>        <th class=\"blank level0\" ></th>        <th class=\"col_heading level0 col0\" >nan</th>        <th class=\"col_heading level0 col1\" >rate</th>    </tr></thead><tbody>\n",
       "                <tr>\n",
       "                        <th id=\"T_ec0623cc_648d_11eb_8b51_f0761c3cb6d8level0_row0\" class=\"row_heading level0 row0\" >customerID</th>\n",
       "                        <td id=\"T_ec0623cc_648d_11eb_8b51_f0761c3cb6d8row0_col0\" class=\"data row0 col0\" >0</td>\n",
       "                        <td id=\"T_ec0623cc_648d_11eb_8b51_f0761c3cb6d8row0_col1\" class=\"data row0 col1\" >0.00%</td>\n",
       "            </tr>\n",
       "            <tr>\n",
       "                        <th id=\"T_ec0623cc_648d_11eb_8b51_f0761c3cb6d8level0_row1\" class=\"row_heading level0 row1\" >MultipleLines</th>\n",
       "                        <td id=\"T_ec0623cc_648d_11eb_8b51_f0761c3cb6d8row1_col0\" class=\"data row1 col0\" >0</td>\n",
       "                        <td id=\"T_ec0623cc_648d_11eb_8b51_f0761c3cb6d8row1_col1\" class=\"data row1 col1\" >0.00%</td>\n",
       "            </tr>\n",
       "    </tbody></table>"
      ],
      "text/plain": [
       "<pandas.io.formats.style.Styler at 0x4048322bc8>"
      ]
     },
     "metadata": {},
     "output_type": "display_data"
    }
   ],
   "source": [
    "for key in datas.keys():\n",
    "    print('Информация о таблице:', key)\n",
    "    get_df_info(datas[key])"
   ]
  },
  {
   "cell_type": "markdown",
   "metadata": {},
   "source": [
    "## Подготовка данных"
   ]
  },
  {
   "cell_type": "markdown",
   "metadata": {},
   "source": [
    "Приведение значений столбцов к необходимым форматам:\n",
    "- **`contract`** `TotalCharges` - **float64**\n",
    "- **`contract`** `BeginDate` и `EndDate` - **datetime**"
   ]
  },
  {
   "cell_type": "code",
   "execution_count": 7,
   "metadata": {},
   "outputs": [],
   "source": [
    "contract['TotalCharges'] = pd.to_numeric(contract['TotalCharges'], downcast='float', errors='coerce')\n",
    "contract['BeginDate'] = pd.to_datetime(contract['BeginDate'], format='%Y-%m-%d', errors='coerce')\n",
    "contract['EndDate'] = pd.to_datetime(contract['EndDate'], format='%Y-%m-%d', errors='coerce')"
   ]
  },
  {
   "cell_type": "markdown",
   "metadata": {},
   "source": [
    "Создадим дополнительный признак указывающий на время пользования услугами опратора."
   ]
  },
  {
   "cell_type": "code",
   "execution_count": 8,
   "metadata": {},
   "outputs": [],
   "source": [
    "END_DAY = pd.to_datetime('2020-02-01', format='%Y-%m-%d')\n",
    "def get_life_time(data):\n",
    "    begin_date = data['BeginDate']\n",
    "    end_date = data['EndDate']\n",
    "    \n",
    "    def diff_days(d1, d2):\n",
    "        return (d1 - d2).days\n",
    "#        return (d1.year - d2.year) * 12 + d1.month - d2.month\n",
    "        \n",
    "    \n",
    "    if end_date is pd.NaT:\n",
    "        \n",
    "        life_time = diff_days(END_DAY, begin_date)\n",
    "    else:\n",
    "        life_time = diff_days(end_date, begin_date)\n",
    "    return life_time"
   ]
  },
  {
   "cell_type": "code",
   "execution_count": 9,
   "metadata": {},
   "outputs": [],
   "source": [
    "contract['LifeTime'] = contract.apply(get_life_time, axis=1)"
   ]
  },
  {
   "cell_type": "markdown",
   "metadata": {},
   "source": [
    "Дополнительные признаки, указывающие на наличие подключения к интернету и к телефонной линии."
   ]
  },
  {
   "cell_type": "code",
   "execution_count": 10,
   "metadata": {},
   "outputs": [],
   "source": [
    "internet['IsInternet'] = np.full(internet.shape[0], 'Yes')\n",
    "phone['IsPhone'] = np.full(phone.shape[0], 'Yes')"
   ]
  },
  {
   "cell_type": "markdown",
   "metadata": {},
   "source": [
    "Преобразуем дату оканчания договора в бинарный признак."
   ]
  },
  {
   "cell_type": "code",
   "execution_count": 11,
   "metadata": {},
   "outputs": [],
   "source": [
    "#бинаризация целевого признака\n",
    "contract['EndDate'] = np.where(contract['EndDate'].isna(), 'client', 'churn')"
   ]
  },
  {
   "cell_type": "markdown",
   "metadata": {},
   "source": [
    "Объединим все таблицы в одну общую."
   ]
  },
  {
   "cell_type": "code",
   "execution_count": 12,
   "metadata": {},
   "outputs": [],
   "source": [
    "data = contract.set_index('customerID').join(personal\n",
    "                                             .set_index('customerID')).join(internet\n",
    "                                                                            .set_index('customerID').join(phone.set_index('customerID'), how='outer'))"
   ]
  },
  {
   "cell_type": "markdown",
   "metadata": {},
   "source": [
    "Так как не все клиенты используют и телефонную связь и интернет, в итоговой таблице образовались пропуски. Заменим их на значения 0"
   ]
  },
  {
   "cell_type": "code",
   "execution_count": 13,
   "metadata": {},
   "outputs": [],
   "source": [
    "data['IsInternet'] = data['IsInternet'].fillna('No')\n",
    "data['IsPhone'] = data['IsPhone'].fillna('No')"
   ]
  },
  {
   "cell_type": "code",
   "execution_count": 14,
   "metadata": {},
   "outputs": [],
   "source": [
    "data = data.fillna(0)"
   ]
  },
  {
   "cell_type": "code",
   "execution_count": 15,
   "metadata": {},
   "outputs": [
    {
     "data": {
      "text/html": [
       "<div>\n",
       "<style scoped>\n",
       "    .dataframe tbody tr th:only-of-type {\n",
       "        vertical-align: middle;\n",
       "    }\n",
       "\n",
       "    .dataframe tbody tr th {\n",
       "        vertical-align: top;\n",
       "    }\n",
       "\n",
       "    .dataframe thead th {\n",
       "        text-align: right;\n",
       "    }\n",
       "</style>\n",
       "<table border=\"1\" class=\"dataframe\">\n",
       "  <thead>\n",
       "    <tr style=\"text-align: right;\">\n",
       "      <th></th>\n",
       "      <th>BeginDate</th>\n",
       "      <th>EndDate</th>\n",
       "      <th>Type</th>\n",
       "      <th>PaperlessBilling</th>\n",
       "      <th>PaymentMethod</th>\n",
       "      <th>MonthlyCharges</th>\n",
       "      <th>TotalCharges</th>\n",
       "      <th>LifeTime</th>\n",
       "      <th>gender</th>\n",
       "      <th>SeniorCitizen</th>\n",
       "      <th>...</th>\n",
       "      <th>InternetService</th>\n",
       "      <th>OnlineSecurity</th>\n",
       "      <th>OnlineBackup</th>\n",
       "      <th>DeviceProtection</th>\n",
       "      <th>TechSupport</th>\n",
       "      <th>StreamingTV</th>\n",
       "      <th>StreamingMovies</th>\n",
       "      <th>IsInternet</th>\n",
       "      <th>MultipleLines</th>\n",
       "      <th>IsPhone</th>\n",
       "    </tr>\n",
       "    <tr>\n",
       "      <th>customerID</th>\n",
       "      <th></th>\n",
       "      <th></th>\n",
       "      <th></th>\n",
       "      <th></th>\n",
       "      <th></th>\n",
       "      <th></th>\n",
       "      <th></th>\n",
       "      <th></th>\n",
       "      <th></th>\n",
       "      <th></th>\n",
       "      <th></th>\n",
       "      <th></th>\n",
       "      <th></th>\n",
       "      <th></th>\n",
       "      <th></th>\n",
       "      <th></th>\n",
       "      <th></th>\n",
       "      <th></th>\n",
       "      <th></th>\n",
       "      <th></th>\n",
       "      <th></th>\n",
       "    </tr>\n",
       "  </thead>\n",
       "  <tbody>\n",
       "    <tr>\n",
       "      <td>7590-VHVEG</td>\n",
       "      <td>2020-01-01</td>\n",
       "      <td>client</td>\n",
       "      <td>Month-to-month</td>\n",
       "      <td>Yes</td>\n",
       "      <td>Electronic check</td>\n",
       "      <td>29.85</td>\n",
       "      <td>29.850000</td>\n",
       "      <td>31</td>\n",
       "      <td>Female</td>\n",
       "      <td>0</td>\n",
       "      <td>...</td>\n",
       "      <td>DSL</td>\n",
       "      <td>No</td>\n",
       "      <td>Yes</td>\n",
       "      <td>No</td>\n",
       "      <td>No</td>\n",
       "      <td>No</td>\n",
       "      <td>No</td>\n",
       "      <td>Yes</td>\n",
       "      <td>0</td>\n",
       "      <td>No</td>\n",
       "    </tr>\n",
       "    <tr>\n",
       "      <td>5575-GNVDE</td>\n",
       "      <td>2017-04-01</td>\n",
       "      <td>client</td>\n",
       "      <td>One year</td>\n",
       "      <td>No</td>\n",
       "      <td>Mailed check</td>\n",
       "      <td>56.95</td>\n",
       "      <td>1889.500000</td>\n",
       "      <td>1036</td>\n",
       "      <td>Male</td>\n",
       "      <td>0</td>\n",
       "      <td>...</td>\n",
       "      <td>DSL</td>\n",
       "      <td>Yes</td>\n",
       "      <td>No</td>\n",
       "      <td>Yes</td>\n",
       "      <td>No</td>\n",
       "      <td>No</td>\n",
       "      <td>No</td>\n",
       "      <td>Yes</td>\n",
       "      <td>No</td>\n",
       "      <td>Yes</td>\n",
       "    </tr>\n",
       "    <tr>\n",
       "      <td>3668-QPYBK</td>\n",
       "      <td>2019-10-01</td>\n",
       "      <td>churn</td>\n",
       "      <td>Month-to-month</td>\n",
       "      <td>Yes</td>\n",
       "      <td>Mailed check</td>\n",
       "      <td>53.85</td>\n",
       "      <td>108.150002</td>\n",
       "      <td>61</td>\n",
       "      <td>Male</td>\n",
       "      <td>0</td>\n",
       "      <td>...</td>\n",
       "      <td>DSL</td>\n",
       "      <td>Yes</td>\n",
       "      <td>Yes</td>\n",
       "      <td>No</td>\n",
       "      <td>No</td>\n",
       "      <td>No</td>\n",
       "      <td>No</td>\n",
       "      <td>Yes</td>\n",
       "      <td>No</td>\n",
       "      <td>Yes</td>\n",
       "    </tr>\n",
       "    <tr>\n",
       "      <td>7795-CFOCW</td>\n",
       "      <td>2016-05-01</td>\n",
       "      <td>client</td>\n",
       "      <td>One year</td>\n",
       "      <td>No</td>\n",
       "      <td>Bank transfer (automatic)</td>\n",
       "      <td>42.30</td>\n",
       "      <td>1840.750000</td>\n",
       "      <td>1371</td>\n",
       "      <td>Male</td>\n",
       "      <td>0</td>\n",
       "      <td>...</td>\n",
       "      <td>DSL</td>\n",
       "      <td>Yes</td>\n",
       "      <td>No</td>\n",
       "      <td>Yes</td>\n",
       "      <td>Yes</td>\n",
       "      <td>No</td>\n",
       "      <td>No</td>\n",
       "      <td>Yes</td>\n",
       "      <td>0</td>\n",
       "      <td>No</td>\n",
       "    </tr>\n",
       "    <tr>\n",
       "      <td>9237-HQITU</td>\n",
       "      <td>2019-09-01</td>\n",
       "      <td>churn</td>\n",
       "      <td>Month-to-month</td>\n",
       "      <td>Yes</td>\n",
       "      <td>Electronic check</td>\n",
       "      <td>70.70</td>\n",
       "      <td>151.649994</td>\n",
       "      <td>61</td>\n",
       "      <td>Female</td>\n",
       "      <td>0</td>\n",
       "      <td>...</td>\n",
       "      <td>Fiber optic</td>\n",
       "      <td>No</td>\n",
       "      <td>No</td>\n",
       "      <td>No</td>\n",
       "      <td>No</td>\n",
       "      <td>No</td>\n",
       "      <td>No</td>\n",
       "      <td>Yes</td>\n",
       "      <td>No</td>\n",
       "      <td>Yes</td>\n",
       "    </tr>\n",
       "  </tbody>\n",
       "</table>\n",
       "<p>5 rows × 22 columns</p>\n",
       "</div>"
      ],
      "text/plain": [
       "            BeginDate EndDate            Type PaperlessBilling  \\\n",
       "customerID                                                       \n",
       "7590-VHVEG 2020-01-01  client  Month-to-month              Yes   \n",
       "5575-GNVDE 2017-04-01  client        One year               No   \n",
       "3668-QPYBK 2019-10-01   churn  Month-to-month              Yes   \n",
       "7795-CFOCW 2016-05-01  client        One year               No   \n",
       "9237-HQITU 2019-09-01   churn  Month-to-month              Yes   \n",
       "\n",
       "                        PaymentMethod  MonthlyCharges  TotalCharges  LifeTime  \\\n",
       "customerID                                                                      \n",
       "7590-VHVEG           Electronic check           29.85     29.850000        31   \n",
       "5575-GNVDE               Mailed check           56.95   1889.500000      1036   \n",
       "3668-QPYBK               Mailed check           53.85    108.150002        61   \n",
       "7795-CFOCW  Bank transfer (automatic)           42.30   1840.750000      1371   \n",
       "9237-HQITU           Electronic check           70.70    151.649994        61   \n",
       "\n",
       "            gender  SeniorCitizen  ... InternetService OnlineSecurity  \\\n",
       "customerID                         ...                                  \n",
       "7590-VHVEG  Female              0  ...             DSL             No   \n",
       "5575-GNVDE    Male              0  ...             DSL            Yes   \n",
       "3668-QPYBK    Male              0  ...             DSL            Yes   \n",
       "7795-CFOCW    Male              0  ...             DSL            Yes   \n",
       "9237-HQITU  Female              0  ...     Fiber optic             No   \n",
       "\n",
       "           OnlineBackup DeviceProtection TechSupport StreamingTV  \\\n",
       "customerID                                                         \n",
       "7590-VHVEG          Yes               No          No          No   \n",
       "5575-GNVDE           No              Yes          No          No   \n",
       "3668-QPYBK          Yes               No          No          No   \n",
       "7795-CFOCW           No              Yes         Yes          No   \n",
       "9237-HQITU           No               No          No          No   \n",
       "\n",
       "           StreamingMovies IsInternet MultipleLines IsPhone  \n",
       "customerID                                                   \n",
       "7590-VHVEG              No        Yes             0      No  \n",
       "5575-GNVDE              No        Yes            No     Yes  \n",
       "3668-QPYBK              No        Yes            No     Yes  \n",
       "7795-CFOCW              No        Yes             0      No  \n",
       "9237-HQITU              No        Yes            No     Yes  \n",
       "\n",
       "[5 rows x 22 columns]"
      ]
     },
     "metadata": {},
     "output_type": "display_data"
    },
    {
     "name": "stdout",
     "output_type": "stream",
     "text": [
      "<class 'pandas.core.frame.DataFrame'>\n",
      "Index: 7043 entries, 7590-VHVEG to 3186-AJIEK\n",
      "Data columns (total 22 columns):\n",
      "BeginDate           7043 non-null datetime64[ns]\n",
      "EndDate             7043 non-null object\n",
      "Type                7043 non-null object\n",
      "PaperlessBilling    7043 non-null object\n",
      "PaymentMethod       7043 non-null object\n",
      "MonthlyCharges      7043 non-null float64\n",
      "TotalCharges        7043 non-null float32\n",
      "LifeTime            7043 non-null int64\n",
      "gender              7043 non-null object\n",
      "SeniorCitizen       7043 non-null int64\n",
      "Partner             7043 non-null object\n",
      "Dependents          7043 non-null object\n",
      "InternetService     7043 non-null object\n",
      "OnlineSecurity      7043 non-null object\n",
      "OnlineBackup        7043 non-null object\n",
      "DeviceProtection    7043 non-null object\n",
      "TechSupport         7043 non-null object\n",
      "StreamingTV         7043 non-null object\n",
      "StreamingMovies     7043 non-null object\n",
      "IsInternet          7043 non-null object\n",
      "MultipleLines       7043 non-null object\n",
      "IsPhone             7043 non-null object\n",
      "dtypes: datetime64[ns](1), float32(1), float64(1), int64(2), object(17)\n",
      "memory usage: 1.5+ MB\n"
     ]
    },
    {
     "data": {
      "text/plain": [
       "None"
      ]
     },
     "metadata": {},
     "output_type": "display_data"
    },
    {
     "data": {
      "text/html": [
       "<div>\n",
       "<style scoped>\n",
       "    .dataframe tbody tr th:only-of-type {\n",
       "        vertical-align: middle;\n",
       "    }\n",
       "\n",
       "    .dataframe tbody tr th {\n",
       "        vertical-align: top;\n",
       "    }\n",
       "\n",
       "    .dataframe thead th {\n",
       "        text-align: right;\n",
       "    }\n",
       "</style>\n",
       "<table border=\"1\" class=\"dataframe\">\n",
       "  <thead>\n",
       "    <tr style=\"text-align: right;\">\n",
       "      <th></th>\n",
       "      <th>MonthlyCharges</th>\n",
       "      <th>TotalCharges</th>\n",
       "      <th>LifeTime</th>\n",
       "      <th>SeniorCitizen</th>\n",
       "    </tr>\n",
       "  </thead>\n",
       "  <tbody>\n",
       "    <tr>\n",
       "      <td>count</td>\n",
       "      <td>7043.000000</td>\n",
       "      <td>7043.000000</td>\n",
       "      <td>7043.000000</td>\n",
       "      <td>7043.000000</td>\n",
       "    </tr>\n",
       "    <tr>\n",
       "      <td>mean</td>\n",
       "      <td>64.761692</td>\n",
       "      <td>2279.734375</td>\n",
       "      <td>985.996166</td>\n",
       "      <td>0.162147</td>\n",
       "    </tr>\n",
       "    <tr>\n",
       "      <td>std</td>\n",
       "      <td>30.090047</td>\n",
       "      <td>2266.794434</td>\n",
       "      <td>747.587844</td>\n",
       "      <td>0.368612</td>\n",
       "    </tr>\n",
       "    <tr>\n",
       "      <td>min</td>\n",
       "      <td>18.250000</td>\n",
       "      <td>0.000000</td>\n",
       "      <td>0.000000</td>\n",
       "      <td>0.000000</td>\n",
       "    </tr>\n",
       "    <tr>\n",
       "      <td>25%</td>\n",
       "      <td>35.500000</td>\n",
       "      <td>398.549988</td>\n",
       "      <td>273.000000</td>\n",
       "      <td>0.000000</td>\n",
       "    </tr>\n",
       "    <tr>\n",
       "      <td>50%</td>\n",
       "      <td>70.350000</td>\n",
       "      <td>1394.550049</td>\n",
       "      <td>883.000000</td>\n",
       "      <td>0.000000</td>\n",
       "    </tr>\n",
       "    <tr>\n",
       "      <td>75%</td>\n",
       "      <td>89.850000</td>\n",
       "      <td>3786.599976</td>\n",
       "      <td>1676.000000</td>\n",
       "      <td>0.000000</td>\n",
       "    </tr>\n",
       "    <tr>\n",
       "      <td>max</td>\n",
       "      <td>118.750000</td>\n",
       "      <td>8684.799805</td>\n",
       "      <td>2191.000000</td>\n",
       "      <td>1.000000</td>\n",
       "    </tr>\n",
       "  </tbody>\n",
       "</table>\n",
       "</div>"
      ],
      "text/plain": [
       "       MonthlyCharges  TotalCharges     LifeTime  SeniorCitizen\n",
       "count     7043.000000   7043.000000  7043.000000    7043.000000\n",
       "mean        64.761692   2279.734375   985.996166       0.162147\n",
       "std         30.090047   2266.794434   747.587844       0.368612\n",
       "min         18.250000      0.000000     0.000000       0.000000\n",
       "25%         35.500000    398.549988   273.000000       0.000000\n",
       "50%         70.350000   1394.550049   883.000000       0.000000\n",
       "75%         89.850000   3786.599976  1676.000000       0.000000\n",
       "max        118.750000   8684.799805  2191.000000       1.000000"
      ]
     },
     "metadata": {},
     "output_type": "display_data"
    },
    {
     "data": {
      "text/html": [
       "<style  type=\"text/css\" >\n",
       "</style><table id=\"T_edb8fb7e_648d_11eb_9f1a_f0761c3cb6d8\" ><thead>    <tr>        <th class=\"blank level0\" ></th>        <th class=\"col_heading level0 col0\" >nan</th>        <th class=\"col_heading level0 col1\" >rate</th>    </tr></thead><tbody>\n",
       "                <tr>\n",
       "                        <th id=\"T_edb8fb7e_648d_11eb_9f1a_f0761c3cb6d8level0_row0\" class=\"row_heading level0 row0\" >BeginDate</th>\n",
       "                        <td id=\"T_edb8fb7e_648d_11eb_9f1a_f0761c3cb6d8row0_col0\" class=\"data row0 col0\" >0</td>\n",
       "                        <td id=\"T_edb8fb7e_648d_11eb_9f1a_f0761c3cb6d8row0_col1\" class=\"data row0 col1\" >0.00%</td>\n",
       "            </tr>\n",
       "            <tr>\n",
       "                        <th id=\"T_edb8fb7e_648d_11eb_9f1a_f0761c3cb6d8level0_row1\" class=\"row_heading level0 row1\" >EndDate</th>\n",
       "                        <td id=\"T_edb8fb7e_648d_11eb_9f1a_f0761c3cb6d8row1_col0\" class=\"data row1 col0\" >0</td>\n",
       "                        <td id=\"T_edb8fb7e_648d_11eb_9f1a_f0761c3cb6d8row1_col1\" class=\"data row1 col1\" >0.00%</td>\n",
       "            </tr>\n",
       "            <tr>\n",
       "                        <th id=\"T_edb8fb7e_648d_11eb_9f1a_f0761c3cb6d8level0_row2\" class=\"row_heading level0 row2\" >Type</th>\n",
       "                        <td id=\"T_edb8fb7e_648d_11eb_9f1a_f0761c3cb6d8row2_col0\" class=\"data row2 col0\" >0</td>\n",
       "                        <td id=\"T_edb8fb7e_648d_11eb_9f1a_f0761c3cb6d8row2_col1\" class=\"data row2 col1\" >0.00%</td>\n",
       "            </tr>\n",
       "            <tr>\n",
       "                        <th id=\"T_edb8fb7e_648d_11eb_9f1a_f0761c3cb6d8level0_row3\" class=\"row_heading level0 row3\" >PaperlessBilling</th>\n",
       "                        <td id=\"T_edb8fb7e_648d_11eb_9f1a_f0761c3cb6d8row3_col0\" class=\"data row3 col0\" >0</td>\n",
       "                        <td id=\"T_edb8fb7e_648d_11eb_9f1a_f0761c3cb6d8row3_col1\" class=\"data row3 col1\" >0.00%</td>\n",
       "            </tr>\n",
       "            <tr>\n",
       "                        <th id=\"T_edb8fb7e_648d_11eb_9f1a_f0761c3cb6d8level0_row4\" class=\"row_heading level0 row4\" >PaymentMethod</th>\n",
       "                        <td id=\"T_edb8fb7e_648d_11eb_9f1a_f0761c3cb6d8row4_col0\" class=\"data row4 col0\" >0</td>\n",
       "                        <td id=\"T_edb8fb7e_648d_11eb_9f1a_f0761c3cb6d8row4_col1\" class=\"data row4 col1\" >0.00%</td>\n",
       "            </tr>\n",
       "            <tr>\n",
       "                        <th id=\"T_edb8fb7e_648d_11eb_9f1a_f0761c3cb6d8level0_row5\" class=\"row_heading level0 row5\" >MonthlyCharges</th>\n",
       "                        <td id=\"T_edb8fb7e_648d_11eb_9f1a_f0761c3cb6d8row5_col0\" class=\"data row5 col0\" >0</td>\n",
       "                        <td id=\"T_edb8fb7e_648d_11eb_9f1a_f0761c3cb6d8row5_col1\" class=\"data row5 col1\" >0.00%</td>\n",
       "            </tr>\n",
       "            <tr>\n",
       "                        <th id=\"T_edb8fb7e_648d_11eb_9f1a_f0761c3cb6d8level0_row6\" class=\"row_heading level0 row6\" >TotalCharges</th>\n",
       "                        <td id=\"T_edb8fb7e_648d_11eb_9f1a_f0761c3cb6d8row6_col0\" class=\"data row6 col0\" >0</td>\n",
       "                        <td id=\"T_edb8fb7e_648d_11eb_9f1a_f0761c3cb6d8row6_col1\" class=\"data row6 col1\" >0.00%</td>\n",
       "            </tr>\n",
       "            <tr>\n",
       "                        <th id=\"T_edb8fb7e_648d_11eb_9f1a_f0761c3cb6d8level0_row7\" class=\"row_heading level0 row7\" >LifeTime</th>\n",
       "                        <td id=\"T_edb8fb7e_648d_11eb_9f1a_f0761c3cb6d8row7_col0\" class=\"data row7 col0\" >0</td>\n",
       "                        <td id=\"T_edb8fb7e_648d_11eb_9f1a_f0761c3cb6d8row7_col1\" class=\"data row7 col1\" >0.00%</td>\n",
       "            </tr>\n",
       "            <tr>\n",
       "                        <th id=\"T_edb8fb7e_648d_11eb_9f1a_f0761c3cb6d8level0_row8\" class=\"row_heading level0 row8\" >gender</th>\n",
       "                        <td id=\"T_edb8fb7e_648d_11eb_9f1a_f0761c3cb6d8row8_col0\" class=\"data row8 col0\" >0</td>\n",
       "                        <td id=\"T_edb8fb7e_648d_11eb_9f1a_f0761c3cb6d8row8_col1\" class=\"data row8 col1\" >0.00%</td>\n",
       "            </tr>\n",
       "            <tr>\n",
       "                        <th id=\"T_edb8fb7e_648d_11eb_9f1a_f0761c3cb6d8level0_row9\" class=\"row_heading level0 row9\" >SeniorCitizen</th>\n",
       "                        <td id=\"T_edb8fb7e_648d_11eb_9f1a_f0761c3cb6d8row9_col0\" class=\"data row9 col0\" >0</td>\n",
       "                        <td id=\"T_edb8fb7e_648d_11eb_9f1a_f0761c3cb6d8row9_col1\" class=\"data row9 col1\" >0.00%</td>\n",
       "            </tr>\n",
       "            <tr>\n",
       "                        <th id=\"T_edb8fb7e_648d_11eb_9f1a_f0761c3cb6d8level0_row10\" class=\"row_heading level0 row10\" >Partner</th>\n",
       "                        <td id=\"T_edb8fb7e_648d_11eb_9f1a_f0761c3cb6d8row10_col0\" class=\"data row10 col0\" >0</td>\n",
       "                        <td id=\"T_edb8fb7e_648d_11eb_9f1a_f0761c3cb6d8row10_col1\" class=\"data row10 col1\" >0.00%</td>\n",
       "            </tr>\n",
       "            <tr>\n",
       "                        <th id=\"T_edb8fb7e_648d_11eb_9f1a_f0761c3cb6d8level0_row11\" class=\"row_heading level0 row11\" >Dependents</th>\n",
       "                        <td id=\"T_edb8fb7e_648d_11eb_9f1a_f0761c3cb6d8row11_col0\" class=\"data row11 col0\" >0</td>\n",
       "                        <td id=\"T_edb8fb7e_648d_11eb_9f1a_f0761c3cb6d8row11_col1\" class=\"data row11 col1\" >0.00%</td>\n",
       "            </tr>\n",
       "            <tr>\n",
       "                        <th id=\"T_edb8fb7e_648d_11eb_9f1a_f0761c3cb6d8level0_row12\" class=\"row_heading level0 row12\" >InternetService</th>\n",
       "                        <td id=\"T_edb8fb7e_648d_11eb_9f1a_f0761c3cb6d8row12_col0\" class=\"data row12 col0\" >0</td>\n",
       "                        <td id=\"T_edb8fb7e_648d_11eb_9f1a_f0761c3cb6d8row12_col1\" class=\"data row12 col1\" >0.00%</td>\n",
       "            </tr>\n",
       "            <tr>\n",
       "                        <th id=\"T_edb8fb7e_648d_11eb_9f1a_f0761c3cb6d8level0_row13\" class=\"row_heading level0 row13\" >OnlineSecurity</th>\n",
       "                        <td id=\"T_edb8fb7e_648d_11eb_9f1a_f0761c3cb6d8row13_col0\" class=\"data row13 col0\" >0</td>\n",
       "                        <td id=\"T_edb8fb7e_648d_11eb_9f1a_f0761c3cb6d8row13_col1\" class=\"data row13 col1\" >0.00%</td>\n",
       "            </tr>\n",
       "            <tr>\n",
       "                        <th id=\"T_edb8fb7e_648d_11eb_9f1a_f0761c3cb6d8level0_row14\" class=\"row_heading level0 row14\" >OnlineBackup</th>\n",
       "                        <td id=\"T_edb8fb7e_648d_11eb_9f1a_f0761c3cb6d8row14_col0\" class=\"data row14 col0\" >0</td>\n",
       "                        <td id=\"T_edb8fb7e_648d_11eb_9f1a_f0761c3cb6d8row14_col1\" class=\"data row14 col1\" >0.00%</td>\n",
       "            </tr>\n",
       "            <tr>\n",
       "                        <th id=\"T_edb8fb7e_648d_11eb_9f1a_f0761c3cb6d8level0_row15\" class=\"row_heading level0 row15\" >DeviceProtection</th>\n",
       "                        <td id=\"T_edb8fb7e_648d_11eb_9f1a_f0761c3cb6d8row15_col0\" class=\"data row15 col0\" >0</td>\n",
       "                        <td id=\"T_edb8fb7e_648d_11eb_9f1a_f0761c3cb6d8row15_col1\" class=\"data row15 col1\" >0.00%</td>\n",
       "            </tr>\n",
       "            <tr>\n",
       "                        <th id=\"T_edb8fb7e_648d_11eb_9f1a_f0761c3cb6d8level0_row16\" class=\"row_heading level0 row16\" >TechSupport</th>\n",
       "                        <td id=\"T_edb8fb7e_648d_11eb_9f1a_f0761c3cb6d8row16_col0\" class=\"data row16 col0\" >0</td>\n",
       "                        <td id=\"T_edb8fb7e_648d_11eb_9f1a_f0761c3cb6d8row16_col1\" class=\"data row16 col1\" >0.00%</td>\n",
       "            </tr>\n",
       "            <tr>\n",
       "                        <th id=\"T_edb8fb7e_648d_11eb_9f1a_f0761c3cb6d8level0_row17\" class=\"row_heading level0 row17\" >StreamingTV</th>\n",
       "                        <td id=\"T_edb8fb7e_648d_11eb_9f1a_f0761c3cb6d8row17_col0\" class=\"data row17 col0\" >0</td>\n",
       "                        <td id=\"T_edb8fb7e_648d_11eb_9f1a_f0761c3cb6d8row17_col1\" class=\"data row17 col1\" >0.00%</td>\n",
       "            </tr>\n",
       "            <tr>\n",
       "                        <th id=\"T_edb8fb7e_648d_11eb_9f1a_f0761c3cb6d8level0_row18\" class=\"row_heading level0 row18\" >StreamingMovies</th>\n",
       "                        <td id=\"T_edb8fb7e_648d_11eb_9f1a_f0761c3cb6d8row18_col0\" class=\"data row18 col0\" >0</td>\n",
       "                        <td id=\"T_edb8fb7e_648d_11eb_9f1a_f0761c3cb6d8row18_col1\" class=\"data row18 col1\" >0.00%</td>\n",
       "            </tr>\n",
       "            <tr>\n",
       "                        <th id=\"T_edb8fb7e_648d_11eb_9f1a_f0761c3cb6d8level0_row19\" class=\"row_heading level0 row19\" >IsInternet</th>\n",
       "                        <td id=\"T_edb8fb7e_648d_11eb_9f1a_f0761c3cb6d8row19_col0\" class=\"data row19 col0\" >0</td>\n",
       "                        <td id=\"T_edb8fb7e_648d_11eb_9f1a_f0761c3cb6d8row19_col1\" class=\"data row19 col1\" >0.00%</td>\n",
       "            </tr>\n",
       "            <tr>\n",
       "                        <th id=\"T_edb8fb7e_648d_11eb_9f1a_f0761c3cb6d8level0_row20\" class=\"row_heading level0 row20\" >MultipleLines</th>\n",
       "                        <td id=\"T_edb8fb7e_648d_11eb_9f1a_f0761c3cb6d8row20_col0\" class=\"data row20 col0\" >0</td>\n",
       "                        <td id=\"T_edb8fb7e_648d_11eb_9f1a_f0761c3cb6d8row20_col1\" class=\"data row20 col1\" >0.00%</td>\n",
       "            </tr>\n",
       "            <tr>\n",
       "                        <th id=\"T_edb8fb7e_648d_11eb_9f1a_f0761c3cb6d8level0_row21\" class=\"row_heading level0 row21\" >IsPhone</th>\n",
       "                        <td id=\"T_edb8fb7e_648d_11eb_9f1a_f0761c3cb6d8row21_col0\" class=\"data row21 col0\" >0</td>\n",
       "                        <td id=\"T_edb8fb7e_648d_11eb_9f1a_f0761c3cb6d8row21_col1\" class=\"data row21 col1\" >0.00%</td>\n",
       "            </tr>\n",
       "    </tbody></table>"
      ],
      "text/plain": [
       "<pandas.io.formats.style.Styler at 0x4046de0b08>"
      ]
     },
     "metadata": {},
     "output_type": "display_data"
    }
   ],
   "source": [
    "get_df_info(data)"
   ]
  },
  {
   "cell_type": "markdown",
   "metadata": {},
   "source": [
    "## Анализ поведения клиентов"
   ]
  },
  {
   "cell_type": "markdown",
   "metadata": {},
   "source": [
    "### Исследование распределения ежемесячной оплаты клиентов"
   ]
  },
  {
   "cell_type": "code",
   "execution_count": 16,
   "metadata": {},
   "outputs": [],
   "source": [
    "churn = data.loc[data['EndDate']=='churn']"
   ]
  },
  {
   "cell_type": "code",
   "execution_count": 17,
   "metadata": {},
   "outputs": [],
   "source": [
    "def analisis(data1, data2):\n",
    "  \n",
    "    sns.set(style=\"white\", palette=\"muted\", color_codes=True)\n",
    "    f, ax = plt.subplots(figsize=(8, 8), dpi= 80)\n",
    "    plt.title('Распределение ежемесячных платежей', fontdict={'fontsize':14})\n",
    "    sns.distplot(data1['MonthlyCharges'], label=\"Клиенты\", kde_kws={'linewidth':1})\n",
    "    sns.distplot(data2['MonthlyCharges'], label=\"Отток\", kde_kws={'linewidth':1})\n",
    "    plt.legend()\n",
    "    plt.show()\n",
    "    index = ['Mean', 'Min', 'Max', 'Mediana', '25%', '75%']\n",
    "    clients_stat = []\n",
    "    clients_stat.append(np.mean(data1['MonthlyCharges']))\n",
    "    clients_stat.append(np.min(data1['MonthlyCharges']))\n",
    "    clients_stat.append(np.max(data1['MonthlyCharges']))\n",
    "    clients_stat.append(np.median(data1['MonthlyCharges']))\n",
    "    clients_stat.append(np.quantile(data1['MonthlyCharges'], .25))\n",
    "    clients_stat.append(np.quantile(data1['MonthlyCharges'], .75))\n",
    "    churn_stat = []\n",
    "    churn_stat.append(np.mean(data2['MonthlyCharges']))\n",
    "    churn_stat.append(np.min(data2['MonthlyCharges']))\n",
    "    churn_stat.append(np.max(data2['MonthlyCharges']))\n",
    "    churn_stat.append(np.median(data2['MonthlyCharges']))\n",
    "    churn_stat.append(np.quantile(data2['MonthlyCharges'], .25))\n",
    "    churn_stat.append(np.quantile(data2['MonthlyCharges'], .75))\n",
    "    statistics = pd.DataFrame(clients_stat, index=index, columns=['Clients'])\n",
    "    statistics['Churn'] = churn_stat\n",
    "    print('Распределение ежемесячных платежей')\n",
    "    display(statistics)"
   ]
  },
  {
   "cell_type": "code",
   "execution_count": 18,
   "metadata": {},
   "outputs": [
    {
     "data": {
      "image/png": "[encoded data removed]",
      "text/plain": [
       "<Figure size 640x640 with 1 Axes>"
      ]
     },
     "metadata": {},
     "output_type": "display_data"
    },
    {
     "name": "stdout",
     "output_type": "stream",
     "text": [
      "Распределение ежемесячных платежей\n"
     ]
    },
    {
     "data": {
      "text/html": [
       "<div>\n",
       "<style scoped>\n",
       "    .dataframe tbody tr th:only-of-type {\n",
       "        vertical-align: middle;\n",
       "    }\n",
       "\n",
       "    .dataframe tbody tr th {\n",
       "        vertical-align: top;\n",
       "    }\n",
       "\n",
       "    .dataframe thead th {\n",
       "        text-align: right;\n",
       "    }\n",
       "</style>\n",
       "<table border=\"1\" class=\"dataframe\">\n",
       "  <thead>\n",
       "    <tr style=\"text-align: right;\">\n",
       "      <th></th>\n",
       "      <th>Clients</th>\n",
       "      <th>Churn</th>\n",
       "    </tr>\n",
       "  </thead>\n",
       "  <tbody>\n",
       "    <tr>\n",
       "      <td>Mean</td>\n",
       "      <td>64.761692</td>\n",
       "      <td>74.441332</td>\n",
       "    </tr>\n",
       "    <tr>\n",
       "      <td>Min</td>\n",
       "      <td>18.250000</td>\n",
       "      <td>18.850000</td>\n",
       "    </tr>\n",
       "    <tr>\n",
       "      <td>Max</td>\n",
       "      <td>118.750000</td>\n",
       "      <td>118.350000</td>\n",
       "    </tr>\n",
       "    <tr>\n",
       "      <td>Mediana</td>\n",
       "      <td>70.350000</td>\n",
       "      <td>79.650000</td>\n",
       "    </tr>\n",
       "    <tr>\n",
       "      <td>25%</td>\n",
       "      <td>35.500000</td>\n",
       "      <td>56.150000</td>\n",
       "    </tr>\n",
       "    <tr>\n",
       "      <td>75%</td>\n",
       "      <td>89.850000</td>\n",
       "      <td>94.200000</td>\n",
       "    </tr>\n",
       "  </tbody>\n",
       "</table>\n",
       "</div>"
      ],
      "text/plain": [
       "            Clients       Churn\n",
       "Mean      64.761692   74.441332\n",
       "Min       18.250000   18.850000\n",
       "Max      118.750000  118.350000\n",
       "Mediana   70.350000   79.650000\n",
       "25%       35.500000   56.150000\n",
       "75%       89.850000   94.200000"
      ]
     },
     "metadata": {},
     "output_type": "display_data"
    }
   ],
   "source": [
    "analisis(data, churn)"
   ]
  },
  {
   "cell_type": "markdown",
   "metadata": {},
   "source": [
    "По графику можно заметить что отток клиентов больше среди тех у кого ежемесячная оплата в промежутке от 70 до 110."
   ]
  },
  {
   "cell_type": "markdown",
   "metadata": {},
   "source": [
    "Проверим гипотезу что средняя помесячная оплата отточных клиентов не отличается от всех.\n",
    "В нулевой гипотезе (H0) предположим что средняя помесячная оплата равна. Тогда альтренативная гипотеза будет звучать как: Средняя оплата отличается."
   ]
  },
  {
   "cell_type": "code",
   "execution_count": 19,
   "metadata": {},
   "outputs": [
    {
     "name": "stdout",
     "output_type": "stream",
     "text": [
      "p-значение: 1.672642398172353e-45\n",
      "Отвергаем нулевую гипотезу\n"
     ]
    }
   ],
   "source": [
    "alpha = .01 #объём выборок больше 100. Критический уровень статистической значимости 1% даст более точные результаты.\n",
    "\n",
    "results = st.ttest_ind(\n",
    "    data['MonthlyCharges'], \n",
    "    churn['MonthlyCharges'], equal_var = False)\n",
    "\n",
    "print('p-значение:', results.pvalue)\n",
    "\n",
    "if (results.pvalue < alpha):\n",
    "    print(\"Отвергаем нулевую гипотезу\")\n",
    "else:\n",
    "    print(\"Не получилось отвергнуть нулевую гипотезу\")"
   ]
  },
  {
   "cell_type": "markdown",
   "metadata": {},
   "source": [
    "По результатам статистического теста отвергаем нулевую гипотезу. "
   ]
  },
  {
   "cell_type": "markdown",
   "metadata": {},
   "source": [
    "### Исследование поведения клиентов"
   ]
  },
  {
   "cell_type": "code",
   "execution_count": 20,
   "metadata": {},
   "outputs": [],
   "source": [
    "def get_pie(data, title):\n",
    "    def label_function(val):\n",
    "        return f'{val / 100 * len(data):.0f}\\n{val:.0f}%'\n",
    "    fig, (ax1, ax2) = plt.subplots(ncols=2, figsize=(10, 5))\n",
    "    fig.suptitle(title, fontdict={'fontsize':22})\n",
    "    data.groupby('IsInternet').size().plot(kind='pie', autopct=label_function, textprops={'fontsize': 20},\n",
    "                                      colors=['tomato', 'gold'], ax=ax1)\n",
    "    data.groupby('IsPhone').size().plot(kind='pie', autopct=label_function, textprops={'fontsize': 20},\n",
    "                                     colors=['violet', 'skyblue'], ax=ax2)\n",
    "    ax1.set_xlabel('Internet', size=20)\n",
    "    ax2.set_xlabel('Phone', size=20)\n",
    "    ax1.set_ylabel(' ', size=20)\n",
    "    ax2.set_ylabel(' ', size=20)\n",
    "    plt.tight_layout()\n",
    "    plt.show()"
   ]
  },
  {
   "cell_type": "code",
   "execution_count": 21,
   "metadata": {},
   "outputs": [
    {
     "data": {
      "image/png": "[encoded data removed]",
      "text/plain": [
       "<Figure size 720x360 with 2 Axes>"
      ]
     },
     "metadata": {},
     "output_type": "display_data"
    }
   ],
   "source": [
    "get_pie(data, 'Клиенты оператора')"
   ]
  },
  {
   "cell_type": "code",
   "execution_count": 22,
   "metadata": {},
   "outputs": [
    {
     "data": {
      "image/png": "[encoded data removed]",
      "text/plain": [
       "<Figure size 720x360 with 2 Axes>"
      ]
     },
     "metadata": {},
     "output_type": "display_data"
    }
   ],
   "source": [
    "get_pie(churn, 'Отток')"
   ]
  },
  {
   "cell_type": "markdown",
   "metadata": {},
   "source": [
    "Из круговой диаграммы видно, что среди тех кто решил перестать пользоваться услугами оператора, больше тех кто пользовался интернетом. "
   ]
  },
  {
   "cell_type": "code",
   "execution_count": 23,
   "metadata": {},
   "outputs": [
    {
     "data": {
      "image/png": "[encoded data removed]",
      "text/plain": [
       "<Figure size 720x360 with 1 Axes>"
      ]
     },
     "metadata": {},
     "output_type": "display_data"
    }
   ],
   "source": [
    "sns.set(style=\"white\", palette=\"Set2\", color_codes=True)\n",
    "fig, ax = plt.subplots(figsize=(10, 5))\n",
    "fig.suptitle('Internet', fontdict={'fontsize':22})\n",
    "ax = sns.countplot(x='EndDate', hue=\"IsInternet\", data=data)\n",
    "\n",
    "ax.set_xlabel('Целевой признак', size=14)\n",
    "ax.set_ylabel('Количество', size=14)\n",
    "plt.show()"
   ]
  },
  {
   "cell_type": "code",
   "execution_count": 24,
   "metadata": {},
   "outputs": [
    {
     "data": {
      "image/png": "[encoded data removed]",
      "text/plain": [
       "<Figure size 720x360 with 1 Axes>"
      ]
     },
     "metadata": {},
     "output_type": "display_data"
    }
   ],
   "source": [
    "sns.set(style=\"white\", palette=\"Set3\", color_codes=True)\n",
    "fig, ax = plt.subplots(figsize=(10, 5))\n",
    "fig.suptitle('Phone', fontdict={'fontsize':22})\n",
    "ax = sns.countplot(x='EndDate', hue=\"IsPhone\", data=data)\n",
    "ax.set_xlabel('Целевой признак', size=14)\n",
    "ax.set_ylabel('Количество', size=14)\n",
    "plt.show()"
   ]
  },
  {
   "cell_type": "markdown",
   "metadata": {},
   "source": [
    "### Выводы:\n",
    "- По графику распределения ежемесячных платежей можно заметить что отток клиентов больше среди тех у кого ежемесячная оплата в промежутке от 70 до 110.\n",
    "- По результатам статистического теста отвергаем нулевую гипотезу о том что средняя ежемесячная оплата тех кто перестал пользоваться услугами оператора не обличается от остальных клиентов. \n",
    "- Среди ушедших пользователей меньше тех кто не пользовался интернетом (6% против 22% среди всех клиентов)"
   ]
  }
 ],
 "metadata": {
  "kernelspec": {
   "display_name": "Python 3",
   "language": "python",
   "name": "python3"
  },
  "language_info": {
   "codemirror_mode": {
    "name": "ipython",
    "version": 3
   },
   "file_extension": ".py",
   "mimetype": "text/x-python",
   "name": "python",
   "nbconvert_exporter": "python",
   "pygments_lexer": "ipython3",
   "version": "3.7.8"
  }
 },
 "nbformat": 4,
 "nbformat_minor": 4
}
