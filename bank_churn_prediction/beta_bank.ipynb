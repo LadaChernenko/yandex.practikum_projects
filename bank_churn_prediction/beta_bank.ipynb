{
 "cells": [
  {
   "cell_type": "markdown",
   "metadata": {},
   "source": [
    "# Отток клиентов"
   ]
  },
  {
   "cell_type": "markdown",
   "metadata": {},
   "source": [
    "Необходимо спрогнозировать, уйдёт клиент из банка в ближайшее время или нет. Имеются исторические данные о поведении клиентов и расторжении договоров с банком. \n",
    "\n",
    "Источник данных: [https://www.kaggle.com/barelydedicated/bank-customer-churn-modeling](https://www.kaggle.com/barelydedicated/bank-customer-churn-modeling)"
   ]
  },
  {
   "cell_type": "markdown",
   "metadata": {},
   "source": [
    "## План выполнения работы:\n",
    "### <a href=#1>1. Подготовка данных</a>\n",
    "   #### <a href=#a_1> Исследование данных</a>\n",
    "   #### <a href=#b_1> Замена пропусков</a>\n",
    "   #### <a href=#c_1> Кодирование категориальных признаков</a>\n",
    "   #### <a href=#d_1> Приведение количественных признаков к одному масштабу</a>\n",
    "   #### <a href=#e_1> Подготовка выборки</a>\n",
    "\n",
    "### <a href=#2>2. Исследование задачи</a>\n",
    "   #### <a href=#a_2> Найдём соотношение классов в целвом признаке</a>\n",
    "   #### <a href=#b_2> Обучим модели на несбалансированных данных</a>\n",
    "### <a href=#3>3. Борьба с дисбалансом</a>\n",
    "   #### <a href=#a_3> Взвешевание классов</a>\n",
    "   #### <a href=#b_3> Upsampling (увеличение выборки)</a>\n",
    "   #### <a href=#c_3> Downsampling (уменьшение выборки)</a>\n",
    "   #### <a href=#d_3> Подбор гиперпараметров</a>\n",
    "   #### <a href=#e_3> Обучение модели</a>\n",
    "### <a href=#4>4. Тестирование модели </a> \n",
    "### <a href=#5>5. Вывод </a> \n"
   ]
  },
  {
   "cell_type": "markdown",
   "metadata": {},
   "source": [
    "# <a id='1'> 1. Подготовка данных</a> "
   ]
  },
  {
   "cell_type": "code",
   "execution_count": 1,
   "metadata": {},
   "outputs": [],
   "source": [
    "import pandas as pd\n",
    "import numpy as np\n",
    "from sklearn.model_selection import train_test_split, RandomizedSearchCV, cross_val_score\n",
    "from sklearn.utils import shuffle\n",
    "from sklearn.preprocessing import StandardScaler\n",
    "from sklearn.ensemble import RandomForestClassifier\n",
    "from sklearn.tree import DecisionTreeClassifier\n",
    "from sklearn.linear_model import LogisticRegression \n",
    "import matplotlib.pyplot as plt\n",
    "from sklearn import metrics\n",
    "import warnings"
   ]
  },
  {
   "cell_type": "markdown",
   "metadata": {},
   "source": [
    "### <a id='a_1'> Исследование данных:</a> "
   ]
  },
  {
   "cell_type": "code",
   "execution_count": 2,
   "metadata": {},
   "outputs": [],
   "source": [
    "churn = pd.read_csv('\\practikum\\Churn.csv', index_col='RowNumber')\n"
   ]
  },
  {
   "cell_type": "code",
   "execution_count": 3,
   "metadata": {},
   "outputs": [
    {
     "name": "stdout",
     "output_type": "stream",
     "text": [
      "<class 'pandas.core.frame.DataFrame'>\n",
      "Int64Index: 10000 entries, 1 to 10000\n",
      "Data columns (total 13 columns):\n",
      " #   Column           Non-Null Count  Dtype  \n",
      "---  ------           --------------  -----  \n",
      " 0   CustomerId       10000 non-null  int64  \n",
      " 1   Surname          10000 non-null  object \n",
      " 2   CreditScore      10000 non-null  int64  \n",
      " 3   Geography        10000 non-null  object \n",
      " 4   Gender           10000 non-null  object \n",
      " 5   Age              10000 non-null  int64  \n",
      " 6   Tenure           9091 non-null   float64\n",
      " 7   Balance          10000 non-null  float64\n",
      " 8   NumOfProducts    10000 non-null  int64  \n",
      " 9   HasCrCard        10000 non-null  int64  \n",
      " 10  IsActiveMember   10000 non-null  int64  \n",
      " 11  EstimatedSalary  10000 non-null  float64\n",
      " 12  Exited           10000 non-null  int64  \n",
      "dtypes: float64(3), int64(7), object(3)\n",
      "memory usage: 1.1+ MB\n"
     ]
    }
   ],
   "source": [
    "churn.info()"
   ]
  },
  {
   "cell_type": "markdown",
   "metadata": {},
   "source": [
    "#### Вывод:\n",
    "В выборке присутствуют\n",
    "- бинарные признаки в столбцах HasCrCard и IsActiveMember, \n",
    "- количественные в столбцах CreditScore, Age, Tenure, Balance, NumOfProducts, EstimatedSalary\n",
    "- категориальные признаки в столбцах Surname, Geography, Gender\n",
    "\n",
    "Есть пропуски в столбце Tenure (количество недвижимости у клиента)\n",
    "\n",
    "К категориальным признакам необходимо применить one-hot-encoding\n",
    "\n",
    "Все количественные признаки необходимо привести к одному масштабу."
   ]
  },
  {
   "cell_type": "markdown",
   "metadata": {},
   "source": [
    "### <a id='b_1'> Замена пропусков:</a> "
   ]
  },
  {
   "cell_type": "code",
   "execution_count": 4,
   "metadata": {},
   "outputs": [
    {
     "data": {
      "text/html": [
       "<style  type=\"text/css\" >\n",
       "</style><table id=\"T_f99ea183_08a2_11eb_a1e2_f0761c3cb6d8\" ><thead>    <tr>        <th class=\"blank level0\" ></th>        <th class=\"col_heading level0 col0\" >nan</th>        <th class=\"col_heading level0 col1\" >rate</th>    </tr></thead><tbody>\n",
       "                <tr>\n",
       "                        <th id=\"T_f99ea183_08a2_11eb_a1e2_f0761c3cb6d8level0_row0\" class=\"row_heading level0 row0\" >CustomerId</th>\n",
       "                        <td id=\"T_f99ea183_08a2_11eb_a1e2_f0761c3cb6d8row0_col0\" class=\"data row0 col0\" >0</td>\n",
       "                        <td id=\"T_f99ea183_08a2_11eb_a1e2_f0761c3cb6d8row0_col1\" class=\"data row0 col1\" >0.00%</td>\n",
       "            </tr>\n",
       "            <tr>\n",
       "                        <th id=\"T_f99ea183_08a2_11eb_a1e2_f0761c3cb6d8level0_row1\" class=\"row_heading level0 row1\" >Surname</th>\n",
       "                        <td id=\"T_f99ea183_08a2_11eb_a1e2_f0761c3cb6d8row1_col0\" class=\"data row1 col0\" >0</td>\n",
       "                        <td id=\"T_f99ea183_08a2_11eb_a1e2_f0761c3cb6d8row1_col1\" class=\"data row1 col1\" >0.00%</td>\n",
       "            </tr>\n",
       "            <tr>\n",
       "                        <th id=\"T_f99ea183_08a2_11eb_a1e2_f0761c3cb6d8level0_row2\" class=\"row_heading level0 row2\" >CreditScore</th>\n",
       "                        <td id=\"T_f99ea183_08a2_11eb_a1e2_f0761c3cb6d8row2_col0\" class=\"data row2 col0\" >0</td>\n",
       "                        <td id=\"T_f99ea183_08a2_11eb_a1e2_f0761c3cb6d8row2_col1\" class=\"data row2 col1\" >0.00%</td>\n",
       "            </tr>\n",
       "            <tr>\n",
       "                        <th id=\"T_f99ea183_08a2_11eb_a1e2_f0761c3cb6d8level0_row3\" class=\"row_heading level0 row3\" >Geography</th>\n",
       "                        <td id=\"T_f99ea183_08a2_11eb_a1e2_f0761c3cb6d8row3_col0\" class=\"data row3 col0\" >0</td>\n",
       "                        <td id=\"T_f99ea183_08a2_11eb_a1e2_f0761c3cb6d8row3_col1\" class=\"data row3 col1\" >0.00%</td>\n",
       "            </tr>\n",
       "            <tr>\n",
       "                        <th id=\"T_f99ea183_08a2_11eb_a1e2_f0761c3cb6d8level0_row4\" class=\"row_heading level0 row4\" >Gender</th>\n",
       "                        <td id=\"T_f99ea183_08a2_11eb_a1e2_f0761c3cb6d8row4_col0\" class=\"data row4 col0\" >0</td>\n",
       "                        <td id=\"T_f99ea183_08a2_11eb_a1e2_f0761c3cb6d8row4_col1\" class=\"data row4 col1\" >0.00%</td>\n",
       "            </tr>\n",
       "            <tr>\n",
       "                        <th id=\"T_f99ea183_08a2_11eb_a1e2_f0761c3cb6d8level0_row5\" class=\"row_heading level0 row5\" >Age</th>\n",
       "                        <td id=\"T_f99ea183_08a2_11eb_a1e2_f0761c3cb6d8row5_col0\" class=\"data row5 col0\" >0</td>\n",
       "                        <td id=\"T_f99ea183_08a2_11eb_a1e2_f0761c3cb6d8row5_col1\" class=\"data row5 col1\" >0.00%</td>\n",
       "            </tr>\n",
       "            <tr>\n",
       "                        <th id=\"T_f99ea183_08a2_11eb_a1e2_f0761c3cb6d8level0_row6\" class=\"row_heading level0 row6\" >Tenure</th>\n",
       "                        <td id=\"T_f99ea183_08a2_11eb_a1e2_f0761c3cb6d8row6_col0\" class=\"data row6 col0\" >909</td>\n",
       "                        <td id=\"T_f99ea183_08a2_11eb_a1e2_f0761c3cb6d8row6_col1\" class=\"data row6 col1\" >9.09%</td>\n",
       "            </tr>\n",
       "            <tr>\n",
       "                        <th id=\"T_f99ea183_08a2_11eb_a1e2_f0761c3cb6d8level0_row7\" class=\"row_heading level0 row7\" >Balance</th>\n",
       "                        <td id=\"T_f99ea183_08a2_11eb_a1e2_f0761c3cb6d8row7_col0\" class=\"data row7 col0\" >0</td>\n",
       "                        <td id=\"T_f99ea183_08a2_11eb_a1e2_f0761c3cb6d8row7_col1\" class=\"data row7 col1\" >0.00%</td>\n",
       "            </tr>\n",
       "            <tr>\n",
       "                        <th id=\"T_f99ea183_08a2_11eb_a1e2_f0761c3cb6d8level0_row8\" class=\"row_heading level0 row8\" >NumOfProducts</th>\n",
       "                        <td id=\"T_f99ea183_08a2_11eb_a1e2_f0761c3cb6d8row8_col0\" class=\"data row8 col0\" >0</td>\n",
       "                        <td id=\"T_f99ea183_08a2_11eb_a1e2_f0761c3cb6d8row8_col1\" class=\"data row8 col1\" >0.00%</td>\n",
       "            </tr>\n",
       "            <tr>\n",
       "                        <th id=\"T_f99ea183_08a2_11eb_a1e2_f0761c3cb6d8level0_row9\" class=\"row_heading level0 row9\" >HasCrCard</th>\n",
       "                        <td id=\"T_f99ea183_08a2_11eb_a1e2_f0761c3cb6d8row9_col0\" class=\"data row9 col0\" >0</td>\n",
       "                        <td id=\"T_f99ea183_08a2_11eb_a1e2_f0761c3cb6d8row9_col1\" class=\"data row9 col1\" >0.00%</td>\n",
       "            </tr>\n",
       "            <tr>\n",
       "                        <th id=\"T_f99ea183_08a2_11eb_a1e2_f0761c3cb6d8level0_row10\" class=\"row_heading level0 row10\" >IsActiveMember</th>\n",
       "                        <td id=\"T_f99ea183_08a2_11eb_a1e2_f0761c3cb6d8row10_col0\" class=\"data row10 col0\" >0</td>\n",
       "                        <td id=\"T_f99ea183_08a2_11eb_a1e2_f0761c3cb6d8row10_col1\" class=\"data row10 col1\" >0.00%</td>\n",
       "            </tr>\n",
       "            <tr>\n",
       "                        <th id=\"T_f99ea183_08a2_11eb_a1e2_f0761c3cb6d8level0_row11\" class=\"row_heading level0 row11\" >EstimatedSalary</th>\n",
       "                        <td id=\"T_f99ea183_08a2_11eb_a1e2_f0761c3cb6d8row11_col0\" class=\"data row11 col0\" >0</td>\n",
       "                        <td id=\"T_f99ea183_08a2_11eb_a1e2_f0761c3cb6d8row11_col1\" class=\"data row11 col1\" >0.00%</td>\n",
       "            </tr>\n",
       "            <tr>\n",
       "                        <th id=\"T_f99ea183_08a2_11eb_a1e2_f0761c3cb6d8level0_row12\" class=\"row_heading level0 row12\" >Exited</th>\n",
       "                        <td id=\"T_f99ea183_08a2_11eb_a1e2_f0761c3cb6d8row12_col0\" class=\"data row12 col0\" >0</td>\n",
       "                        <td id=\"T_f99ea183_08a2_11eb_a1e2_f0761c3cb6d8row12_col1\" class=\"data row12 col1\" >0.00%</td>\n",
       "            </tr>\n",
       "    </tbody></table>"
      ],
      "text/plain": [
       "<pandas.io.formats.style.Styler at 0x36c442faf0>"
      ]
     },
     "execution_count": 4,
     "metadata": {},
     "output_type": "execute_result"
    }
   ],
   "source": [
    "isna_data = pd.DataFrame(churn.isna().sum())\n",
    "isna_data.columns = ['nan']\n",
    "isna_data['rate'] = isna_data['nan']/len(churn)\n",
    "isna_data.style.format(\"{:.2%}\", subset='rate')"
   ]
  },
  {
   "cell_type": "code",
   "execution_count": 5,
   "metadata": {},
   "outputs": [
    {
     "data": {
      "text/plain": [
       "<matplotlib.axes._subplots.AxesSubplot at 0x36caa31970>"
      ]
     },
     "execution_count": 5,
     "metadata": {},
     "output_type": "execute_result"
    },
    {
     "data": {
      "image/png": "[encoded data removed]",
      "text/plain": [
       "<Figure size 432x288 with 1 Axes>"
      ]
     },
     "metadata": {
      "needs_background": "light"
     },
     "output_type": "display_data"
    }
   ],
   "source": [
    "churn['Tenure'].hist(bins = 21)"
   ]
  },
  {
   "cell_type": "code",
   "execution_count": 6,
   "metadata": {},
   "outputs": [
    {
     "data": {
      "text/plain": [
       "0    1.0\n",
       "dtype: float64"
      ]
     },
     "execution_count": 6,
     "metadata": {},
     "output_type": "execute_result"
    }
   ],
   "source": [
    "churn['Tenure'].mode()"
   ]
  },
  {
   "cell_type": "markdown",
   "metadata": {},
   "source": [
    "Заменим пропуски на самые часто встречающиеся значения. "
   ]
  },
  {
   "cell_type": "code",
   "execution_count": 7,
   "metadata": {},
   "outputs": [
    {
     "data": {
      "text/plain": [
       "CustomerId         0\n",
       "Surname            0\n",
       "CreditScore        0\n",
       "Geography          0\n",
       "Gender             0\n",
       "Age                0\n",
       "Tenure             0\n",
       "Balance            0\n",
       "NumOfProducts      0\n",
       "HasCrCard          0\n",
       "IsActiveMember     0\n",
       "EstimatedSalary    0\n",
       "Exited             0\n",
       "dtype: int64"
      ]
     },
     "execution_count": 7,
     "metadata": {},
     "output_type": "execute_result"
    }
   ],
   "source": [
    "churn['Tenure'] = churn['Tenure'].fillna(1)\n",
    "churn.isna().sum()"
   ]
  },
  {
   "cell_type": "markdown",
   "metadata": {},
   "source": [
    "### <a id='c_1'> Кодирование категориальных признаков:</a> "
   ]
  },
  {
   "cell_type": "code",
   "execution_count": 8,
   "metadata": {},
   "outputs": [],
   "source": [
    "churn = churn.drop(['Surname','CustomerId'] , axis=1)"
   ]
  },
  {
   "cell_type": "code",
   "execution_count": 9,
   "metadata": {},
   "outputs": [],
   "source": [
    "categories = ['Geography', 'Gender']\n",
    "quantity = ['CreditScore', 'Age', 'Tenure', 'Balance', 'NumOfProducts', 'EstimatedSalary']"
   ]
  },
  {
   "cell_type": "code",
   "execution_count": 10,
   "metadata": {},
   "outputs": [],
   "source": [
    "churn = pd.get_dummies(churn, columns=categories, drop_first=True)"
   ]
  },
  {
   "cell_type": "code",
   "execution_count": 11,
   "metadata": {},
   "outputs": [
    {
     "data": {
      "text/html": [
       "<div>\n",
       "<style scoped>\n",
       "    .dataframe tbody tr th:only-of-type {\n",
       "        vertical-align: middle;\n",
       "    }\n",
       "\n",
       "    .dataframe tbody tr th {\n",
       "        vertical-align: top;\n",
       "    }\n",
       "\n",
       "    .dataframe thead th {\n",
       "        text-align: right;\n",
       "    }\n",
       "</style>\n",
       "<table border=\"1\" class=\"dataframe\">\n",
       "  <thead>\n",
       "    <tr style=\"text-align: right;\">\n",
       "      <th></th>\n",
       "      <th>CreditScore</th>\n",
       "      <th>Age</th>\n",
       "      <th>Tenure</th>\n",
       "      <th>Balance</th>\n",
       "      <th>NumOfProducts</th>\n",
       "      <th>HasCrCard</th>\n",
       "      <th>IsActiveMember</th>\n",
       "      <th>EstimatedSalary</th>\n",
       "      <th>Exited</th>\n",
       "      <th>Geography_Germany</th>\n",
       "      <th>Geography_Spain</th>\n",
       "      <th>Gender_Male</th>\n",
       "    </tr>\n",
       "    <tr>\n",
       "      <th>RowNumber</th>\n",
       "      <th></th>\n",
       "      <th></th>\n",
       "      <th></th>\n",
       "      <th></th>\n",
       "      <th></th>\n",
       "      <th></th>\n",
       "      <th></th>\n",
       "      <th></th>\n",
       "      <th></th>\n",
       "      <th></th>\n",
       "      <th></th>\n",
       "      <th></th>\n",
       "    </tr>\n",
       "  </thead>\n",
       "  <tbody>\n",
       "    <tr>\n",
       "      <th>1</th>\n",
       "      <td>619</td>\n",
       "      <td>42</td>\n",
       "      <td>2.0</td>\n",
       "      <td>0.00</td>\n",
       "      <td>1</td>\n",
       "      <td>1</td>\n",
       "      <td>1</td>\n",
       "      <td>101348.88</td>\n",
       "      <td>1</td>\n",
       "      <td>0</td>\n",
       "      <td>0</td>\n",
       "      <td>0</td>\n",
       "    </tr>\n",
       "    <tr>\n",
       "      <th>2</th>\n",
       "      <td>608</td>\n",
       "      <td>41</td>\n",
       "      <td>1.0</td>\n",
       "      <td>83807.86</td>\n",
       "      <td>1</td>\n",
       "      <td>0</td>\n",
       "      <td>1</td>\n",
       "      <td>112542.58</td>\n",
       "      <td>0</td>\n",
       "      <td>0</td>\n",
       "      <td>1</td>\n",
       "      <td>0</td>\n",
       "    </tr>\n",
       "    <tr>\n",
       "      <th>3</th>\n",
       "      <td>502</td>\n",
       "      <td>42</td>\n",
       "      <td>8.0</td>\n",
       "      <td>159660.80</td>\n",
       "      <td>3</td>\n",
       "      <td>1</td>\n",
       "      <td>0</td>\n",
       "      <td>113931.57</td>\n",
       "      <td>1</td>\n",
       "      <td>0</td>\n",
       "      <td>0</td>\n",
       "      <td>0</td>\n",
       "    </tr>\n",
       "    <tr>\n",
       "      <th>4</th>\n",
       "      <td>699</td>\n",
       "      <td>39</td>\n",
       "      <td>1.0</td>\n",
       "      <td>0.00</td>\n",
       "      <td>2</td>\n",
       "      <td>0</td>\n",
       "      <td>0</td>\n",
       "      <td>93826.63</td>\n",
       "      <td>0</td>\n",
       "      <td>0</td>\n",
       "      <td>0</td>\n",
       "      <td>0</td>\n",
       "    </tr>\n",
       "    <tr>\n",
       "      <th>5</th>\n",
       "      <td>850</td>\n",
       "      <td>43</td>\n",
       "      <td>2.0</td>\n",
       "      <td>125510.82</td>\n",
       "      <td>1</td>\n",
       "      <td>1</td>\n",
       "      <td>1</td>\n",
       "      <td>79084.10</td>\n",
       "      <td>0</td>\n",
       "      <td>0</td>\n",
       "      <td>1</td>\n",
       "      <td>0</td>\n",
       "    </tr>\n",
       "  </tbody>\n",
       "</table>\n",
       "</div>"
      ],
      "text/plain": [
       "           CreditScore  Age  Tenure    Balance  NumOfProducts  HasCrCard  \\\n",
       "RowNumber                                                                  \n",
       "1                  619   42     2.0       0.00              1          1   \n",
       "2                  608   41     1.0   83807.86              1          0   \n",
       "3                  502   42     8.0  159660.80              3          1   \n",
       "4                  699   39     1.0       0.00              2          0   \n",
       "5                  850   43     2.0  125510.82              1          1   \n",
       "\n",
       "           IsActiveMember  EstimatedSalary  Exited  Geography_Germany  \\\n",
       "RowNumber                                                               \n",
       "1                       1        101348.88       1                  0   \n",
       "2                       1        112542.58       0                  0   \n",
       "3                       0        113931.57       1                  0   \n",
       "4                       0         93826.63       0                  0   \n",
       "5                       1         79084.10       0                  0   \n",
       "\n",
       "           Geography_Spain  Gender_Male  \n",
       "RowNumber                                \n",
       "1                        0            0  \n",
       "2                        1            0  \n",
       "3                        0            0  \n",
       "4                        0            0  \n",
       "5                        1            0  "
      ]
     },
     "execution_count": 11,
     "metadata": {},
     "output_type": "execute_result"
    }
   ],
   "source": [
    "churn.head()"
   ]
  },
  {
   "cell_type": "markdown",
   "metadata": {},
   "source": [
    "### <a id='e_1'> Подготовка выборки:</a> "
   ]
  },
  {
   "cell_type": "markdown",
   "metadata": {},
   "source": [
    "Разделим выборку на матрицу признаков и вектор целевого признака:"
   ]
  },
  {
   "cell_type": "code",
   "execution_count": 12,
   "metadata": {},
   "outputs": [],
   "source": [
    "features = churn.drop('Exited', axis=1)\n",
    "target = churn['Exited']"
   ]
  },
  {
   "cell_type": "markdown",
   "metadata": {},
   "source": [
    "Разделим выборку на обучающую, тестовую и валидационную:"
   ]
  },
  {
   "cell_type": "code",
   "execution_count": 13,
   "metadata": {},
   "outputs": [
    {
     "name": "stdout",
     "output_type": "stream",
     "text": [
      "Размеры обучающей и валидационной выборки (8000, 11) (8000,)\n",
      "Размеры тестовой выборки (2000, 11) (2000,)\n"
     ]
    }
   ],
   "source": [
    "features_train_valid, features_test, target_train_valid, target_test = train_test_split(\n",
    "    features, target, test_size=0.2, random_state=241)\n",
    "print('Размеры обучающей и валидационной выборки', features_train_valid.shape, target_train_valid.shape)\n",
    "print('Размеры тестовой выборки', features_test.shape, target_test.shape)"
   ]
  },
  {
   "cell_type": "code",
   "execution_count": 14,
   "metadata": {},
   "outputs": [
    {
     "name": "stdout",
     "output_type": "stream",
     "text": [
      "Размеры обучающей выборки (6000, 11) (6000,)\n",
      "Размеры тестовой выборки (2000, 11) (2000,)\n"
     ]
    }
   ],
   "source": [
    "features_train, features_valid, target_train, target_valid = train_test_split(\n",
    "    features_train_valid, target_train_valid, test_size=0.25, random_state=241)\n",
    "print('Размеры обучающей выборки', features_train.shape, target_train.shape)\n",
    "print('Размеры тестовой выборки', features_valid.shape, target_valid.shape)"
   ]
  },
  {
   "cell_type": "markdown",
   "metadata": {},
   "source": [
    "### <a id='d_1'> Приведение количественных признаков к одному масштабу: </a> "
   ]
  },
  {
   "cell_type": "code",
   "execution_count": 15,
   "metadata": {},
   "outputs": [],
   "source": [
    "pd.options.mode.chained_assignment = None"
   ]
  },
  {
   "cell_type": "code",
   "execution_count": 16,
   "metadata": {},
   "outputs": [
    {
     "data": {
      "text/html": [
       "<div>\n",
       "<style scoped>\n",
       "    .dataframe tbody tr th:only-of-type {\n",
       "        vertical-align: middle;\n",
       "    }\n",
       "\n",
       "    .dataframe tbody tr th {\n",
       "        vertical-align: top;\n",
       "    }\n",
       "\n",
       "    .dataframe thead th {\n",
       "        text-align: right;\n",
       "    }\n",
       "</style>\n",
       "<table border=\"1\" class=\"dataframe\">\n",
       "  <thead>\n",
       "    <tr style=\"text-align: right;\">\n",
       "      <th></th>\n",
       "      <th>CreditScore</th>\n",
       "      <th>Age</th>\n",
       "      <th>Tenure</th>\n",
       "      <th>Balance</th>\n",
       "      <th>NumOfProducts</th>\n",
       "      <th>HasCrCard</th>\n",
       "      <th>IsActiveMember</th>\n",
       "      <th>EstimatedSalary</th>\n",
       "      <th>Geography_Germany</th>\n",
       "      <th>Geography_Spain</th>\n",
       "      <th>Gender_Male</th>\n",
       "    </tr>\n",
       "    <tr>\n",
       "      <th>RowNumber</th>\n",
       "      <th></th>\n",
       "      <th></th>\n",
       "      <th></th>\n",
       "      <th></th>\n",
       "      <th></th>\n",
       "      <th></th>\n",
       "      <th></th>\n",
       "      <th></th>\n",
       "      <th></th>\n",
       "      <th></th>\n",
       "      <th></th>\n",
       "    </tr>\n",
       "  </thead>\n",
       "  <tbody>\n",
       "    <tr>\n",
       "      <th>583</th>\n",
       "      <td>-0.670249</td>\n",
       "      <td>1.751561</td>\n",
       "      <td>-0.538158</td>\n",
       "      <td>-1.229941</td>\n",
       "      <td>0.803922</td>\n",
       "      <td>0</td>\n",
       "      <td>1</td>\n",
       "      <td>-1.632003</td>\n",
       "      <td>0</td>\n",
       "      <td>1</td>\n",
       "      <td>0</td>\n",
       "    </tr>\n",
       "    <tr>\n",
       "      <th>3103</th>\n",
       "      <td>-0.114737</td>\n",
       "      <td>-0.936453</td>\n",
       "      <td>-0.538158</td>\n",
       "      <td>-1.229941</td>\n",
       "      <td>0.803922</td>\n",
       "      <td>1</td>\n",
       "      <td>0</td>\n",
       "      <td>-1.689417</td>\n",
       "      <td>0</td>\n",
       "      <td>0</td>\n",
       "      <td>0</td>\n",
       "    </tr>\n",
       "    <tr>\n",
       "      <th>3286</th>\n",
       "      <td>0.862552</td>\n",
       "      <td>0.407554</td>\n",
       "      <td>1.471768</td>\n",
       "      <td>0.346394</td>\n",
       "      <td>-0.908372</td>\n",
       "      <td>0</td>\n",
       "      <td>0</td>\n",
       "      <td>1.460581</td>\n",
       "      <td>1</td>\n",
       "      <td>0</td>\n",
       "      <td>0</td>\n",
       "    </tr>\n",
       "    <tr>\n",
       "      <th>1417</th>\n",
       "      <td>-0.680536</td>\n",
       "      <td>-0.552451</td>\n",
       "      <td>1.136781</td>\n",
       "      <td>-1.229941</td>\n",
       "      <td>0.803922</td>\n",
       "      <td>1</td>\n",
       "      <td>0</td>\n",
       "      <td>0.241165</td>\n",
       "      <td>0</td>\n",
       "      <td>1</td>\n",
       "      <td>0</td>\n",
       "    </tr>\n",
       "    <tr>\n",
       "      <th>1953</th>\n",
       "      <td>-0.279333</td>\n",
       "      <td>-1.128454</td>\n",
       "      <td>1.471768</td>\n",
       "      <td>0.280343</td>\n",
       "      <td>0.803922</td>\n",
       "      <td>0</td>\n",
       "      <td>1</td>\n",
       "      <td>-1.659501</td>\n",
       "      <td>1</td>\n",
       "      <td>0</td>\n",
       "      <td>1</td>\n",
       "    </tr>\n",
       "  </tbody>\n",
       "</table>\n",
       "</div>"
      ],
      "text/plain": [
       "           CreditScore       Age    Tenure   Balance  NumOfProducts  \\\n",
       "RowNumber                                                             \n",
       "583          -0.670249  1.751561 -0.538158 -1.229941       0.803922   \n",
       "3103         -0.114737 -0.936453 -0.538158 -1.229941       0.803922   \n",
       "3286          0.862552  0.407554  1.471768  0.346394      -0.908372   \n",
       "1417         -0.680536 -0.552451  1.136781 -1.229941       0.803922   \n",
       "1953         -0.279333 -1.128454  1.471768  0.280343       0.803922   \n",
       "\n",
       "           HasCrCard  IsActiveMember  EstimatedSalary  Geography_Germany  \\\n",
       "RowNumber                                                                  \n",
       "583                0               1        -1.632003                  0   \n",
       "3103               1               0        -1.689417                  0   \n",
       "3286               0               0         1.460581                  1   \n",
       "1417               1               0         0.241165                  0   \n",
       "1953               0               1        -1.659501                  1   \n",
       "\n",
       "           Geography_Spain  Gender_Male  \n",
       "RowNumber                                \n",
       "583                      1            0  \n",
       "3103                     0            0  \n",
       "3286                     0            0  \n",
       "1417                     1            0  \n",
       "1953                     0            1  "
      ]
     },
     "execution_count": 16,
     "metadata": {},
     "output_type": "execute_result"
    }
   ],
   "source": [
    "scaler = StandardScaler().fit(features_train[quantity])\n",
    "features_train[quantity] = scaler.transform(features_train[quantity])\n",
    "features_train.head()"
   ]
  },
  {
   "cell_type": "code",
   "execution_count": 17,
   "metadata": {},
   "outputs": [],
   "source": [
    "features_valid[quantity] = scaler.transform(features_valid[quantity])\n",
    "features_test[quantity] = scaler.transform(features_test[quantity])\n",
    "features_train_valid[quantity] = scaler.transform(features_train_valid[quantity])"
   ]
  },
  {
   "cell_type": "markdown",
   "metadata": {},
   "source": [
    "# <a id='2'> 2. Исследование задачи</a> "
   ]
  },
  {
   "cell_type": "markdown",
   "metadata": {},
   "source": [
    "### <a id='a_2'> Найдём соотношение классов в целвом признаке:</a> "
   ]
  },
  {
   "cell_type": "code",
   "execution_count": 18,
   "metadata": {},
   "outputs": [
    {
     "data": {
      "text/plain": [
       "<matplotlib.axes._subplots.AxesSubplot at 0x36cb179a00>"
      ]
     },
     "execution_count": 18,
     "metadata": {},
     "output_type": "execute_result"
    },
    {
     "data": {
      "image/png": "[encoded data removed]",
      "text/plain": [
       "<Figure size 432x288 with 1 Axes>"
      ]
     },
     "metadata": {
      "needs_background": "light"
     },
     "output_type": "display_data"
    }
   ],
   "source": [
    "target.hist(bins=3)"
   ]
  },
  {
   "cell_type": "code",
   "execution_count": 19,
   "metadata": {},
   "outputs": [
    {
     "name": "stdout",
     "output_type": "stream",
     "text": [
      "Доля отрицательного класса \"0\" = 80%\n",
      "Доля положительного класса \"1\" = 20%\n"
     ]
    }
   ],
   "source": [
    "print('Доля отрицательного класса \"0\" = {:.0%}'.format(len(churn.query('Exited==0'))/len(target)))\n",
    "print('Доля положительного класса \"1\" = {:.0%}'.format(len(churn.query('Exited!=0'))/len(target)))"
   ]
  },
  {
   "cell_type": "markdown",
   "metadata": {},
   "source": [
    "#### В целевом признаке наблюдается дисбаланс классов. "
   ]
  },
  {
   "cell_type": "markdown",
   "metadata": {},
   "source": [
    "### <a id='b_2'> Обучим модели на несбалансированных данных:</a> "
   ]
  },
  {
   "cell_type": "code",
   "execution_count": 20,
   "metadata": {},
   "outputs": [],
   "source": [
    "def get_f1(model, features_df, target_df):\n",
    "    prediction = model.predict(features_df)\n",
    "    f1 = metrics.f1_score(target_df, prediction)\n",
    "    print('F1 =', f1)\n",
    "    return f1"
   ]
  },
  {
   "cell_type": "code",
   "execution_count": 21,
   "metadata": {},
   "outputs": [],
   "source": [
    "def get_auc_score(model, features_df, target_df):\n",
    "    probabilities_valid = model.predict_proba(features_df)\n",
    "    probabilities_one_valid = probabilities_valid[:, 1]\n",
    "    auc_roc = metrics.roc_auc_score(target_df, probabilities_one_valid)\n",
    "    print('AUC-ROC =', auc_roc)\n",
    "    fpr, tpr, thresholds = metrics.roc_curve(target_df, probabilities_one_valid)\n",
    "    return fpr, tpr, auc_roc\n"
   ]
  },
  {
   "cell_type": "code",
   "execution_count": 22,
   "metadata": {},
   "outputs": [],
   "source": [
    "def get_roc_plot(fpr, tpr, model_lable):\n",
    "    plt.figure()\n",
    "    plt.plot(fpr, tpr, label=model_lable)\n",
    "    # ROC-кривая случайной модели\n",
    "    plt.plot([0, 1], [0, 1], linestyle='--', label='Случайная модель')\n",
    "    plt.xlim([0.0, 1.0])\n",
    "    plt.ylim([0.0, 1.0])\n",
    "    plt.xlabel('False Positive Rate')\n",
    "    plt.ylabel('True Positive Rate')\n",
    "    plt.title('ROC-кривая')\n",
    "    plt.legend(loc='lower right', fancybox=True)\n",
    "    plt.show()"
   ]
  },
  {
   "cell_type": "code",
   "execution_count": 23,
   "metadata": {},
   "outputs": [],
   "source": [
    "#соберём значения метрик в массивы для удобства сравнения\n",
    "unbalanced_f = []\n",
    "unbalanced_roc_auc = []"
   ]
  },
  {
   "cell_type": "code",
   "execution_count": 24,
   "metadata": {},
   "outputs": [
    {
     "name": "stdout",
     "output_type": "stream",
     "text": [
      "Оценка качества рещающего дерева на несбалансированных данных\n",
      "AUC-ROC = 0.6851895928022935\n",
      "F1 = 0.49822904368358917\n",
      "Оценка качества случайного леса на несбалансированных данных\n",
      "AUC-ROC = 0.8675466982794527\n",
      "F1 = 0.5555555555555556\n"
     ]
    }
   ],
   "source": [
    "print('Оценка качества рещающего дерева на несбалансированных данных')\n",
    "model_dtc = DecisionTreeClassifier(random_state=241).fit(features_train, target_train)\n",
    "fpr_dtc_nb, tpr_dtc_nb, auc_roc_dtc_nb = get_auc_score(model_dtc, features_valid, target_valid)\n",
    "f1_dtc_nb = get_f1(model_dtc, features_valid, target_valid)\n",
    "unbalanced_f.append(f1_dtc_nb)\n",
    "unbalanced_roc_auc.append(auc_roc_dtc_nb)\n",
    "\n",
    "print('Оценка качества случайного леса на несбалансированных данных')\n",
    "model_rfc = RandomForestClassifier(random_state=241).fit(features_train, target_train)\n",
    "fpr_rfc_nb, tpr_rfc_nb, auc_roc_rfc_nb = get_auc_score(model_rfc, features_valid, target_valid)\n",
    "f1_rfc_nb = get_f1(model_rfc, features_valid, target_valid)\n",
    "unbalanced_f.append(f1_rfc_nb)\n",
    "unbalanced_roc_auc.append(auc_roc_rfc_nb)"
   ]
  },
  {
   "cell_type": "code",
   "execution_count": 25,
   "metadata": {},
   "outputs": [
    {
     "name": "stdout",
     "output_type": "stream",
     "text": [
      "Оценка качества логистической регрессии на несбалансированных данных\n",
      "F1 = 0.3068783068783069\n",
      "AUC-ROC = 0.7728792199331432\n"
     ]
    }
   ],
   "source": [
    "print('Оценка качества логистической регрессии на несбалансированных данных')\n",
    "model_lr = LogisticRegression(random_state=241,solver='lbfgs').fit(features_train, target_train)\n",
    "f1_lr_nb = get_f1(model_lr, features_valid, target_valid)\n",
    "fpr_lr_nb, tpr_lr_nb, auc_roc_lr_nb = get_auc_score(model_lr, features_valid, target_valid)\n",
    "unbalanced_f.append(f1_lr_nb)\n",
    "unbalanced_roc_auc.append(auc_roc_lr_nb)"
   ]
  },
  {
   "cell_type": "code",
   "execution_count": 26,
   "metadata": {},
   "outputs": [],
   "source": [
    "quality_f = pd.DataFrame(unbalanced_f, columns=['F1_unbalanced'], \n",
    "                         index=['DecisionTreeClassifier', 'RandomForestClassifier', 'LogisticRegression'])\n",
    "quality_auc_roc = pd.DataFrame(unbalanced_roc_auc, columns=['AUC-ROC_unbalanced'], \n",
    "                         index=['DecisionTreeClassifier', 'RandomForestClassifier', 'LogisticRegression'])\n"
   ]
  },
  {
   "cell_type": "code",
   "execution_count": 27,
   "metadata": {},
   "outputs": [
    {
     "data": {
      "image/png": "[encoded data removed]",
      "text/plain": [
       "<Figure size 432x288 with 1 Axes>"
      ]
     },
     "metadata": {
      "needs_background": "light"
     },
     "output_type": "display_data"
    }
   ],
   "source": [
    "plt.figure()\n",
    "plt.plot(fpr_dtc_nb, tpr_dtc_nb, label='DecisionTreeClassifier')\n",
    "plt.plot(fpr_rfc_nb, tpr_rfc_nb, label='RandomForestClassifier')\n",
    "plt.plot(fpr_lr_nb, tpr_lr_nb, label='LogisticRegression')\n",
    "# ROC-кривая случайной модели\n",
    "plt.plot([0, 1], [0, 1], linestyle='--', label='Случайная модель')\n",
    "plt.xlim([0.0, 1.0])\n",
    "plt.ylim([0.0, 1.0])\n",
    "plt.xlabel('False Positive Rate')\n",
    "plt.ylabel('True Positive Rate')\n",
    "plt.title('ROC-кривая')\n",
    "plt.legend(loc='lower right', fancybox=True)\n",
    "plt.show()"
   ]
  },
  {
   "cell_type": "markdown",
   "metadata": {},
   "source": [
    "### Вывод:\n",
    "В целевом признаке наблюдается дисбаланс классов. \n",
    "- Доля отрицательного класса \"0\" = 80%\n",
    "- Доля положительного класса \"1\" = 20%\n",
    "\n",
    "По значению F1-меры видно что на несбалансированных данные лучше всего случайного леса (0.535). \n",
    "По ROC-кривой и из значения площади под ней тоже видно что случайный лес более удачная модель (0.828). Логистическая регрессия по значению f1 проигрывает у дерева, но опережает по значению площади."
   ]
  },
  {
   "cell_type": "markdown",
   "metadata": {},
   "source": [
    "# <a id='3'> 3. Борьба с дисбалансом</a> "
   ]
  },
  {
   "cell_type": "markdown",
   "metadata": {},
   "source": [
    "### <a id='a_3'> Взвешевание классов:</a> "
   ]
  },
  {
   "cell_type": "markdown",
   "metadata": {},
   "source": [
    "Обучим модели с параметром class_weight=“balanced”"
   ]
  },
  {
   "cell_type": "code",
   "execution_count": 28,
   "metadata": {},
   "outputs": [],
   "source": [
    "balanced_f = []\n",
    "balanced_roc_auc = []"
   ]
  },
  {
   "cell_type": "code",
   "execution_count": 29,
   "metadata": {},
   "outputs": [],
   "source": [
    "model_dtc = DecisionTreeClassifier(random_state=241, \n",
    "                                   class_weight='balanced').fit(features_train, target_train)\n",
    "model_rfc = RandomForestClassifier(random_state=241, \n",
    "                                   class_weight='balanced').fit(features_train, target_train)\n",
    "model_lr = LogisticRegression(random_state=241, class_weight='balanced',\n",
    "                              solver='lbfgs').fit(features_train, target_train)"
   ]
  },
  {
   "cell_type": "code",
   "execution_count": 30,
   "metadata": {},
   "outputs": [
    {
     "name": "stdout",
     "output_type": "stream",
     "text": [
      "Оценка качества рещающего дерева на сбалансированных данных\n",
      "F1 = 0.49204406364749087\n",
      "AUC-ROC = 0.6793842524995003\n"
     ]
    }
   ],
   "source": [
    "print('Оценка качества рещающего дерева на сбалансированных данных')\n",
    "f1_dtc_b = get_f1(model_dtc, features_valid, target_valid)\n",
    "fpr_dtc_b, tpr_dtc_b, auc_roc_dtc_b = get_auc_score(model_dtc, features_valid, target_valid)\n",
    "balanced_f.append(f1_dtc_b)\n",
    "balanced_roc_auc.append(auc_roc_dtc_b)"
   ]
  },
  {
   "cell_type": "code",
   "execution_count": 31,
   "metadata": {},
   "outputs": [
    {
     "name": "stdout",
     "output_type": "stream",
     "text": [
      "Оценка качества случайного леса на сбалансированных данных\n",
      "F1 = 0.5381026438569206\n",
      "AUC-ROC = 0.8624119091101886\n"
     ]
    }
   ],
   "source": [
    "print('Оценка качества случайного леса на сбалансированных данных')\n",
    "f1_rfc_b = get_f1(model_rfc, features_valid, target_valid)\n",
    "fpr_rfc_b, tpr_rfc_b, auc_roc_rfc_b = get_auc_score(model_rfc, features_valid, target_valid)\n",
    "balanced_f.append(f1_rfc_b)\n",
    "balanced_roc_auc.append(auc_roc_rfc_b)"
   ]
  },
  {
   "cell_type": "code",
   "execution_count": 32,
   "metadata": {},
   "outputs": [
    {
     "name": "stdout",
     "output_type": "stream",
     "text": [
      "Оценка качества логистической регрессии на сбалансированных данных\n",
      "F1 = 0.5016556291390729\n",
      "AUC-ROC = 0.7768933724526303\n"
     ]
    }
   ],
   "source": [
    "print('Оценка качества логистической регрессии на сбалансированных данных')\n",
    "f1_lr_b = get_f1(model_lr, features_valid, target_valid)\n",
    "fpr_lr_b, tpr_lr_b, auc_roc_lr_b = get_auc_score(model_lr, features_valid, target_valid)\n",
    "balanced_f.append(f1_lr_b)\n",
    "balanced_roc_auc.append(auc_roc_lr_b)"
   ]
  },
  {
   "cell_type": "code",
   "execution_count": 33,
   "metadata": {},
   "outputs": [],
   "source": [
    "quality_f['balanced'] = balanced_f\n",
    "quality_auc_roc['balanced'] = balanced_roc_auc"
   ]
  },
  {
   "cell_type": "markdown",
   "metadata": {},
   "source": [
    "#### F1-мера увеличилась у всех моделей."
   ]
  },
  {
   "cell_type": "markdown",
   "metadata": {},
   "source": [
    "### <a id='b_3'> Upsampling (увеличение выборки)</a> "
   ]
  },
  {
   "cell_type": "markdown",
   "metadata": {},
   "source": [
    "Икусственно увеличим количество данных со значением целевой переменной \"1\" в 4 раза."
   ]
  },
  {
   "cell_type": "code",
   "execution_count": 34,
   "metadata": {},
   "outputs": [],
   "source": [
    "def upsample(features, target, repeat):\n",
    "    features_zeros = features[target == 0]\n",
    "    features_ones = features[target == 1]\n",
    "    target_zeros = target[target == 0]\n",
    "    target_ones = target[target == 1]\n",
    "\n",
    "    features_upsampled = pd.concat([features_zeros] + [features_ones] * repeat)\n",
    "    target_upsampled = pd.concat([target_zeros] + [target_ones] * repeat)\n",
    "    \n",
    "    features_upsampled, target_upsampled = shuffle(\n",
    "        features_upsampled, target_upsampled, random_state=241)\n",
    "    \n",
    "    return features_upsampled, target_upsampled"
   ]
  },
  {
   "cell_type": "code",
   "execution_count": 35,
   "metadata": {},
   "outputs": [],
   "source": [
    "features_upsampled, target_upsampled = upsample(features_train, target_train, 4)"
   ]
  },
  {
   "cell_type": "markdown",
   "metadata": {},
   "source": [
    "Обучим на этих данных модели:"
   ]
  },
  {
   "cell_type": "code",
   "execution_count": 36,
   "metadata": {},
   "outputs": [],
   "source": [
    "upsampling_f = []\n",
    "upsampling_roc_auc = []"
   ]
  },
  {
   "cell_type": "code",
   "execution_count": 37,
   "metadata": {},
   "outputs": [],
   "source": [
    "model_dtc = DecisionTreeClassifier(random_state=241).fit(features_upsampled, target_upsampled)\n",
    "model_rfc = RandomForestClassifier(random_state=241).fit(features_upsampled, target_upsampled)\n",
    "model_lr = LogisticRegression(random_state=241,\n",
    "                              solver='lbfgs').fit(features_upsampled, target_upsampled)"
   ]
  },
  {
   "cell_type": "code",
   "execution_count": 38,
   "metadata": {},
   "outputs": [
    {
     "name": "stdout",
     "output_type": "stream",
     "text": [
      "Оценка качества рещающего дерева на upsample-данных\n",
      "F1 = 0.48216482164821645\n",
      "AUC-ROC = 0.6730159238729936\n",
      "Оценка качества случайного леса на upsample-данных\n",
      "F1 = 0.5898123324396782\n",
      "AUC-ROC = 0.8610204582938555\n",
      "Оценка качества логистической регрессии на upsample-данных\n",
      "F1 = 0.5012366034624897\n",
      "AUC-ROC = 0.7769101553023888\n"
     ]
    }
   ],
   "source": [
    "print('Оценка качества рещающего дерева на upsample-данных')\n",
    "f1_dtc_u = get_f1(model_dtc, features_valid, target_valid)\n",
    "fpr_dtc_u, tpr_dtc_u, auc_roc_dtc_u = get_auc_score(model_dtc, features_valid, target_valid)\n",
    "upsampling_f.append(f1_dtc_u)\n",
    "upsampling_roc_auc.append(auc_roc_dtc_u)\n",
    "\n",
    "print('Оценка качества случайного леса на upsample-данных')\n",
    "f1_rfc_u = get_f1(model_rfc, features_valid, target_valid)\n",
    "fpr_rfc_u, tpr_rfc_u, auc_roc_rfc_u = get_auc_score(model_rfc, features_valid, target_valid)\n",
    "upsampling_f.append(f1_rfc_u)\n",
    "upsampling_roc_auc.append(auc_roc_rfc_u)\n",
    "\n",
    "print('Оценка качества логистической регрессии на upsample-данных')\n",
    "f1_lr_u = get_f1(model_lr, features_valid, target_valid)\n",
    "fpr_lr_u, tpr_lr_u, auc_roc_lr_u = get_auc_score(model_lr, features_valid, target_valid)\n",
    "upsampling_f.append(f1_lr_u)\n",
    "upsampling_roc_auc.append(auc_roc_lr_u)"
   ]
  },
  {
   "cell_type": "code",
   "execution_count": 39,
   "metadata": {},
   "outputs": [],
   "source": [
    "quality_f['upsampling'] = upsampling_f\n",
    "quality_auc_roc['upsampling'] = upsampling_roc_auc"
   ]
  },
  {
   "cell_type": "code",
   "execution_count": 40,
   "metadata": {},
   "outputs": [
    {
     "data": {
      "image/png": "[encoded data removed]",
      "text/plain": [
       "<Figure size 432x288 with 1 Axes>"
      ]
     },
     "metadata": {
      "needs_background": "light"
     },
     "output_type": "display_data"
    }
   ],
   "source": [
    "plt.figure()\n",
    "plt.plot(fpr_dtc_u, tpr_dtc_u, label='DecisionTreeClassifier')\n",
    "plt.plot(fpr_rfc_u, tpr_rfc_u, label='RandomForestClassifier')\n",
    "plt.plot(fpr_lr_u, tpr_lr_u, label='LogisticRegression')\n",
    "# ROC-кривая случайной модели\n",
    "plt.plot([0, 1], [0, 1], linestyle='--', label='Случайная модель')\n",
    "plt.xlim([0.0, 1.0])\n",
    "plt.ylim([0.0, 1.0])\n",
    "plt.xlabel('False Positive Rate')\n",
    "plt.ylabel('True Positive Rate')\n",
    "plt.title('ROC-кривая')\n",
    "plt.legend(loc='lower right', fancybox=True)\n",
    "plt.show()"
   ]
  },
  {
   "cell_type": "markdown",
   "metadata": {},
   "source": [
    "#### На данных с применением метода Upsampling значения F1-мера изменились на всех моделях.\n",
    "\n"
   ]
  },
  {
   "cell_type": "markdown",
   "metadata": {},
   "source": [
    "### <a id='c_3'> Downsampling (уменьшение выборки)</a> "
   ]
  },
  {
   "cell_type": "markdown",
   "metadata": {},
   "source": [
    "Уменьшим количество данных со значением целевого признака равным \"0\"."
   ]
  },
  {
   "cell_type": "code",
   "execution_count": 41,
   "metadata": {},
   "outputs": [],
   "source": [
    "def downsample(features, target, fraction):\n",
    "    features_zeros = features[target == 0]\n",
    "    features_ones = features[target == 1]\n",
    "    target_zeros = target[target == 0]\n",
    "    target_ones = target[target == 1]\n",
    "\n",
    "    features_downsampled = pd.concat(\n",
    "        [features_zeros.sample(frac=fraction, random_state=12345)] + [features_ones])\n",
    "    target_downsampled = pd.concat(\n",
    "        [target_zeros.sample(frac=fraction, random_state=12345)] + [target_ones])\n",
    "    \n",
    "    features_downsampled, target_downsampled = shuffle(\n",
    "        features_downsampled, target_downsampled, random_state=12345)\n",
    "    \n",
    "    return features_downsampled, target_downsampled\n"
   ]
  },
  {
   "cell_type": "code",
   "execution_count": 42,
   "metadata": {},
   "outputs": [],
   "source": [
    "features_downsampled, target_downsampled = downsample(features_train, target_train, 0.25)"
   ]
  },
  {
   "cell_type": "code",
   "execution_count": 43,
   "metadata": {},
   "outputs": [],
   "source": [
    "downsampling_f = []\n",
    "downsampling_roc_auc = []"
   ]
  },
  {
   "cell_type": "code",
   "execution_count": 44,
   "metadata": {},
   "outputs": [],
   "source": [
    "model_dtc = DecisionTreeClassifier(random_state=241).fit(features_downsampled, target_downsampled)\n",
    "model_rfc = RandomForestClassifier(random_state=241).fit(features_downsampled, target_downsampled)\n",
    "model_lr = LogisticRegression(random_state=241,\n",
    "                              solver='lbfgs').fit(features_downsampled, target_downsampled)"
   ]
  },
  {
   "cell_type": "code",
   "execution_count": 45,
   "metadata": {},
   "outputs": [
    {
     "name": "stdout",
     "output_type": "stream",
     "text": [
      "Оценка качества рещающего дерева на downsample-данных\n",
      "AUC-ROC = 0.7029122821471673\n",
      "F1 = 0.4936601859678782\n",
      "Оценка качества случайного леса на downsample-данных\n",
      "AUC-ROC = 0.8610410554276499\n",
      "F1 = 0.603145235892692\n",
      "Оценка качества логистической регрессии на downsample-данных\n",
      "AUC-ROC = 0.7751555846458285\n",
      "F1 = 0.5012165450121654\n"
     ]
    }
   ],
   "source": [
    "print('Оценка качества рещающего дерева на downsample-данных')\n",
    "fpr_dtc_d, tpr_dtc_d, auc_roc_dtc_d = get_auc_score(model_dtc, features_valid, target_valid)\n",
    "f1_dtc_d = get_f1(model_dtc, features_valid, target_valid)\n",
    "downsampling_f.append(f1_dtc_d)\n",
    "downsampling_roc_auc.append(auc_roc_dtc_d)\n",
    "\n",
    "print('Оценка качества случайного леса на downsample-данных')\n",
    "fpr_rfc_d, tpr_rfc_d, auc_roc_rfc_d = get_auc_score(model_rfc, features_valid, target_valid)\n",
    "f1_rfc_d = get_f1(model_rfc, features_valid, target_valid)\n",
    "downsampling_f.append(f1_rfc_d)\n",
    "downsampling_roc_auc.append(auc_roc_rfc_d)\n",
    "\n",
    "print('Оценка качества логистической регрессии на downsample-данных')\n",
    "fpr_lr_d, tpr_lr_d, auc_roc_lr_d = get_auc_score(model_lr, features_valid, target_valid)\n",
    "f1_lr_d = get_f1(model_lr, features_valid, target_valid)\n",
    "downsampling_f.append(f1_lr_d)\n",
    "downsampling_roc_auc.append(auc_roc_lr_d)"
   ]
  },
  {
   "cell_type": "code",
   "execution_count": 46,
   "metadata": {},
   "outputs": [],
   "source": [
    "quality_f['downsampling'] = downsampling_f\n",
    "quality_auc_roc['downsampling'] = downsampling_roc_auc"
   ]
  },
  {
   "cell_type": "code",
   "execution_count": 47,
   "metadata": {},
   "outputs": [
    {
     "data": {
      "image/png": "[encoded data removed]",
      "text/plain": [
       "<Figure size 432x288 with 1 Axes>"
      ]
     },
     "metadata": {
      "needs_background": "light"
     },
     "output_type": "display_data"
    }
   ],
   "source": [
    "plt.figure()\n",
    "plt.plot(fpr_dtc_d, tpr_dtc_d, label='DecisionTreeClassifier')\n",
    "plt.plot(fpr_rfc_d, tpr_rfc_d, label='RandomForestClassifier')\n",
    "plt.plot(fpr_lr_d, tpr_lr_d, label='LogisticRegression')\n",
    "# ROC-кривая случайной модели\n",
    "plt.plot([0, 1], [0, 1], linestyle='--', label='Случайная модель')\n",
    "plt.xlim([0.0, 1.0])\n",
    "plt.ylim([0.0, 1.0])\n",
    "plt.xlabel('False Positive Rate')\n",
    "plt.ylabel('True Positive Rate')\n",
    "plt.title('ROC-кривая')\n",
    "plt.legend(loc='lower right', fancybox=True)\n",
    "plt.show()"
   ]
  },
  {
   "cell_type": "code",
   "execution_count": 48,
   "metadata": {},
   "outputs": [
    {
     "name": "stdout",
     "output_type": "stream",
     "text": [
      "F1-метрика при обучении модели\n"
     ]
    },
    {
     "data": {
      "text/html": [
       "<div>\n",
       "<style scoped>\n",
       "    .dataframe tbody tr th:only-of-type {\n",
       "        vertical-align: middle;\n",
       "    }\n",
       "\n",
       "    .dataframe tbody tr th {\n",
       "        vertical-align: top;\n",
       "    }\n",
       "\n",
       "    .dataframe thead th {\n",
       "        text-align: right;\n",
       "    }\n",
       "</style>\n",
       "<table border=\"1\" class=\"dataframe\">\n",
       "  <thead>\n",
       "    <tr style=\"text-align: right;\">\n",
       "      <th></th>\n",
       "      <th>DecisionTreeClassifier</th>\n",
       "      <th>RandomForestClassifier</th>\n",
       "      <th>LogisticRegression</th>\n",
       "    </tr>\n",
       "  </thead>\n",
       "  <tbody>\n",
       "    <tr>\n",
       "      <th>F1_unbalanced</th>\n",
       "      <td>0.498229</td>\n",
       "      <td>0.555556</td>\n",
       "      <td>0.306878</td>\n",
       "    </tr>\n",
       "    <tr>\n",
       "      <th>balanced</th>\n",
       "      <td>0.492044</td>\n",
       "      <td>0.538103</td>\n",
       "      <td>0.501656</td>\n",
       "    </tr>\n",
       "    <tr>\n",
       "      <th>upsampling</th>\n",
       "      <td>0.482165</td>\n",
       "      <td>0.589812</td>\n",
       "      <td>0.501237</td>\n",
       "    </tr>\n",
       "    <tr>\n",
       "      <th>downsampling</th>\n",
       "      <td>0.493660</td>\n",
       "      <td>0.603145</td>\n",
       "      <td>0.501217</td>\n",
       "    </tr>\n",
       "  </tbody>\n",
       "</table>\n",
       "</div>"
      ],
      "text/plain": [
       "               DecisionTreeClassifier  RandomForestClassifier  \\\n",
       "F1_unbalanced                0.498229                0.555556   \n",
       "balanced                     0.492044                0.538103   \n",
       "upsampling                   0.482165                0.589812   \n",
       "downsampling                 0.493660                0.603145   \n",
       "\n",
       "               LogisticRegression  \n",
       "F1_unbalanced            0.306878  \n",
       "balanced                 0.501656  \n",
       "upsampling               0.501237  \n",
       "downsampling             0.501217  "
      ]
     },
     "execution_count": 48,
     "metadata": {},
     "output_type": "execute_result"
    }
   ],
   "source": [
    "print('F1-метрика при обучении модели')\n",
    "quality_f.T"
   ]
  },
  {
   "cell_type": "code",
   "execution_count": 49,
   "metadata": {},
   "outputs": [
    {
     "name": "stdout",
     "output_type": "stream",
     "text": [
      "Площадь под ROC-кривой\n"
     ]
    },
    {
     "data": {
      "text/html": [
       "<div>\n",
       "<style scoped>\n",
       "    .dataframe tbody tr th:only-of-type {\n",
       "        vertical-align: middle;\n",
       "    }\n",
       "\n",
       "    .dataframe tbody tr th {\n",
       "        vertical-align: top;\n",
       "    }\n",
       "\n",
       "    .dataframe thead th {\n",
       "        text-align: right;\n",
       "    }\n",
       "</style>\n",
       "<table border=\"1\" class=\"dataframe\">\n",
       "  <thead>\n",
       "    <tr style=\"text-align: right;\">\n",
       "      <th></th>\n",
       "      <th>DecisionTreeClassifier</th>\n",
       "      <th>RandomForestClassifier</th>\n",
       "      <th>LogisticRegression</th>\n",
       "    </tr>\n",
       "  </thead>\n",
       "  <tbody>\n",
       "    <tr>\n",
       "      <th>AUC-ROC_unbalanced</th>\n",
       "      <td>0.685190</td>\n",
       "      <td>0.867547</td>\n",
       "      <td>0.772879</td>\n",
       "    </tr>\n",
       "    <tr>\n",
       "      <th>balanced</th>\n",
       "      <td>0.679384</td>\n",
       "      <td>0.862412</td>\n",
       "      <td>0.776893</td>\n",
       "    </tr>\n",
       "    <tr>\n",
       "      <th>upsampling</th>\n",
       "      <td>0.673016</td>\n",
       "      <td>0.861020</td>\n",
       "      <td>0.776910</td>\n",
       "    </tr>\n",
       "    <tr>\n",
       "      <th>downsampling</th>\n",
       "      <td>0.702912</td>\n",
       "      <td>0.861041</td>\n",
       "      <td>0.775156</td>\n",
       "    </tr>\n",
       "  </tbody>\n",
       "</table>\n",
       "</div>"
      ],
      "text/plain": [
       "                    DecisionTreeClassifier  RandomForestClassifier  \\\n",
       "AUC-ROC_unbalanced                0.685190                0.867547   \n",
       "balanced                          0.679384                0.862412   \n",
       "upsampling                        0.673016                0.861020   \n",
       "downsampling                      0.702912                0.861041   \n",
       "\n",
       "                    LogisticRegression  \n",
       "AUC-ROC_unbalanced            0.772879  \n",
       "balanced                      0.776893  \n",
       "upsampling                    0.776910  \n",
       "downsampling                  0.775156  "
      ]
     },
     "execution_count": 49,
     "metadata": {},
     "output_type": "execute_result"
    }
   ],
   "source": [
    "print('Площадь под ROC-кривой')\n",
    "quality_auc_roc.T"
   ]
  },
  {
   "cell_type": "markdown",
   "metadata": {},
   "source": [
    "### Вывод:\n",
    "#### По данным из сводной таблицы лучшее качество показывает:\n",
    "- модель RandomForestClassifier на upsampling данных при F1=0.571429 и AUC-ROC=0.833135\n",
    "\n",
    "Подберём гиперпараметры и обучим модель на всей нашей тренировочной выборке и найдём качество на тестовой части."
   ]
  },
  {
   "cell_type": "markdown",
   "metadata": {},
   "source": [
    "### <a id='d_3'>Подбор гиперпараметров</a> "
   ]
  },
  {
   "cell_type": "code",
   "execution_count": 50,
   "metadata": {},
   "outputs": [],
   "source": [
    "def get_best_params(features, target, model, parameters):\n",
    "\n",
    "    #Подберём лучшие параметры модели с помощью RandomizedSearchCV\n",
    "    clf = RandomizedSearchCV(estimator = model,\n",
    "                             param_distributions = parameters,\n",
    "                             scoring='f1', cv = 5,\n",
    "                             random_state = 124)\n",
    "    search = clf.fit(features, target)\n",
    "    print('Best Params: ', search.best_params_)"
   ]
  },
  {
   "cell_type": "code",
   "execution_count": 51,
   "metadata": {},
   "outputs": [
    {
     "name": "stdout",
     "output_type": "stream",
     "text": [
      "Best Params:  {'n_estimators': 150, 'min_samples_split': 10, 'min_samples_leaf': 4, 'max_features': 'auto', 'max_depth': 16}\n"
     ]
    }
   ],
   "source": [
    "parameters ={'max_depth':np.arange(1, 20), \n",
    "             'n_estimators':np.arange(10, 400, 10), \n",
    "             'max_features': ['auto', 'sqrt','log2', None],\n",
    "             'min_samples_leaf': [4, 6, 8, 12],\n",
    "             'min_samples_split': [5, 7, 10, 14]}\n",
    "rand_forest = RandomForestClassifier(random_state=124)\n",
    "get_best_params(features_upsampled, target_upsampled, \n",
    "                rand_forest, parameters)"
   ]
  },
  {
   "cell_type": "markdown",
   "metadata": {},
   "source": [
    "### <a id='e_3'> Обучение модели</a> "
   ]
  },
  {
   "cell_type": "code",
   "execution_count": 52,
   "metadata": {},
   "outputs": [],
   "source": [
    "features_up, target_up = upsample(features_train_valid, target_train_valid, 4)"
   ]
  },
  {
   "cell_type": "markdown",
   "metadata": {},
   "source": [
    "#### RandomForestClassifier на upsampling данных:"
   ]
  },
  {
   "cell_type": "code",
   "execution_count": 53,
   "metadata": {},
   "outputs": [],
   "source": [
    "model_rfc = RandomForestClassifier(n_estimators=150, \n",
    "                                    min_samples_split=10, \n",
    "                                    min_samples_leaf=4, \n",
    "                                    max_features='auto', \n",
    "                                    max_depth=16, \n",
    "                                    random_state=241).fit(features_up, target_up)"
   ]
  },
  {
   "cell_type": "markdown",
   "metadata": {},
   "source": [
    "# <a id='4'> 4. Тестирование модели</a> "
   ]
  },
  {
   "cell_type": "markdown",
   "metadata": {},
   "source": [
    "#### RandomForestClassifier"
   ]
  },
  {
   "cell_type": "code",
   "execution_count": 54,
   "metadata": {},
   "outputs": [
    {
     "name": "stdout",
     "output_type": "stream",
     "text": [
      "F1 = 0.5965317919075145\n",
      "AUC-ROC = 0.8507357096003552\n"
     ]
    }
   ],
   "source": [
    "f1 = get_f1(model_rfc, features_test, target_test)\n",
    "fpr_rfc, tpr_rfc, auc_roc_rfc = get_auc_score(model_rfc, features_test, target_test)"
   ]
  },
  {
   "cell_type": "markdown",
   "metadata": {},
   "source": [
    "# <a id='5'> 5. Вывод:</a> \n"
   ]
  },
  {
   "cell_type": "markdown",
   "metadata": {},
   "source": [
    "На обучающей выборке по несбалансированным данным модель DecisionTreeClassifier показала большие значения метрик F1 и площади под ROC-кривой по сравнению с upsampling. \n",
    "Но по итогам сводной таблицы модель RandomForestClassifier имеет лучшее качество на данных с использованием upsampling-метода баланса данных."
   ]
  }
 ],
 "metadata": {
  "kernelspec": {
   "display_name": "Python 3",
   "language": "python",
   "name": "python3"
  },
  "language_info": {
   "codemirror_mode": {
    "name": "ipython",
    "version": 3
   },
   "file_extension": ".py",
   "mimetype": "text/x-python",
   "name": "python",
   "nbconvert_exporter": "python",
   "pygments_lexer": "ipython3",
   "version": "3.7.8"
  }
 },
 "nbformat": 4,
 "nbformat_minor": 2
}
