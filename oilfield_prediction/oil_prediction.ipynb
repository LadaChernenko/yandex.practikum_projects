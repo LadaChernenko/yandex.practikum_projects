{
 "cells": [
  {
   "cell_type": "markdown",
   "metadata": {},
   "source": [
    "# Предсказание региона нефтедобычи с максимальной прибыльностью"
   ]
  },
  {
   "cell_type": "markdown",
   "metadata": {},
   "source": [
    "Предоставлены пробы нефти в трёх регионах: в каждом 10 000 месторождений, где измерили качество нефти и объём её запасов. Необходимо построить модель машинного обучения, которая поможет определить регион, где добыча принесёт наибольшую прибыль.\n"
   ]
  },
  {
   "cell_type": "markdown",
   "metadata": {},
   "source": [
    "## План выполнения работы:\n",
    "### <a href=#1>1. Загрузка и подготовка данных</a>\n",
    "\n",
    "### <a href=#2>2. Обучение и проверка модели.</a>\n",
    "-    <a href=#2_1> 2.1 Разбиение данных на обучающую и валидационную выборки в соотношении 75:25.</a>\n",
    "-    <a href=#2_2> 2.2 Обучение модели.</a>\n",
    "-    <a href=#2_4> 2.4 Выводы.</a>\n",
    "\n",
    "### <a href=#3>3. Подготовка к расчёту прибыли:</a>\n",
    "-    <a href=#3_1> 3.1 Рассчёт достаточного объёма сырья для безубыточной разработки новой скважины.</a>\n",
    "-    <a href=#3_2> 3.2 Выводы.</a>\n",
    "\n",
    "### <a href=#4>4. Расчёт рисков и прибыли</a>\n",
    "-    <a href=#4_1> 4.1 Расчёты для каждого региона.</a>\n",
    "\n",
    "### <a href=#5>5. Вывод.</a>   \n"
   ]
  },
  {
   "cell_type": "markdown",
   "metadata": {},
   "source": [
    "# <a id='1'> 1. Загрузка и подготовка данных</a> "
   ]
  },
  {
   "cell_type": "code",
   "execution_count": 1,
   "metadata": {},
   "outputs": [],
   "source": [
    "import pandas as pd\n",
    "import numpy as np\n",
    "from sklearn.model_selection import train_test_split\n",
    "from sklearn.linear_model import LinearRegression \n",
    "from sklearn import metrics\n",
    "from scipy import stats as st"
   ]
  },
  {
   "cell_type": "code",
   "execution_count": 2,
   "metadata": {},
   "outputs": [],
   "source": [
    "geo_data_0 = pd.read_csv('\\practikum\\geo_data_0.csv')\n",
    "geo_data_1 = pd.read_csv('\\practikum\\geo_data_1.csv')\n",
    "geo_data_2 = pd.read_csv('\\practikum\\geo_data_2.csv')"
   ]
  },
  {
   "cell_type": "code",
   "execution_count": 3,
   "metadata": {},
   "outputs": [],
   "source": [
    "datas = {'регион 0':geo_data_0, \n",
    "         'регион 1':geo_data_1, \n",
    "         'регион 2':geo_data_2}"
   ]
  },
  {
   "cell_type": "code",
   "execution_count": 4,
   "metadata": {},
   "outputs": [
    {
     "name": "stdout",
     "output_type": "stream",
     "text": [
      "Содержание тaблицы регион 0\n"
     ]
    },
    {
     "data": {
      "text/html": [
       "<div>\n",
       "<style scoped>\n",
       "    .dataframe tbody tr th:only-of-type {\n",
       "        vertical-align: middle;\n",
       "    }\n",
       "\n",
       "    .dataframe tbody tr th {\n",
       "        vertical-align: top;\n",
       "    }\n",
       "\n",
       "    .dataframe thead th {\n",
       "        text-align: right;\n",
       "    }\n",
       "</style>\n",
       "<table border=\"1\" class=\"dataframe\">\n",
       "  <thead>\n",
       "    <tr style=\"text-align: right;\">\n",
       "      <th></th>\n",
       "      <th>id</th>\n",
       "      <th>f0</th>\n",
       "      <th>f1</th>\n",
       "      <th>f2</th>\n",
       "      <th>product</th>\n",
       "    </tr>\n",
       "  </thead>\n",
       "  <tbody>\n",
       "    <tr>\n",
       "      <th>0</th>\n",
       "      <td>txEyH</td>\n",
       "      <td>0.705745</td>\n",
       "      <td>-0.497823</td>\n",
       "      <td>1.221170</td>\n",
       "      <td>105.280062</td>\n",
       "    </tr>\n",
       "    <tr>\n",
       "      <th>1</th>\n",
       "      <td>2acmU</td>\n",
       "      <td>1.334711</td>\n",
       "      <td>-0.340164</td>\n",
       "      <td>4.365080</td>\n",
       "      <td>73.037750</td>\n",
       "    </tr>\n",
       "    <tr>\n",
       "      <th>2</th>\n",
       "      <td>409Wp</td>\n",
       "      <td>1.022732</td>\n",
       "      <td>0.151990</td>\n",
       "      <td>1.419926</td>\n",
       "      <td>85.265647</td>\n",
       "    </tr>\n",
       "  </tbody>\n",
       "</table>\n",
       "</div>"
      ],
      "text/plain": [
       "      id        f0        f1        f2     product\n",
       "0  txEyH  0.705745 -0.497823  1.221170  105.280062\n",
       "1  2acmU  1.334711 -0.340164  4.365080   73.037750\n",
       "2  409Wp  1.022732  0.151990  1.419926   85.265647"
      ]
     },
     "metadata": {},
     "output_type": "display_data"
    },
    {
     "name": "stdout",
     "output_type": "stream",
     "text": [
      "Содержание тaблицы регион 1\n"
     ]
    },
    {
     "data": {
      "text/html": [
       "<div>\n",
       "<style scoped>\n",
       "    .dataframe tbody tr th:only-of-type {\n",
       "        vertical-align: middle;\n",
       "    }\n",
       "\n",
       "    .dataframe tbody tr th {\n",
       "        vertical-align: top;\n",
       "    }\n",
       "\n",
       "    .dataframe thead th {\n",
       "        text-align: right;\n",
       "    }\n",
       "</style>\n",
       "<table border=\"1\" class=\"dataframe\">\n",
       "  <thead>\n",
       "    <tr style=\"text-align: right;\">\n",
       "      <th></th>\n",
       "      <th>id</th>\n",
       "      <th>f0</th>\n",
       "      <th>f1</th>\n",
       "      <th>f2</th>\n",
       "      <th>product</th>\n",
       "    </tr>\n",
       "  </thead>\n",
       "  <tbody>\n",
       "    <tr>\n",
       "      <th>0</th>\n",
       "      <td>kBEdx</td>\n",
       "      <td>-15.001348</td>\n",
       "      <td>-8.276000</td>\n",
       "      <td>-0.005876</td>\n",
       "      <td>3.179103</td>\n",
       "    </tr>\n",
       "    <tr>\n",
       "      <th>1</th>\n",
       "      <td>62mP7</td>\n",
       "      <td>14.272088</td>\n",
       "      <td>-3.475083</td>\n",
       "      <td>0.999183</td>\n",
       "      <td>26.953261</td>\n",
       "    </tr>\n",
       "    <tr>\n",
       "      <th>2</th>\n",
       "      <td>vyE1P</td>\n",
       "      <td>6.263187</td>\n",
       "      <td>-5.948386</td>\n",
       "      <td>5.001160</td>\n",
       "      <td>134.766305</td>\n",
       "    </tr>\n",
       "  </tbody>\n",
       "</table>\n",
       "</div>"
      ],
      "text/plain": [
       "      id         f0        f1        f2     product\n",
       "0  kBEdx -15.001348 -8.276000 -0.005876    3.179103\n",
       "1  62mP7  14.272088 -3.475083  0.999183   26.953261\n",
       "2  vyE1P   6.263187 -5.948386  5.001160  134.766305"
      ]
     },
     "metadata": {},
     "output_type": "display_data"
    },
    {
     "name": "stdout",
     "output_type": "stream",
     "text": [
      "Содержание тaблицы регион 2\n"
     ]
    },
    {
     "data": {
      "text/html": [
       "<div>\n",
       "<style scoped>\n",
       "    .dataframe tbody tr th:only-of-type {\n",
       "        vertical-align: middle;\n",
       "    }\n",
       "\n",
       "    .dataframe tbody tr th {\n",
       "        vertical-align: top;\n",
       "    }\n",
       "\n",
       "    .dataframe thead th {\n",
       "        text-align: right;\n",
       "    }\n",
       "</style>\n",
       "<table border=\"1\" class=\"dataframe\">\n",
       "  <thead>\n",
       "    <tr style=\"text-align: right;\">\n",
       "      <th></th>\n",
       "      <th>id</th>\n",
       "      <th>f0</th>\n",
       "      <th>f1</th>\n",
       "      <th>f2</th>\n",
       "      <th>product</th>\n",
       "    </tr>\n",
       "  </thead>\n",
       "  <tbody>\n",
       "    <tr>\n",
       "      <th>0</th>\n",
       "      <td>fwXo0</td>\n",
       "      <td>-1.146987</td>\n",
       "      <td>0.963328</td>\n",
       "      <td>-0.828965</td>\n",
       "      <td>27.758673</td>\n",
       "    </tr>\n",
       "    <tr>\n",
       "      <th>1</th>\n",
       "      <td>WJtFt</td>\n",
       "      <td>0.262778</td>\n",
       "      <td>0.269839</td>\n",
       "      <td>-2.530187</td>\n",
       "      <td>56.069697</td>\n",
       "    </tr>\n",
       "    <tr>\n",
       "      <th>2</th>\n",
       "      <td>ovLUW</td>\n",
       "      <td>0.194587</td>\n",
       "      <td>0.289035</td>\n",
       "      <td>-5.586433</td>\n",
       "      <td>62.871910</td>\n",
       "    </tr>\n",
       "  </tbody>\n",
       "</table>\n",
       "</div>"
      ],
      "text/plain": [
       "      id        f0        f1        f2    product\n",
       "0  fwXo0 -1.146987  0.963328 -0.828965  27.758673\n",
       "1  WJtFt  0.262778  0.269839 -2.530187  56.069697\n",
       "2  ovLUW  0.194587  0.289035 -5.586433  62.871910"
      ]
     },
     "metadata": {},
     "output_type": "display_data"
    }
   ],
   "source": [
    "for key in datas.keys():\n",
    "    print('Содержание тaблицы '+key)\n",
    "    display(datas[key].head(3))"
   ]
  },
  {
   "cell_type": "code",
   "execution_count": 5,
   "metadata": {},
   "outputs": [
    {
     "name": "stdout",
     "output_type": "stream",
     "text": [
      "Информация о таблице регион 0\n",
      "<class 'pandas.core.frame.DataFrame'>\n",
      "RangeIndex: 100000 entries, 0 to 99999\n",
      "Data columns (total 5 columns):\n",
      " #   Column   Non-Null Count   Dtype  \n",
      "---  ------   --------------   -----  \n",
      " 0   id       100000 non-null  object \n",
      " 1   f0       100000 non-null  float64\n",
      " 2   f1       100000 non-null  float64\n",
      " 3   f2       100000 non-null  float64\n",
      " 4   product  100000 non-null  float64\n",
      "dtypes: float64(4), object(1)\n",
      "memory usage: 3.8+ MB\n"
     ]
    },
    {
     "data": {
      "text/plain": [
       "None"
      ]
     },
     "metadata": {},
     "output_type": "display_data"
    },
    {
     "name": "stdout",
     "output_type": "stream",
     "text": [
      "Информация о таблице регион 1\n",
      "<class 'pandas.core.frame.DataFrame'>\n",
      "RangeIndex: 100000 entries, 0 to 99999\n",
      "Data columns (total 5 columns):\n",
      " #   Column   Non-Null Count   Dtype  \n",
      "---  ------   --------------   -----  \n",
      " 0   id       100000 non-null  object \n",
      " 1   f0       100000 non-null  float64\n",
      " 2   f1       100000 non-null  float64\n",
      " 3   f2       100000 non-null  float64\n",
      " 4   product  100000 non-null  float64\n",
      "dtypes: float64(4), object(1)\n",
      "memory usage: 3.8+ MB\n"
     ]
    },
    {
     "data": {
      "text/plain": [
       "None"
      ]
     },
     "metadata": {},
     "output_type": "display_data"
    },
    {
     "name": "stdout",
     "output_type": "stream",
     "text": [
      "Информация о таблице регион 2\n",
      "<class 'pandas.core.frame.DataFrame'>\n",
      "RangeIndex: 100000 entries, 0 to 99999\n",
      "Data columns (total 5 columns):\n",
      " #   Column   Non-Null Count   Dtype  \n",
      "---  ------   --------------   -----  \n",
      " 0   id       100000 non-null  object \n",
      " 1   f0       100000 non-null  float64\n",
      " 2   f1       100000 non-null  float64\n",
      " 3   f2       100000 non-null  float64\n",
      " 4   product  100000 non-null  float64\n",
      "dtypes: float64(4), object(1)\n",
      "memory usage: 3.8+ MB\n"
     ]
    },
    {
     "data": {
      "text/plain": [
       "None"
      ]
     },
     "metadata": {},
     "output_type": "display_data"
    }
   ],
   "source": [
    "for key in datas.keys():\n",
    "    print('Информация о таблице '+key)\n",
    "    display(datas[key].info())"
   ]
  },
  {
   "cell_type": "markdown",
   "metadata": {},
   "source": [
    "#### Вывод:\n",
    "Целевой признак находится в столбцах product. Признаки по которым необходимо построить модель находятся в столбцах f0, f1 и f2. Нет необходимости нормализовать их. Признак id не будет участвовать в обучении."
   ]
  },
  {
   "cell_type": "markdown",
   "metadata": {},
   "source": [
    "Запишим целевую переменную и признаки в разные файлы:"
   ]
  },
  {
   "cell_type": "code",
   "execution_count": 6,
   "metadata": {},
   "outputs": [],
   "source": [
    "def get_train_test(data):\n",
    "    features = data.drop(['id', 'product'], axis=1)\n",
    "    target = data['product']\n",
    "    print('Размеры матрицы признаков:', features.shape)\n",
    "    print('Размер вектора целевого признака:', target.shape)\n",
    "    return features, target"
   ]
  },
  {
   "cell_type": "code",
   "execution_count": 7,
   "metadata": {},
   "outputs": [
    {
     "name": "stdout",
     "output_type": "stream",
     "text": [
      "Размеры матрицы признаков: (100000, 3)\n",
      "Размер вектора целевого признака: (100000,)\n"
     ]
    }
   ],
   "source": [
    "features_0, target_0 = get_train_test(geo_data_0)"
   ]
  },
  {
   "cell_type": "code",
   "execution_count": 8,
   "metadata": {},
   "outputs": [
    {
     "name": "stdout",
     "output_type": "stream",
     "text": [
      "Размеры матрицы признаков: (100000, 3)\n",
      "Размер вектора целевого признака: (100000,)\n"
     ]
    }
   ],
   "source": [
    "features_1, target_1 = get_train_test(geo_data_1)"
   ]
  },
  {
   "cell_type": "code",
   "execution_count": 9,
   "metadata": {},
   "outputs": [
    {
     "name": "stdout",
     "output_type": "stream",
     "text": [
      "Размеры матрицы признаков: (100000, 3)\n",
      "Размер вектора целевого признака: (100000,)\n"
     ]
    }
   ],
   "source": [
    "features_2, target_2 = get_train_test(geo_data_2)"
   ]
  },
  {
   "cell_type": "markdown",
   "metadata": {},
   "source": [
    "# <a id='2'> 2. Обучение и проверка модели</a> "
   ]
  },
  {
   "cell_type": "markdown",
   "metadata": {},
   "source": [
    "## <a id='2_1'> 2.1 Разбиение данных на обучающую и валидационную выборки</a> "
   ]
  },
  {
   "cell_type": "markdown",
   "metadata": {},
   "source": [
    "Разобьём данные в каждой выборке на тренировочную и валидационную части:"
   ]
  },
  {
   "cell_type": "code",
   "execution_count": 10,
   "metadata": {},
   "outputs": [],
   "source": [
    "def get_train_test(features, target):\n",
    "    features_train, features_valid, target_train, target_valid = train_test_split(\n",
    "    features, target, test_size=0.25, random_state=123)\n",
    "    print('Размеры обучающей выборки', features_train.shape, target_train.shape)\n",
    "    print('Размеры валидационной выборки', features_valid.shape, target_valid.shape)\n",
    "    return features_train, features_valid, target_train, target_valid"
   ]
  },
  {
   "cell_type": "code",
   "execution_count": 11,
   "metadata": {},
   "outputs": [
    {
     "name": "stdout",
     "output_type": "stream",
     "text": [
      "Размеры обучающей выборки (75000, 3) (75000,)\n",
      "Размеры валидационной выборки (25000, 3) (25000,)\n"
     ]
    }
   ],
   "source": [
    "features_train_0, features_valid_0, target_train_0, target_valid_0 = get_train_test(features_0, target_0)"
   ]
  },
  {
   "cell_type": "code",
   "execution_count": 12,
   "metadata": {},
   "outputs": [
    {
     "name": "stdout",
     "output_type": "stream",
     "text": [
      "Размеры обучающей выборки (75000, 3) (75000,)\n",
      "Размеры валидационной выборки (25000, 3) (25000,)\n"
     ]
    }
   ],
   "source": [
    "features_train_1, features_valid_1, target_train_1, target_valid_1 = get_train_test(features_1, target_1)"
   ]
  },
  {
   "cell_type": "code",
   "execution_count": 13,
   "metadata": {},
   "outputs": [
    {
     "name": "stdout",
     "output_type": "stream",
     "text": [
      "Размеры обучающей выборки (75000, 3) (75000,)\n",
      "Размеры валидационной выборки (25000, 3) (25000,)\n"
     ]
    }
   ],
   "source": [
    "features_train_2, features_valid_2, target_train_2, target_valid_2 = get_train_test(features_2, target_2)"
   ]
  },
  {
   "cell_type": "markdown",
   "metadata": {},
   "source": [
    "## <a id='2_2'> 2.2 Обучение модели.</a> "
   ]
  },
  {
   "cell_type": "code",
   "execution_count": 14,
   "metadata": {},
   "outputs": [],
   "source": [
    "def AverageStock(features_train, target_train, features_valid, target_valid):\n",
    "    linr_model = LinearRegression().fit(features_train, target_train)\n",
    "    pred = linr_model.predict(features_valid)\n",
    "    rmse = np.sqrt(metrics.mean_squared_error(target_valid, pred))\n",
    "    print('Средний запас предсказанного сырья:', pred.mean(), 'тыс. баррелей')\n",
    "    print('Средняя квадратическая ошибка модели:', rmse)\n",
    "    return pred"
   ]
  },
  {
   "cell_type": "code",
   "execution_count": 15,
   "metadata": {},
   "outputs": [
    {
     "name": "stdout",
     "output_type": "stream",
     "text": [
      "Данные для региона 0\n",
      "Средний запас предсказанного сырья: 92.54936189116309 тыс. баррелей\n",
      "Средняя квадратическая ошибка модели: 37.64786282376177\n"
     ]
    }
   ],
   "source": [
    "print('Данные для региона 0')\n",
    "predict_0 = AverageStock(features_train_0, target_train_0 ,features_valid_0, target_valid_0)"
   ]
  },
  {
   "cell_type": "code",
   "execution_count": 16,
   "metadata": {},
   "outputs": [
    {
     "name": "stdout",
     "output_type": "stream",
     "text": [
      "Данные для региона 1\n",
      "Средний запас предсказанного сырья: 69.28001860653976 тыс. баррелей\n",
      "Средняя квадратическая ошибка модели: 0.8954139804944297\n"
     ]
    }
   ],
   "source": [
    "print('Данные для региона 1')\n",
    "predict_1 = AverageStock(features_train_1, target_train_1 ,features_valid_1, target_valid_1)"
   ]
  },
  {
   "cell_type": "code",
   "execution_count": 17,
   "metadata": {},
   "outputs": [
    {
     "name": "stdout",
     "output_type": "stream",
     "text": [
      "Данные для региона 2\n",
      "Средний запас предсказанного сырья: 95.09859933591373 тыс. баррелей\n",
      "Средняя квадратическая ошибка модели: 40.12803006598514\n"
     ]
    }
   ],
   "source": [
    "print('Данные для региона 2')\n",
    "predict_2 = AverageStock(features_train_2, target_train_2 ,features_valid_2, target_valid_2)"
   ]
  },
  {
   "cell_type": "markdown",
   "metadata": {},
   "source": [
    "## <a id='2_3'> 2.3 Выводы.</a> "
   ]
  },
  {
   "cell_type": "markdown",
   "metadata": {},
   "source": [
    "Самое большое значение предсказанного запаса сырья у региона №2. Оно составляет <b>95.099</b> тыс. баррелей. Средняя квадратическая ошибка для этого региона тоже самая большая <b>40.128</b> тыс. баррелей.\n",
    "\n",
    "Самое маленькое значение ошибки у региона №1 (<b>0.895</b>) при среднем значении предсказанного запаса сырья <b>69.280</b> тыс. баррелей."
   ]
  },
  {
   "cell_type": "markdown",
   "metadata": {},
   "source": [
    "# <a id='3'> 3. Подготовка к расчёту прибыли</a> "
   ]
  },
  {
   "cell_type": "code",
   "execution_count": 18,
   "metadata": {},
   "outputs": [],
   "source": [
    "BUDGET = 10000000000 #Бюджет на разработку скважин в регионе\n",
    "UNIT_INCOME = 450000 #Доход с каждой единицы продукта (тыс. баррелей сырья)\n",
    "NUMBER_OF_WELLS = 500 #Количество скважин, исследуемых при разведне региона\n",
    "NUMBER_OF_BEST_WELLS = 200 #Лучшие скважины для расчёта прибыли."
   ]
  },
  {
   "cell_type": "markdown",
   "metadata": {},
   "source": [
    "## <a id='3_1'> 3.1 Рассчёт достаточного объёма сырья для безубыточной разработки новой скважины.</a> "
   ]
  },
  {
   "cell_type": "code",
   "execution_count": 19,
   "metadata": {},
   "outputs": [
    {
     "name": "stdout",
     "output_type": "stream",
     "text": [
      "Объём сырья, достаточный для безубыточной разработки новой скважины: 111.111 тыс. баррелей\n"
     ]
    }
   ],
   "source": [
    "print('Объём сырья, достаточный для безубыточной разработки новой скважины: {:.3f} тыс. баррелей'.format(\n",
    "    (BUDGET/UNIT_INCOME)/NUMBER_OF_BEST_WELLS))"
   ]
  },
  {
   "cell_type": "markdown",
   "metadata": {},
   "source": [
    "## <a id='3_2'> 3.2 Выводы.</a> "
   ]
  },
  {
   "cell_type": "markdown",
   "metadata": {},
   "source": [
    "При бюджете в 10 млрд рублей на разработку скважин в выбранном регионе и доходе от единицы сырья в 450 тыс. рублей, объём сырья, добываемый с каждой из 200 лучших скважин из 500 исследуемых в данном регионе должен быть больше 111.111 тыс. баррелей для выполнения условия безубыточной разработки. \n",
    "\n",
    "Из трёх регионов среднее значение предсказанного запаса сырья у региона №2 близко к рассчитаному значению и состаляет 95.099 тыс. баррелей. У региона №0 это значение равно 92.549 тыс. баррелей."
   ]
  },
  {
   "cell_type": "markdown",
   "metadata": {},
   "source": [
    "# <a id='4'> 4. Расчёт рисков и прибыли.</a> "
   ]
  },
  {
   "cell_type": "markdown",
   "metadata": {},
   "source": [
    "Напишим функцию для автоматического расчёта потенциальной прибыли от региона."
   ]
  },
  {
   "cell_type": "code",
   "execution_count": 20,
   "metadata": {},
   "outputs": [],
   "source": [
    "def profit(target, predict, count=200):\n",
    "    best_pred = pd.DataFrame(data=target, index=target.index)#таблица с известными значениями объёмов \n",
    "    best_pred['predict'] = predict #колонка с предсказанными значениями по этим скважинам\n",
    "\n",
    "    best_number = best_pred.sort_values(by='predict', ascending=False).head(count) #лучшие по предсказаниям\n",
    "    target_of_best = best_number['product'].sum()\n",
    "    \n",
    "    return (target_of_best*UNIT_INCOME)-BUDGET"
   ]
  },
  {
   "cell_type": "markdown",
   "metadata": {},
   "source": [
    "## <a id='4_1'>4.1 Расчёты для каждого региона.</a> "
   ]
  },
  {
   "cell_type": "code",
   "execution_count": 21,
   "metadata": {},
   "outputs": [],
   "source": [
    "def get_profit(target, predict, number):\n",
    "    pred_df = pd.DataFrame(data=target, index=target.index)\n",
    "    pred_df['predict'] = predict\n",
    "    state = np.random.RandomState(123)\n",
    "    values = []\n",
    "    risk = []\n",
    "    for i in range(1000):\n",
    "        best_pred = pred_df.sample(n=number, replace=True, random_state=state)\n",
    "        target_subsample = best_pred['product']\n",
    "        pred_subsample = best_pred['predict']\n",
    "        \n",
    "        values.append(profit(target_subsample, pred_subsample, count=200))\n",
    "        \n",
    "    \n",
    "    values = pd.Series(values)\n",
    "    confidence_interval = st.t.interval(0.95, len(values)-1, loc=values.mean(), scale=values.sem())\n",
    "    losses = values.min()\n",
    "    risk = (values<0).sum()/1000\n",
    "    \n",
    "    mean = values.mean()\n",
    "    print(\"Средняя прибыль составит: {:.3f} млрд рублей\".format(mean/1000000000))\n",
    "    print(\"95%-й доверительный интервал: \", confidence_interval)\n",
    "    print('Потенциальные убытки:{:.3f} млрд рублей'.format(losses/1000000000))\n",
    "    print('Риск убытков: {:.2%}'.format(risk))\n"
   ]
  },
  {
   "cell_type": "code",
   "execution_count": 22,
   "metadata": {},
   "outputs": [
    {
     "name": "stdout",
     "output_type": "stream",
     "text": [
      "Для региона №0 потенциальная прибыль составит:\n",
      "Средняя прибыль составит: 0.477 млрд рублей\n",
      "95%-й доверительный интервал:  (461032015.40435, 493801633.1284743)\n",
      "Потенциальные убытки:-0.254 млрд рублей\n",
      "Риск убытков: 4.10%\n"
     ]
    }
   ],
   "source": [
    "print('Для региона №0 потенциальная прибыль составит:')\n",
    "get_profit(target_valid_0, predict_0, 500)"
   ]
  },
  {
   "cell_type": "code",
   "execution_count": 23,
   "metadata": {},
   "outputs": [
    {
     "name": "stdout",
     "output_type": "stream",
     "text": [
      "Для региона №1 потенциальная прибыль составит:\n",
      "Средняя прибыль составит: 0.479 млрд рублей\n",
      "95%-й доверительный интервал:  (466724922.34201944, 491655400.2586471)\n",
      "Потенциальные убытки:-0.253 млрд рублей\n",
      "Риск убытков: 0.90%\n"
     ]
    }
   ],
   "source": [
    "print('Для региона №1 потенциальная прибыль составит:')\n",
    "get_profit(target_valid_1, predict_1, 500)"
   ]
  },
  {
   "cell_type": "code",
   "execution_count": 24,
   "metadata": {},
   "outputs": [
    {
     "name": "stdout",
     "output_type": "stream",
     "text": [
      "Для региона №2 потенциальная прибыль составит:\n",
      "Средняя прибыль составит: 0.343 млрд рублей\n",
      "95%-й доверительный интервал:  (326730862.64534986, 360177890.51640105)\n",
      "Потенциальные убытки:-0.530 млрд рублей\n",
      "Риск убытков: 9.90%\n"
     ]
    }
   ],
   "source": [
    "print('Для региона №2 потенциальная прибыль составит:')\n",
    "get_profit(target_valid_2, predict_2, 500)"
   ]
  },
  {
   "cell_type": "markdown",
   "metadata": {},
   "source": [
    "# <a id='4'> 5. Вывод.</a> "
   ]
  },
  {
   "cell_type": "markdown",
   "metadata": {},
   "source": [
    "Самое большое значение средней прибыли наблюдается для региона №1 0.479 млрд рублей. У него же самая низкая вероятность потерпеть убытки 0.90%. Он является наиболее подходящим для дальнейшей работы.\n",
    "\n",
    "Самые плохие показатели у региона №2. Средняя прибыль составит: 0.343 млрд рублей, а риск убытков: 9.90%. Этот район манее всего подходит для разработок.\n"
   ]
  }
 ],
 "metadata": {
  "kernelspec": {
   "display_name": "Python 3",
   "language": "python",
   "name": "python3"
  },
  "language_info": {
   "codemirror_mode": {
    "name": "ipython",
    "version": 3
   },
   "file_extension": ".py",
   "mimetype": "text/x-python",
   "name": "python",
   "nbconvert_exporter": "python",
   "pygments_lexer": "ipython3",
   "version": "3.8.5"
  }
 },
 "nbformat": 4,
 "nbformat_minor": 2
}
