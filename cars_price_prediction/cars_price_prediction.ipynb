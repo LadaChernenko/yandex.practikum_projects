{
 "cells": [
  {
   "cell_type": "markdown",
   "metadata": {},
   "source": [
    "# Предсказание стоимости автомобиля\n",
    "\n",
    "Для сервиса по продаже поддержаных автомобилей необходимо предсказать их рыночную стоимость.\n",
    "Обучить модель необходимо на исторических данных.\n",
    "\n",
    "При выборе оптимальной модели нужно ориантироваться на качество и время обучения и предсказания."
   ]
  },
  {
   "cell_type": "markdown",
   "metadata": {},
   "source": [
    "## План выполнения работы:\n",
    "### <a href=#1>1. Подготовка данных</a>\n",
    "-     <a href=#1_1> 1.1 Изучение данных</a>\n",
    "-     <a href=#1_2> 1.2 Обработка пропусков</a>\n",
    "-     <a href=#1_3> 1.3 Обработка категориальных признаков</a>\n",
    "\n",
    "### <a href=#2>2. Обучение моделей</a>\n",
    "-     <a href=#2_0> 2.0 Подготовка выборок</a>\n",
    "-     <a href=#2_1> 2.1 RandomForestRegressor</a>\n",
    "-     <a href=#2_2> 2.2 GradientBoostingRegressor</a>\n",
    "-     <a href=#2_3> 2.3 LightGBM</a>\n",
    "-     <a href=#2_4> 2.4 CatBoostRegressor</a>\n",
    "-     <a href=#2_5> 2.5 XGboost</a>\n",
    "\n",
    "### <a href=#3>3. Оценка качества</a>\n",
    "### <a href=#4>4. Вывод</a>"
   ]
  },
  {
   "cell_type": "markdown",
   "metadata": {},
   "source": [
    "# <a id='1'> 1. Подготовка данных</a> "
   ]
  },
  {
   "cell_type": "code",
   "execution_count": 1,
   "metadata": {},
   "outputs": [],
   "source": [
    "import pandas as pd\n",
    "import numpy as np\n",
    "import seaborn as sns\n",
    "import matplotlib.pyplot as plt\n",
    "from sklearn.preprocessing import OrdinalEncoder\n",
    "import lightgbm as lgb\n",
    "import xgboost as xgb\n",
    "from catboost import CatBoostRegressor\n",
    "from sklearn.ensemble import GradientBoostingRegressor, RandomForestRegressor\n",
    "from sklearn.model_selection import RandomizedSearchCV, train_test_split, cross_val_score\n",
    "from sklearn.metrics import mean_squared_error, make_scorer"
   ]
  },
  {
   "cell_type": "code",
   "execution_count": 2,
   "metadata": {},
   "outputs": [],
   "source": [
    "autos = pd.read_csv('/datasets/autos.csv')"
   ]
  },
  {
   "cell_type": "markdown",
   "metadata": {},
   "source": [
    "## <a id='1_1'> 1.1 Изучение данных</a> "
   ]
  },
  {
   "cell_type": "code",
   "execution_count": 3,
   "metadata": {},
   "outputs": [
    {
     "data": {
      "text/html": [
       "<div>\n",
       "<style scoped>\n",
       "    .dataframe tbody tr th:only-of-type {\n",
       "        vertical-align: middle;\n",
       "    }\n",
       "\n",
       "    .dataframe tbody tr th {\n",
       "        vertical-align: top;\n",
       "    }\n",
       "\n",
       "    .dataframe thead th {\n",
       "        text-align: right;\n",
       "    }\n",
       "</style>\n",
       "<table border=\"1\" class=\"dataframe\">\n",
       "  <thead>\n",
       "    <tr style=\"text-align: right;\">\n",
       "      <th></th>\n",
       "      <th>DateCrawled</th>\n",
       "      <th>Price</th>\n",
       "      <th>VehicleType</th>\n",
       "      <th>RegistrationYear</th>\n",
       "      <th>Gearbox</th>\n",
       "      <th>Power</th>\n",
       "      <th>Model</th>\n",
       "      <th>Kilometer</th>\n",
       "      <th>RegistrationMonth</th>\n",
       "      <th>FuelType</th>\n",
       "      <th>Brand</th>\n",
       "      <th>NotRepaired</th>\n",
       "      <th>DateCreated</th>\n",
       "      <th>NumberOfPictures</th>\n",
       "      <th>PostalCode</th>\n",
       "      <th>LastSeen</th>\n",
       "    </tr>\n",
       "  </thead>\n",
       "  <tbody>\n",
       "    <tr>\n",
       "      <td>0</td>\n",
       "      <td>2016-03-24 11:52:17</td>\n",
       "      <td>480</td>\n",
       "      <td>NaN</td>\n",
       "      <td>1993</td>\n",
       "      <td>manual</td>\n",
       "      <td>0</td>\n",
       "      <td>golf</td>\n",
       "      <td>150000</td>\n",
       "      <td>0</td>\n",
       "      <td>petrol</td>\n",
       "      <td>volkswagen</td>\n",
       "      <td>NaN</td>\n",
       "      <td>2016-03-24 00:00:00</td>\n",
       "      <td>0</td>\n",
       "      <td>70435</td>\n",
       "      <td>2016-04-07 03:16:57</td>\n",
       "    </tr>\n",
       "    <tr>\n",
       "      <td>1</td>\n",
       "      <td>2016-03-24 10:58:45</td>\n",
       "      <td>18300</td>\n",
       "      <td>coupe</td>\n",
       "      <td>2011</td>\n",
       "      <td>manual</td>\n",
       "      <td>190</td>\n",
       "      <td>NaN</td>\n",
       "      <td>125000</td>\n",
       "      <td>5</td>\n",
       "      <td>gasoline</td>\n",
       "      <td>audi</td>\n",
       "      <td>yes</td>\n",
       "      <td>2016-03-24 00:00:00</td>\n",
       "      <td>0</td>\n",
       "      <td>66954</td>\n",
       "      <td>2016-04-07 01:46:50</td>\n",
       "    </tr>\n",
       "    <tr>\n",
       "      <td>2</td>\n",
       "      <td>2016-03-14 12:52:21</td>\n",
       "      <td>9800</td>\n",
       "      <td>suv</td>\n",
       "      <td>2004</td>\n",
       "      <td>auto</td>\n",
       "      <td>163</td>\n",
       "      <td>grand</td>\n",
       "      <td>125000</td>\n",
       "      <td>8</td>\n",
       "      <td>gasoline</td>\n",
       "      <td>jeep</td>\n",
       "      <td>NaN</td>\n",
       "      <td>2016-03-14 00:00:00</td>\n",
       "      <td>0</td>\n",
       "      <td>90480</td>\n",
       "      <td>2016-04-05 12:47:46</td>\n",
       "    </tr>\n",
       "    <tr>\n",
       "      <td>3</td>\n",
       "      <td>2016-03-17 16:54:04</td>\n",
       "      <td>1500</td>\n",
       "      <td>small</td>\n",
       "      <td>2001</td>\n",
       "      <td>manual</td>\n",
       "      <td>75</td>\n",
       "      <td>golf</td>\n",
       "      <td>150000</td>\n",
       "      <td>6</td>\n",
       "      <td>petrol</td>\n",
       "      <td>volkswagen</td>\n",
       "      <td>no</td>\n",
       "      <td>2016-03-17 00:00:00</td>\n",
       "      <td>0</td>\n",
       "      <td>91074</td>\n",
       "      <td>2016-03-17 17:40:17</td>\n",
       "    </tr>\n",
       "    <tr>\n",
       "      <td>4</td>\n",
       "      <td>2016-03-31 17:25:20</td>\n",
       "      <td>3600</td>\n",
       "      <td>small</td>\n",
       "      <td>2008</td>\n",
       "      <td>manual</td>\n",
       "      <td>69</td>\n",
       "      <td>fabia</td>\n",
       "      <td>90000</td>\n",
       "      <td>7</td>\n",
       "      <td>gasoline</td>\n",
       "      <td>skoda</td>\n",
       "      <td>no</td>\n",
       "      <td>2016-03-31 00:00:00</td>\n",
       "      <td>0</td>\n",
       "      <td>60437</td>\n",
       "      <td>2016-04-06 10:17:21</td>\n",
       "    </tr>\n",
       "  </tbody>\n",
       "</table>\n",
       "</div>"
      ],
      "text/plain": [
       "           DateCrawled  Price VehicleType  RegistrationYear Gearbox  Power  \\\n",
       "0  2016-03-24 11:52:17    480         NaN              1993  manual      0   \n",
       "1  2016-03-24 10:58:45  18300       coupe              2011  manual    190   \n",
       "2  2016-03-14 12:52:21   9800         suv              2004    auto    163   \n",
       "3  2016-03-17 16:54:04   1500       small              2001  manual     75   \n",
       "4  2016-03-31 17:25:20   3600       small              2008  manual     69   \n",
       "\n",
       "   Model  Kilometer  RegistrationMonth  FuelType       Brand NotRepaired  \\\n",
       "0   golf     150000                  0    petrol  volkswagen         NaN   \n",
       "1    NaN     125000                  5  gasoline        audi         yes   \n",
       "2  grand     125000                  8  gasoline        jeep         NaN   \n",
       "3   golf     150000                  6    petrol  volkswagen          no   \n",
       "4  fabia      90000                  7  gasoline       skoda          no   \n",
       "\n",
       "           DateCreated  NumberOfPictures  PostalCode             LastSeen  \n",
       "0  2016-03-24 00:00:00                 0       70435  2016-04-07 03:16:57  \n",
       "1  2016-03-24 00:00:00                 0       66954  2016-04-07 01:46:50  \n",
       "2  2016-03-14 00:00:00                 0       90480  2016-04-05 12:47:46  \n",
       "3  2016-03-17 00:00:00                 0       91074  2016-03-17 17:40:17  \n",
       "4  2016-03-31 00:00:00                 0       60437  2016-04-06 10:17:21  "
      ]
     },
     "execution_count": 3,
     "metadata": {},
     "output_type": "execute_result"
    }
   ],
   "source": [
    "autos.head()"
   ]
  },
  {
   "cell_type": "code",
   "execution_count": 4,
   "metadata": {},
   "outputs": [
    {
     "name": "stdout",
     "output_type": "stream",
     "text": [
      "<class 'pandas.core.frame.DataFrame'>\n",
      "RangeIndex: 354369 entries, 0 to 354368\n",
      "Data columns (total 16 columns):\n",
      "DateCrawled          354369 non-null object\n",
      "Price                354369 non-null int64\n",
      "VehicleType          316879 non-null object\n",
      "RegistrationYear     354369 non-null int64\n",
      "Gearbox              334536 non-null object\n",
      "Power                354369 non-null int64\n",
      "Model                334664 non-null object\n",
      "Kilometer            354369 non-null int64\n",
      "RegistrationMonth    354369 non-null int64\n",
      "FuelType             321474 non-null object\n",
      "Brand                354369 non-null object\n",
      "NotRepaired          283215 non-null object\n",
      "DateCreated          354369 non-null object\n",
      "NumberOfPictures     354369 non-null int64\n",
      "PostalCode           354369 non-null int64\n",
      "LastSeen             354369 non-null object\n",
      "dtypes: int64(7), object(9)\n",
      "memory usage: 43.3+ MB\n"
     ]
    }
   ],
   "source": [
    "autos.info()"
   ]
  },
  {
   "cell_type": "code",
   "execution_count": 5,
   "metadata": {},
   "outputs": [],
   "source": [
    "def percent_nan(data):\n",
    "    isna_data = pd.DataFrame(data.isna().sum())\n",
    "    isna_data.columns = ['nan']\n",
    "    isna_data['rate'] = isna_data['nan']/len(data)\n",
    "    return(isna_data.style.format(\"{:.2%}\", subset='rate'))"
   ]
  },
  {
   "cell_type": "code",
   "execution_count": 6,
   "metadata": {},
   "outputs": [
    {
     "data": {
      "text/html": [
       "<style  type=\"text/css\" >\n",
       "</style><table id=\"T_40eb3aaa_1a83_11eb_8975_02420a391913\" ><thead>    <tr>        <th class=\"blank level0\" ></th>        <th class=\"col_heading level0 col0\" >nan</th>        <th class=\"col_heading level0 col1\" >rate</th>    </tr></thead><tbody>\n",
       "                <tr>\n",
       "                        <th id=\"T_40eb3aaa_1a83_11eb_8975_02420a391913level0_row0\" class=\"row_heading level0 row0\" >DateCrawled</th>\n",
       "                        <td id=\"T_40eb3aaa_1a83_11eb_8975_02420a391913row0_col0\" class=\"data row0 col0\" >0</td>\n",
       "                        <td id=\"T_40eb3aaa_1a83_11eb_8975_02420a391913row0_col1\" class=\"data row0 col1\" >0.00%</td>\n",
       "            </tr>\n",
       "            <tr>\n",
       "                        <th id=\"T_40eb3aaa_1a83_11eb_8975_02420a391913level0_row1\" class=\"row_heading level0 row1\" >Price</th>\n",
       "                        <td id=\"T_40eb3aaa_1a83_11eb_8975_02420a391913row1_col0\" class=\"data row1 col0\" >0</td>\n",
       "                        <td id=\"T_40eb3aaa_1a83_11eb_8975_02420a391913row1_col1\" class=\"data row1 col1\" >0.00%</td>\n",
       "            </tr>\n",
       "            <tr>\n",
       "                        <th id=\"T_40eb3aaa_1a83_11eb_8975_02420a391913level0_row2\" class=\"row_heading level0 row2\" >VehicleType</th>\n",
       "                        <td id=\"T_40eb3aaa_1a83_11eb_8975_02420a391913row2_col0\" class=\"data row2 col0\" >37490</td>\n",
       "                        <td id=\"T_40eb3aaa_1a83_11eb_8975_02420a391913row2_col1\" class=\"data row2 col1\" >10.58%</td>\n",
       "            </tr>\n",
       "            <tr>\n",
       "                        <th id=\"T_40eb3aaa_1a83_11eb_8975_02420a391913level0_row3\" class=\"row_heading level0 row3\" >RegistrationYear</th>\n",
       "                        <td id=\"T_40eb3aaa_1a83_11eb_8975_02420a391913row3_col0\" class=\"data row3 col0\" >0</td>\n",
       "                        <td id=\"T_40eb3aaa_1a83_11eb_8975_02420a391913row3_col1\" class=\"data row3 col1\" >0.00%</td>\n",
       "            </tr>\n",
       "            <tr>\n",
       "                        <th id=\"T_40eb3aaa_1a83_11eb_8975_02420a391913level0_row4\" class=\"row_heading level0 row4\" >Gearbox</th>\n",
       "                        <td id=\"T_40eb3aaa_1a83_11eb_8975_02420a391913row4_col0\" class=\"data row4 col0\" >19833</td>\n",
       "                        <td id=\"T_40eb3aaa_1a83_11eb_8975_02420a391913row4_col1\" class=\"data row4 col1\" >5.60%</td>\n",
       "            </tr>\n",
       "            <tr>\n",
       "                        <th id=\"T_40eb3aaa_1a83_11eb_8975_02420a391913level0_row5\" class=\"row_heading level0 row5\" >Power</th>\n",
       "                        <td id=\"T_40eb3aaa_1a83_11eb_8975_02420a391913row5_col0\" class=\"data row5 col0\" >0</td>\n",
       "                        <td id=\"T_40eb3aaa_1a83_11eb_8975_02420a391913row5_col1\" class=\"data row5 col1\" >0.00%</td>\n",
       "            </tr>\n",
       "            <tr>\n",
       "                        <th id=\"T_40eb3aaa_1a83_11eb_8975_02420a391913level0_row6\" class=\"row_heading level0 row6\" >Model</th>\n",
       "                        <td id=\"T_40eb3aaa_1a83_11eb_8975_02420a391913row6_col0\" class=\"data row6 col0\" >19705</td>\n",
       "                        <td id=\"T_40eb3aaa_1a83_11eb_8975_02420a391913row6_col1\" class=\"data row6 col1\" >5.56%</td>\n",
       "            </tr>\n",
       "            <tr>\n",
       "                        <th id=\"T_40eb3aaa_1a83_11eb_8975_02420a391913level0_row7\" class=\"row_heading level0 row7\" >Kilometer</th>\n",
       "                        <td id=\"T_40eb3aaa_1a83_11eb_8975_02420a391913row7_col0\" class=\"data row7 col0\" >0</td>\n",
       "                        <td id=\"T_40eb3aaa_1a83_11eb_8975_02420a391913row7_col1\" class=\"data row7 col1\" >0.00%</td>\n",
       "            </tr>\n",
       "            <tr>\n",
       "                        <th id=\"T_40eb3aaa_1a83_11eb_8975_02420a391913level0_row8\" class=\"row_heading level0 row8\" >RegistrationMonth</th>\n",
       "                        <td id=\"T_40eb3aaa_1a83_11eb_8975_02420a391913row8_col0\" class=\"data row8 col0\" >0</td>\n",
       "                        <td id=\"T_40eb3aaa_1a83_11eb_8975_02420a391913row8_col1\" class=\"data row8 col1\" >0.00%</td>\n",
       "            </tr>\n",
       "            <tr>\n",
       "                        <th id=\"T_40eb3aaa_1a83_11eb_8975_02420a391913level0_row9\" class=\"row_heading level0 row9\" >FuelType</th>\n",
       "                        <td id=\"T_40eb3aaa_1a83_11eb_8975_02420a391913row9_col0\" class=\"data row9 col0\" >32895</td>\n",
       "                        <td id=\"T_40eb3aaa_1a83_11eb_8975_02420a391913row9_col1\" class=\"data row9 col1\" >9.28%</td>\n",
       "            </tr>\n",
       "            <tr>\n",
       "                        <th id=\"T_40eb3aaa_1a83_11eb_8975_02420a391913level0_row10\" class=\"row_heading level0 row10\" >Brand</th>\n",
       "                        <td id=\"T_40eb3aaa_1a83_11eb_8975_02420a391913row10_col0\" class=\"data row10 col0\" >0</td>\n",
       "                        <td id=\"T_40eb3aaa_1a83_11eb_8975_02420a391913row10_col1\" class=\"data row10 col1\" >0.00%</td>\n",
       "            </tr>\n",
       "            <tr>\n",
       "                        <th id=\"T_40eb3aaa_1a83_11eb_8975_02420a391913level0_row11\" class=\"row_heading level0 row11\" >NotRepaired</th>\n",
       "                        <td id=\"T_40eb3aaa_1a83_11eb_8975_02420a391913row11_col0\" class=\"data row11 col0\" >71154</td>\n",
       "                        <td id=\"T_40eb3aaa_1a83_11eb_8975_02420a391913row11_col1\" class=\"data row11 col1\" >20.08%</td>\n",
       "            </tr>\n",
       "            <tr>\n",
       "                        <th id=\"T_40eb3aaa_1a83_11eb_8975_02420a391913level0_row12\" class=\"row_heading level0 row12\" >DateCreated</th>\n",
       "                        <td id=\"T_40eb3aaa_1a83_11eb_8975_02420a391913row12_col0\" class=\"data row12 col0\" >0</td>\n",
       "                        <td id=\"T_40eb3aaa_1a83_11eb_8975_02420a391913row12_col1\" class=\"data row12 col1\" >0.00%</td>\n",
       "            </tr>\n",
       "            <tr>\n",
       "                        <th id=\"T_40eb3aaa_1a83_11eb_8975_02420a391913level0_row13\" class=\"row_heading level0 row13\" >NumberOfPictures</th>\n",
       "                        <td id=\"T_40eb3aaa_1a83_11eb_8975_02420a391913row13_col0\" class=\"data row13 col0\" >0</td>\n",
       "                        <td id=\"T_40eb3aaa_1a83_11eb_8975_02420a391913row13_col1\" class=\"data row13 col1\" >0.00%</td>\n",
       "            </tr>\n",
       "            <tr>\n",
       "                        <th id=\"T_40eb3aaa_1a83_11eb_8975_02420a391913level0_row14\" class=\"row_heading level0 row14\" >PostalCode</th>\n",
       "                        <td id=\"T_40eb3aaa_1a83_11eb_8975_02420a391913row14_col0\" class=\"data row14 col0\" >0</td>\n",
       "                        <td id=\"T_40eb3aaa_1a83_11eb_8975_02420a391913row14_col1\" class=\"data row14 col1\" >0.00%</td>\n",
       "            </tr>\n",
       "            <tr>\n",
       "                        <th id=\"T_40eb3aaa_1a83_11eb_8975_02420a391913level0_row15\" class=\"row_heading level0 row15\" >LastSeen</th>\n",
       "                        <td id=\"T_40eb3aaa_1a83_11eb_8975_02420a391913row15_col0\" class=\"data row15 col0\" >0</td>\n",
       "                        <td id=\"T_40eb3aaa_1a83_11eb_8975_02420a391913row15_col1\" class=\"data row15 col1\" >0.00%</td>\n",
       "            </tr>\n",
       "    </tbody></table>"
      ],
      "text/plain": [
       "<pandas.io.formats.style.Styler at 0x7f8d98d8d9d0>"
      ]
     },
     "execution_count": 6,
     "metadata": {},
     "output_type": "execute_result"
    }
   ],
   "source": [
    "percent_nan(autos)"
   ]
  },
  {
   "cell_type": "markdown",
   "metadata": {},
   "source": [
    "**Вывод:**\n",
    "- целевой признак в столбце `Price`;\n",
    "- категориальные признаки находятся в столбцах `VehicleType`, `Gearbox`, `Model`, `FuelType`, `Brand`;\n",
    "- признаки типа дата/время находятся в столбцах `DateCrawled`, `LastSeen`;\n",
    "- в признаках `VehicleType`, `Gearbox`, `Model`, `FuelType`, `NotRepaired` присутствуют пропуски, которые необходимо обработать.\n",
    "- признаки `DateCrawled` и `LastSeen` скорее всего, не информативны. Удалим их."
   ]
  },
  {
   "cell_type": "markdown",
   "metadata": {},
   "source": [
    "## <a id='1_2'>1.2 Обработка пропусков</a> "
   ]
  },
  {
   "cell_type": "markdown",
   "metadata": {},
   "source": [
    "- В зависимых столбцах `VehicleType`, `Gearbox`, `Model`, `FuelType` есть пропуски. Посмотрим есть ли зависимость в них. Попробуем заменить пропуски на значения из близких категорий.\n",
    "- Пропуски в столбце `NotRepaired` заменим на значение \"no\"\n",
    "- Пропуски в столбце `Model` попробуем удалить."
   ]
  },
  {
   "cell_type": "code",
   "execution_count": 7,
   "metadata": {},
   "outputs": [],
   "source": [
    "autos.loc[:,'NotRepaired'] = autos.loc[:,'NotRepaired'].fillna('no')"
   ]
  },
  {
   "cell_type": "code",
   "execution_count": 8,
   "metadata": {},
   "outputs": [
    {
     "name": "stdout",
     "output_type": "stream",
     "text": [
      "Данных с пропусками во всех столбцах\n",
      "2392\n",
      "Данных с пропусками в столбцах VehicleType, Model\n",
      "6828\n",
      "Данных с пропусками в столбцах Gearbox, Model\n",
      "4131\n",
      "Данных с пропусками в столбцах FuelType, Model\n",
      "7163\n"
     ]
    }
   ],
   "source": [
    "print('Данных с пропусками во всех столбцах')\n",
    "print(len(autos.loc[autos['VehicleType'].isna() & autos['Gearbox'].isna() \n",
    "                    & autos['Model'].isna() & autos['FuelType'].isna()]))\n",
    "\n",
    "print('Данных с пропусками в столбцах VehicleType, Model')\n",
    "print(len(autos.loc[autos['VehicleType'].isna() & autos['Model'].isna()]))\n",
    "\n",
    "print('Данных с пропусками в столбцах Gearbox, Model')\n",
    "print(len(autos.loc[autos['Gearbox'].isna() & autos['Model'].isna()]))\n",
    "\n",
    "print('Данных с пропусками в столбцах FuelType, Model')\n",
    "print(len(autos.loc[autos['FuelType'].isna() & autos['Model'].isna()]))\n"
   ]
  },
  {
   "cell_type": "markdown",
   "metadata": {},
   "source": [
    "Предположим, что у одной и той же модели автомобиля должны быть одинаковые значения параметров VehicleType, Gearbox и FuelType. Заменим пропуски, где это возможно, согласно нашему предположению."
   ]
  },
  {
   "cell_type": "code",
   "execution_count": 9,
   "metadata": {},
   "outputs": [],
   "source": [
    "def replace_nan(column):\n",
    "    model_type = autos.loc[:,('Brand', 'Model', column)].dropna(axis=0).groupby(['Brand',\n",
    "                                                             'Model'])[column].agg(['first'])\n",
    "    model_type.set_axis([column], axis='columns', inplace=True)\n",
    "    for brand, model in model_type.index:\n",
    "        autos.loc[(autos['Brand']==brand) & (autos['Model']==model), \n",
    "                  column]=autos.loc[(autos['Brand']==brand) & (autos['Model']==model),\n",
    "                                           column].fillna(model_type.loc[(brand, model), column])\n"
   ]
  },
  {
   "cell_type": "code",
   "execution_count": 10,
   "metadata": {},
   "outputs": [],
   "source": [
    "replace_nan('VehicleType')\n",
    "replace_nan('Gearbox')\n",
    "replace_nan('FuelType')"
   ]
  },
  {
   "cell_type": "code",
   "execution_count": 11,
   "metadata": {},
   "outputs": [
    {
     "data": {
      "text/html": [
       "<style  type=\"text/css\" >\n",
       "</style><table id=\"T_72d14dac_1a83_11eb_8975_02420a391913\" ><thead>    <tr>        <th class=\"blank level0\" ></th>        <th class=\"col_heading level0 col0\" >nan</th>        <th class=\"col_heading level0 col1\" >rate</th>    </tr></thead><tbody>\n",
       "                <tr>\n",
       "                        <th id=\"T_72d14dac_1a83_11eb_8975_02420a391913level0_row0\" class=\"row_heading level0 row0\" >VehicleType</th>\n",
       "                        <td id=\"T_72d14dac_1a83_11eb_8975_02420a391913row0_col0\" class=\"data row0 col0\" >6828</td>\n",
       "                        <td id=\"T_72d14dac_1a83_11eb_8975_02420a391913row0_col1\" class=\"data row0 col1\" >1.93%</td>\n",
       "            </tr>\n",
       "            <tr>\n",
       "                        <th id=\"T_72d14dac_1a83_11eb_8975_02420a391913level0_row1\" class=\"row_heading level0 row1\" >Gearbox</th>\n",
       "                        <td id=\"T_72d14dac_1a83_11eb_8975_02420a391913row1_col0\" class=\"data row1 col0\" >4131</td>\n",
       "                        <td id=\"T_72d14dac_1a83_11eb_8975_02420a391913row1_col1\" class=\"data row1 col1\" >1.17%</td>\n",
       "            </tr>\n",
       "            <tr>\n",
       "                        <th id=\"T_72d14dac_1a83_11eb_8975_02420a391913level0_row2\" class=\"row_heading level0 row2\" >FuelType</th>\n",
       "                        <td id=\"T_72d14dac_1a83_11eb_8975_02420a391913row2_col0\" class=\"data row2 col0\" >7163</td>\n",
       "                        <td id=\"T_72d14dac_1a83_11eb_8975_02420a391913row2_col1\" class=\"data row2 col1\" >2.02%</td>\n",
       "            </tr>\n",
       "    </tbody></table>"
      ],
      "text/plain": [
       "<pandas.io.formats.style.Styler at 0x7f8d98d8d790>"
      ]
     },
     "execution_count": 11,
     "metadata": {},
     "output_type": "execute_result"
    }
   ],
   "source": [
    "percent_nan(autos.loc[:,['VehicleType','Gearbox','FuelType']])"
   ]
  },
  {
   "cell_type": "markdown",
   "metadata": {},
   "source": [
    "Количество пропусков уменьшилось."
   ]
  },
  {
   "cell_type": "code",
   "execution_count": 12,
   "metadata": {},
   "outputs": [],
   "source": [
    "autos = autos.dropna(axis=0, subset=['Model'])"
   ]
  },
  {
   "cell_type": "code",
   "execution_count": 13,
   "metadata": {
    "scrolled": true
   },
   "outputs": [
    {
     "data": {
      "text/html": [
       "<style  type=\"text/css\" >\n",
       "</style><table id=\"T_72fad8a2_1a83_11eb_8975_02420a391913\" ><thead>    <tr>        <th class=\"blank level0\" ></th>        <th class=\"col_heading level0 col0\" >nan</th>        <th class=\"col_heading level0 col1\" >rate</th>    </tr></thead><tbody>\n",
       "                <tr>\n",
       "                        <th id=\"T_72fad8a2_1a83_11eb_8975_02420a391913level0_row0\" class=\"row_heading level0 row0\" >DateCrawled</th>\n",
       "                        <td id=\"T_72fad8a2_1a83_11eb_8975_02420a391913row0_col0\" class=\"data row0 col0\" >0</td>\n",
       "                        <td id=\"T_72fad8a2_1a83_11eb_8975_02420a391913row0_col1\" class=\"data row0 col1\" >0.00%</td>\n",
       "            </tr>\n",
       "            <tr>\n",
       "                        <th id=\"T_72fad8a2_1a83_11eb_8975_02420a391913level0_row1\" class=\"row_heading level0 row1\" >Price</th>\n",
       "                        <td id=\"T_72fad8a2_1a83_11eb_8975_02420a391913row1_col0\" class=\"data row1 col0\" >0</td>\n",
       "                        <td id=\"T_72fad8a2_1a83_11eb_8975_02420a391913row1_col1\" class=\"data row1 col1\" >0.00%</td>\n",
       "            </tr>\n",
       "            <tr>\n",
       "                        <th id=\"T_72fad8a2_1a83_11eb_8975_02420a391913level0_row2\" class=\"row_heading level0 row2\" >VehicleType</th>\n",
       "                        <td id=\"T_72fad8a2_1a83_11eb_8975_02420a391913row2_col0\" class=\"data row2 col0\" >0</td>\n",
       "                        <td id=\"T_72fad8a2_1a83_11eb_8975_02420a391913row2_col1\" class=\"data row2 col1\" >0.00%</td>\n",
       "            </tr>\n",
       "            <tr>\n",
       "                        <th id=\"T_72fad8a2_1a83_11eb_8975_02420a391913level0_row3\" class=\"row_heading level0 row3\" >RegistrationYear</th>\n",
       "                        <td id=\"T_72fad8a2_1a83_11eb_8975_02420a391913row3_col0\" class=\"data row3 col0\" >0</td>\n",
       "                        <td id=\"T_72fad8a2_1a83_11eb_8975_02420a391913row3_col1\" class=\"data row3 col1\" >0.00%</td>\n",
       "            </tr>\n",
       "            <tr>\n",
       "                        <th id=\"T_72fad8a2_1a83_11eb_8975_02420a391913level0_row4\" class=\"row_heading level0 row4\" >Gearbox</th>\n",
       "                        <td id=\"T_72fad8a2_1a83_11eb_8975_02420a391913row4_col0\" class=\"data row4 col0\" >0</td>\n",
       "                        <td id=\"T_72fad8a2_1a83_11eb_8975_02420a391913row4_col1\" class=\"data row4 col1\" >0.00%</td>\n",
       "            </tr>\n",
       "            <tr>\n",
       "                        <th id=\"T_72fad8a2_1a83_11eb_8975_02420a391913level0_row5\" class=\"row_heading level0 row5\" >Power</th>\n",
       "                        <td id=\"T_72fad8a2_1a83_11eb_8975_02420a391913row5_col0\" class=\"data row5 col0\" >0</td>\n",
       "                        <td id=\"T_72fad8a2_1a83_11eb_8975_02420a391913row5_col1\" class=\"data row5 col1\" >0.00%</td>\n",
       "            </tr>\n",
       "            <tr>\n",
       "                        <th id=\"T_72fad8a2_1a83_11eb_8975_02420a391913level0_row6\" class=\"row_heading level0 row6\" >Model</th>\n",
       "                        <td id=\"T_72fad8a2_1a83_11eb_8975_02420a391913row6_col0\" class=\"data row6 col0\" >0</td>\n",
       "                        <td id=\"T_72fad8a2_1a83_11eb_8975_02420a391913row6_col1\" class=\"data row6 col1\" >0.00%</td>\n",
       "            </tr>\n",
       "            <tr>\n",
       "                        <th id=\"T_72fad8a2_1a83_11eb_8975_02420a391913level0_row7\" class=\"row_heading level0 row7\" >Kilometer</th>\n",
       "                        <td id=\"T_72fad8a2_1a83_11eb_8975_02420a391913row7_col0\" class=\"data row7 col0\" >0</td>\n",
       "                        <td id=\"T_72fad8a2_1a83_11eb_8975_02420a391913row7_col1\" class=\"data row7 col1\" >0.00%</td>\n",
       "            </tr>\n",
       "            <tr>\n",
       "                        <th id=\"T_72fad8a2_1a83_11eb_8975_02420a391913level0_row8\" class=\"row_heading level0 row8\" >RegistrationMonth</th>\n",
       "                        <td id=\"T_72fad8a2_1a83_11eb_8975_02420a391913row8_col0\" class=\"data row8 col0\" >0</td>\n",
       "                        <td id=\"T_72fad8a2_1a83_11eb_8975_02420a391913row8_col1\" class=\"data row8 col1\" >0.00%</td>\n",
       "            </tr>\n",
       "            <tr>\n",
       "                        <th id=\"T_72fad8a2_1a83_11eb_8975_02420a391913level0_row9\" class=\"row_heading level0 row9\" >FuelType</th>\n",
       "                        <td id=\"T_72fad8a2_1a83_11eb_8975_02420a391913row9_col0\" class=\"data row9 col0\" >0</td>\n",
       "                        <td id=\"T_72fad8a2_1a83_11eb_8975_02420a391913row9_col1\" class=\"data row9 col1\" >0.00%</td>\n",
       "            </tr>\n",
       "            <tr>\n",
       "                        <th id=\"T_72fad8a2_1a83_11eb_8975_02420a391913level0_row10\" class=\"row_heading level0 row10\" >Brand</th>\n",
       "                        <td id=\"T_72fad8a2_1a83_11eb_8975_02420a391913row10_col0\" class=\"data row10 col0\" >0</td>\n",
       "                        <td id=\"T_72fad8a2_1a83_11eb_8975_02420a391913row10_col1\" class=\"data row10 col1\" >0.00%</td>\n",
       "            </tr>\n",
       "            <tr>\n",
       "                        <th id=\"T_72fad8a2_1a83_11eb_8975_02420a391913level0_row11\" class=\"row_heading level0 row11\" >NotRepaired</th>\n",
       "                        <td id=\"T_72fad8a2_1a83_11eb_8975_02420a391913row11_col0\" class=\"data row11 col0\" >0</td>\n",
       "                        <td id=\"T_72fad8a2_1a83_11eb_8975_02420a391913row11_col1\" class=\"data row11 col1\" >0.00%</td>\n",
       "            </tr>\n",
       "            <tr>\n",
       "                        <th id=\"T_72fad8a2_1a83_11eb_8975_02420a391913level0_row12\" class=\"row_heading level0 row12\" >DateCreated</th>\n",
       "                        <td id=\"T_72fad8a2_1a83_11eb_8975_02420a391913row12_col0\" class=\"data row12 col0\" >0</td>\n",
       "                        <td id=\"T_72fad8a2_1a83_11eb_8975_02420a391913row12_col1\" class=\"data row12 col1\" >0.00%</td>\n",
       "            </tr>\n",
       "            <tr>\n",
       "                        <th id=\"T_72fad8a2_1a83_11eb_8975_02420a391913level0_row13\" class=\"row_heading level0 row13\" >NumberOfPictures</th>\n",
       "                        <td id=\"T_72fad8a2_1a83_11eb_8975_02420a391913row13_col0\" class=\"data row13 col0\" >0</td>\n",
       "                        <td id=\"T_72fad8a2_1a83_11eb_8975_02420a391913row13_col1\" class=\"data row13 col1\" >0.00%</td>\n",
       "            </tr>\n",
       "            <tr>\n",
       "                        <th id=\"T_72fad8a2_1a83_11eb_8975_02420a391913level0_row14\" class=\"row_heading level0 row14\" >PostalCode</th>\n",
       "                        <td id=\"T_72fad8a2_1a83_11eb_8975_02420a391913row14_col0\" class=\"data row14 col0\" >0</td>\n",
       "                        <td id=\"T_72fad8a2_1a83_11eb_8975_02420a391913row14_col1\" class=\"data row14 col1\" >0.00%</td>\n",
       "            </tr>\n",
       "            <tr>\n",
       "                        <th id=\"T_72fad8a2_1a83_11eb_8975_02420a391913level0_row15\" class=\"row_heading level0 row15\" >LastSeen</th>\n",
       "                        <td id=\"T_72fad8a2_1a83_11eb_8975_02420a391913row15_col0\" class=\"data row15 col0\" >0</td>\n",
       "                        <td id=\"T_72fad8a2_1a83_11eb_8975_02420a391913row15_col1\" class=\"data row15 col1\" >0.00%</td>\n",
       "            </tr>\n",
       "    </tbody></table>"
      ],
      "text/plain": [
       "<pandas.io.formats.style.Styler at 0x7f8d989e2d90>"
      ]
     },
     "execution_count": 13,
     "metadata": {},
     "output_type": "execute_result"
    }
   ],
   "source": [
    "percent_nan(autos)"
   ]
  },
  {
   "cell_type": "markdown",
   "metadata": {},
   "source": [
    "## <a id='1_3'>1.3 Обработка категориальных признаков</a> "
   ]
  },
  {
   "cell_type": "markdown",
   "metadata": {},
   "source": [
    "Если для модели CatBoost нет необходимости как-то обрабатывать категориальные признаки, то для XGBoost нужно переводить все данные типа object в числовые значения. \n",
    "- категориальные признаки находятся в столбцах `VehicleType`, `Gearbox`, `Model`, `FuelType`, `Brand`. Их мы закодируем c помощью LabelEncoder.\n",
    "- значения в столбце `NotRepaired` переведём в значения (0,1)\n",
    "- удалим из выборки признаки `DateCrawled` и `LastSeen`"
   ]
  },
  {
   "cell_type": "code",
   "execution_count": 14,
   "metadata": {},
   "outputs": [],
   "source": [
    "autos = autos.drop(['DateCrawled', 'DateCreated', 'LastSeen'], axis=1)"
   ]
  },
  {
   "cell_type": "code",
   "execution_count": 15,
   "metadata": {},
   "outputs": [],
   "source": [
    "#кодирование бинарного признака\n",
    "autos['NotRepaired'] = autos['NotRepaired'].map({'no': 0, 'yes': 1})"
   ]
  },
  {
   "cell_type": "code",
   "execution_count": 16,
   "metadata": {},
   "outputs": [],
   "source": [
    "#кодирование категориальных признаков в числовые значения\n",
    "def get_encode(data, columns):\n",
    "    encode_autos = data.copy()\n",
    "    enc = OrdinalEncoder()\n",
    "    encode_autos[columns]=enc.fit_transform(encode_autos[columns])\n",
    "    encode_autos[columns] = encode_autos[columns].astype('int')\n",
    "    display(encode_autos.head())\n",
    "    return encode_autos"
   ]
  },
  {
   "cell_type": "code",
   "execution_count": 17,
   "metadata": {},
   "outputs": [
    {
     "data": {
      "text/html": [
       "<div>\n",
       "<style scoped>\n",
       "    .dataframe tbody tr th:only-of-type {\n",
       "        vertical-align: middle;\n",
       "    }\n",
       "\n",
       "    .dataframe tbody tr th {\n",
       "        vertical-align: top;\n",
       "    }\n",
       "\n",
       "    .dataframe thead th {\n",
       "        text-align: right;\n",
       "    }\n",
       "</style>\n",
       "<table border=\"1\" class=\"dataframe\">\n",
       "  <thead>\n",
       "    <tr style=\"text-align: right;\">\n",
       "      <th></th>\n",
       "      <th>Price</th>\n",
       "      <th>VehicleType</th>\n",
       "      <th>RegistrationYear</th>\n",
       "      <th>Gearbox</th>\n",
       "      <th>Power</th>\n",
       "      <th>Model</th>\n",
       "      <th>Kilometer</th>\n",
       "      <th>RegistrationMonth</th>\n",
       "      <th>FuelType</th>\n",
       "      <th>Brand</th>\n",
       "      <th>NotRepaired</th>\n",
       "      <th>NumberOfPictures</th>\n",
       "      <th>PostalCode</th>\n",
       "    </tr>\n",
       "  </thead>\n",
       "  <tbody>\n",
       "    <tr>\n",
       "      <td>0</td>\n",
       "      <td>480</td>\n",
       "      <td>5</td>\n",
       "      <td>1993</td>\n",
       "      <td>1</td>\n",
       "      <td>0</td>\n",
       "      <td>116</td>\n",
       "      <td>150000</td>\n",
       "      <td>0</td>\n",
       "      <td>6</td>\n",
       "      <td>37</td>\n",
       "      <td>0</td>\n",
       "      <td>0</td>\n",
       "      <td>70435</td>\n",
       "    </tr>\n",
       "    <tr>\n",
       "      <td>2</td>\n",
       "      <td>9800</td>\n",
       "      <td>6</td>\n",
       "      <td>2004</td>\n",
       "      <td>0</td>\n",
       "      <td>163</td>\n",
       "      <td>117</td>\n",
       "      <td>125000</td>\n",
       "      <td>8</td>\n",
       "      <td>2</td>\n",
       "      <td>14</td>\n",
       "      <td>0</td>\n",
       "      <td>0</td>\n",
       "      <td>90480</td>\n",
       "    </tr>\n",
       "    <tr>\n",
       "      <td>3</td>\n",
       "      <td>1500</td>\n",
       "      <td>5</td>\n",
       "      <td>2001</td>\n",
       "      <td>1</td>\n",
       "      <td>75</td>\n",
       "      <td>116</td>\n",
       "      <td>150000</td>\n",
       "      <td>6</td>\n",
       "      <td>6</td>\n",
       "      <td>37</td>\n",
       "      <td>0</td>\n",
       "      <td>0</td>\n",
       "      <td>91074</td>\n",
       "    </tr>\n",
       "    <tr>\n",
       "      <td>4</td>\n",
       "      <td>3600</td>\n",
       "      <td>5</td>\n",
       "      <td>2008</td>\n",
       "      <td>1</td>\n",
       "      <td>69</td>\n",
       "      <td>101</td>\n",
       "      <td>90000</td>\n",
       "      <td>7</td>\n",
       "      <td>2</td>\n",
       "      <td>31</td>\n",
       "      <td>0</td>\n",
       "      <td>0</td>\n",
       "      <td>60437</td>\n",
       "    </tr>\n",
       "    <tr>\n",
       "      <td>5</td>\n",
       "      <td>650</td>\n",
       "      <td>4</td>\n",
       "      <td>1995</td>\n",
       "      <td>1</td>\n",
       "      <td>102</td>\n",
       "      <td>11</td>\n",
       "      <td>150000</td>\n",
       "      <td>10</td>\n",
       "      <td>6</td>\n",
       "      <td>2</td>\n",
       "      <td>1</td>\n",
       "      <td>0</td>\n",
       "      <td>33775</td>\n",
       "    </tr>\n",
       "  </tbody>\n",
       "</table>\n",
       "</div>"
      ],
      "text/plain": [
       "   Price  VehicleType  RegistrationYear  Gearbox  Power  Model  Kilometer  \\\n",
       "0    480            5              1993        1      0    116     150000   \n",
       "2   9800            6              2004        0    163    117     125000   \n",
       "3   1500            5              2001        1     75    116     150000   \n",
       "4   3600            5              2008        1     69    101      90000   \n",
       "5    650            4              1995        1    102     11     150000   \n",
       "\n",
       "   RegistrationMonth  FuelType  Brand  NotRepaired  NumberOfPictures  \\\n",
       "0                  0         6     37            0                 0   \n",
       "2                  8         2     14            0                 0   \n",
       "3                  6         6     37            0                 0   \n",
       "4                  7         2     31            0                 0   \n",
       "5                 10         6      2            1                 0   \n",
       "\n",
       "   PostalCode  \n",
       "0       70435  \n",
       "2       90480  \n",
       "3       91074  \n",
       "4       60437  \n",
       "5       33775  "
      ]
     },
     "metadata": {},
     "output_type": "display_data"
    }
   ],
   "source": [
    "encode_autos = get_encode(autos, ['VehicleType', 'Gearbox', 'Model', 'FuelType', 'Brand'])"
   ]
  },
  {
   "cell_type": "code",
   "execution_count": 18,
   "metadata": {},
   "outputs": [
    {
     "data": {
      "image/png": "[encoded data removed]",
      "text/plain": [
       "<Figure size 960x640 with 2 Axes>"
      ]
     },
     "metadata": {
      "needs_background": "light"
     },
     "output_type": "display_data"
    }
   ],
   "source": [
    "corrMatrix = encode_autos.corr()\n",
    "f, ax = plt.subplots(figsize=(12, 8), dpi= 80)\n",
    "plt.title('Матрица корреляции признаков')\n",
    "sns.heatmap(corrMatrix, annot=True)\n",
    "plt.show()"
   ]
  },
  {
   "cell_type": "markdown",
   "metadata": {},
   "source": [
    "Высокая корреляция между признаками `Brand` и `Model`. Имеет смысл заменить их на один общий признак."
   ]
  },
  {
   "cell_type": "code",
   "execution_count": 19,
   "metadata": {},
   "outputs": [
    {
     "data": {
      "text/html": [
       "<div>\n",
       "<style scoped>\n",
       "    .dataframe tbody tr th:only-of-type {\n",
       "        vertical-align: middle;\n",
       "    }\n",
       "\n",
       "    .dataframe tbody tr th {\n",
       "        vertical-align: top;\n",
       "    }\n",
       "\n",
       "    .dataframe thead th {\n",
       "        text-align: right;\n",
       "    }\n",
       "</style>\n",
       "<table border=\"1\" class=\"dataframe\">\n",
       "  <thead>\n",
       "    <tr style=\"text-align: right;\">\n",
       "      <th></th>\n",
       "      <th>Price</th>\n",
       "      <th>VehicleType</th>\n",
       "      <th>RegistrationYear</th>\n",
       "      <th>Gearbox</th>\n",
       "      <th>Power</th>\n",
       "      <th>Kilometer</th>\n",
       "      <th>RegistrationMonth</th>\n",
       "      <th>FuelType</th>\n",
       "      <th>NotRepaired</th>\n",
       "      <th>NumberOfPictures</th>\n",
       "      <th>PostalCode</th>\n",
       "      <th>Brand_Model</th>\n",
       "    </tr>\n",
       "  </thead>\n",
       "  <tbody>\n",
       "    <tr>\n",
       "      <td>0</td>\n",
       "      <td>480</td>\n",
       "      <td>small</td>\n",
       "      <td>1993</td>\n",
       "      <td>manual</td>\n",
       "      <td>0</td>\n",
       "      <td>150000</td>\n",
       "      <td>0</td>\n",
       "      <td>petrol</td>\n",
       "      <td>0</td>\n",
       "      <td>0</td>\n",
       "      <td>70435</td>\n",
       "      <td>volkswagen_golf</td>\n",
       "    </tr>\n",
       "    <tr>\n",
       "      <td>2</td>\n",
       "      <td>9800</td>\n",
       "      <td>suv</td>\n",
       "      <td>2004</td>\n",
       "      <td>auto</td>\n",
       "      <td>163</td>\n",
       "      <td>125000</td>\n",
       "      <td>8</td>\n",
       "      <td>gasoline</td>\n",
       "      <td>0</td>\n",
       "      <td>0</td>\n",
       "      <td>90480</td>\n",
       "      <td>jeep_grand</td>\n",
       "    </tr>\n",
       "    <tr>\n",
       "      <td>3</td>\n",
       "      <td>1500</td>\n",
       "      <td>small</td>\n",
       "      <td>2001</td>\n",
       "      <td>manual</td>\n",
       "      <td>75</td>\n",
       "      <td>150000</td>\n",
       "      <td>6</td>\n",
       "      <td>petrol</td>\n",
       "      <td>0</td>\n",
       "      <td>0</td>\n",
       "      <td>91074</td>\n",
       "      <td>volkswagen_golf</td>\n",
       "    </tr>\n",
       "  </tbody>\n",
       "</table>\n",
       "</div>"
      ],
      "text/plain": [
       "   Price VehicleType  RegistrationYear Gearbox  Power  Kilometer  \\\n",
       "0    480       small              1993  manual      0     150000   \n",
       "2   9800         suv              2004    auto    163     125000   \n",
       "3   1500       small              2001  manual     75     150000   \n",
       "\n",
       "   RegistrationMonth  FuelType  NotRepaired  NumberOfPictures  PostalCode  \\\n",
       "0                  0    petrol            0                 0       70435   \n",
       "2                  8  gasoline            0                 0       90480   \n",
       "3                  6    petrol            0                 0       91074   \n",
       "\n",
       "       Brand_Model  \n",
       "0  volkswagen_golf  \n",
       "2       jeep_grand  \n",
       "3  volkswagen_golf  "
      ]
     },
     "execution_count": 19,
     "metadata": {},
     "output_type": "execute_result"
    }
   ],
   "source": [
    "autos['Brand_Model']=autos['Brand'] +'_'+ autos['Model']\n",
    "autos=autos.drop(['Brand','Model'],  axis=1)\n",
    "autos.head(3)"
   ]
  },
  {
   "cell_type": "code",
   "execution_count": 20,
   "metadata": {},
   "outputs": [
    {
     "data": {
      "text/html": [
       "<div>\n",
       "<style scoped>\n",
       "    .dataframe tbody tr th:only-of-type {\n",
       "        vertical-align: middle;\n",
       "    }\n",
       "\n",
       "    .dataframe tbody tr th {\n",
       "        vertical-align: top;\n",
       "    }\n",
       "\n",
       "    .dataframe thead th {\n",
       "        text-align: right;\n",
       "    }\n",
       "</style>\n",
       "<table border=\"1\" class=\"dataframe\">\n",
       "  <thead>\n",
       "    <tr style=\"text-align: right;\">\n",
       "      <th></th>\n",
       "      <th>Price</th>\n",
       "      <th>VehicleType</th>\n",
       "      <th>RegistrationYear</th>\n",
       "      <th>Gearbox</th>\n",
       "      <th>Power</th>\n",
       "      <th>Kilometer</th>\n",
       "      <th>RegistrationMonth</th>\n",
       "      <th>FuelType</th>\n",
       "      <th>NotRepaired</th>\n",
       "      <th>NumberOfPictures</th>\n",
       "      <th>PostalCode</th>\n",
       "      <th>Brand_Model</th>\n",
       "    </tr>\n",
       "  </thead>\n",
       "  <tbody>\n",
       "    <tr>\n",
       "      <td>0</td>\n",
       "      <td>480</td>\n",
       "      <td>5</td>\n",
       "      <td>1993</td>\n",
       "      <td>1</td>\n",
       "      <td>0</td>\n",
       "      <td>150000</td>\n",
       "      <td>0</td>\n",
       "      <td>6</td>\n",
       "      <td>0</td>\n",
       "      <td>0</td>\n",
       "      <td>70435</td>\n",
       "      <td>273</td>\n",
       "    </tr>\n",
       "    <tr>\n",
       "      <td>2</td>\n",
       "      <td>9800</td>\n",
       "      <td>6</td>\n",
       "      <td>2004</td>\n",
       "      <td>0</td>\n",
       "      <td>163</td>\n",
       "      <td>125000</td>\n",
       "      <td>8</td>\n",
       "      <td>2</td>\n",
       "      <td>0</td>\n",
       "      <td>0</td>\n",
       "      <td>90480</td>\n",
       "      <td>105</td>\n",
       "    </tr>\n",
       "    <tr>\n",
       "      <td>3</td>\n",
       "      <td>1500</td>\n",
       "      <td>5</td>\n",
       "      <td>2001</td>\n",
       "      <td>1</td>\n",
       "      <td>75</td>\n",
       "      <td>150000</td>\n",
       "      <td>6</td>\n",
       "      <td>6</td>\n",
       "      <td>0</td>\n",
       "      <td>0</td>\n",
       "      <td>91074</td>\n",
       "      <td>273</td>\n",
       "    </tr>\n",
       "    <tr>\n",
       "      <td>4</td>\n",
       "      <td>3600</td>\n",
       "      <td>5</td>\n",
       "      <td>2008</td>\n",
       "      <td>1</td>\n",
       "      <td>69</td>\n",
       "      <td>90000</td>\n",
       "      <td>7</td>\n",
       "      <td>2</td>\n",
       "      <td>0</td>\n",
       "      <td>0</td>\n",
       "      <td>60437</td>\n",
       "      <td>237</td>\n",
       "    </tr>\n",
       "    <tr>\n",
       "      <td>5</td>\n",
       "      <td>650</td>\n",
       "      <td>4</td>\n",
       "      <td>1995</td>\n",
       "      <td>1</td>\n",
       "      <td>102</td>\n",
       "      <td>150000</td>\n",
       "      <td>10</td>\n",
       "      <td>6</td>\n",
       "      <td>1</td>\n",
       "      <td>0</td>\n",
       "      <td>33775</td>\n",
       "      <td>23</td>\n",
       "    </tr>\n",
       "  </tbody>\n",
       "</table>\n",
       "</div>"
      ],
      "text/plain": [
       "   Price  VehicleType  RegistrationYear  Gearbox  Power  Kilometer  \\\n",
       "0    480            5              1993        1      0     150000   \n",
       "2   9800            6              2004        0    163     125000   \n",
       "3   1500            5              2001        1     75     150000   \n",
       "4   3600            5              2008        1     69      90000   \n",
       "5    650            4              1995        1    102     150000   \n",
       "\n",
       "   RegistrationMonth  FuelType  NotRepaired  NumberOfPictures  PostalCode  \\\n",
       "0                  0         6            0                 0       70435   \n",
       "2                  8         2            0                 0       90480   \n",
       "3                  6         6            0                 0       91074   \n",
       "4                  7         2            0                 0       60437   \n",
       "5                 10         6            1                 0       33775   \n",
       "\n",
       "   Brand_Model  \n",
       "0          273  \n",
       "2          105  \n",
       "3          273  \n",
       "4          237  \n",
       "5           23  "
      ]
     },
     "metadata": {},
     "output_type": "display_data"
    }
   ],
   "source": [
    "encode_autos = get_encode(autos, ['VehicleType', 'Gearbox', 'FuelType', 'Brand_Model'])\n"
   ]
  },
  {
   "cell_type": "code",
   "execution_count": 21,
   "metadata": {
    "scrolled": true
   },
   "outputs": [
    {
     "name": "stdout",
     "output_type": "stream",
     "text": [
      "<class 'pandas.core.frame.DataFrame'>\n",
      "Int64Index: 334664 entries, 0 to 354368\n",
      "Data columns (total 12 columns):\n",
      "Price                334664 non-null int64\n",
      "VehicleType          334664 non-null int64\n",
      "RegistrationYear     334664 non-null int64\n",
      "Gearbox              334664 non-null int64\n",
      "Power                334664 non-null int64\n",
      "Kilometer            334664 non-null int64\n",
      "RegistrationMonth    334664 non-null int64\n",
      "FuelType             334664 non-null int64\n",
      "NotRepaired          334664 non-null int64\n",
      "NumberOfPictures     334664 non-null int64\n",
      "PostalCode           334664 non-null int64\n",
      "Brand_Model          334664 non-null int64\n",
      "dtypes: int64(12)\n",
      "memory usage: 33.2 MB\n"
     ]
    }
   ],
   "source": [
    "encode_autos.info()"
   ]
  },
  {
   "cell_type": "markdown",
   "metadata": {},
   "source": [
    "# <a id='2'>2. Обучение моделей</a> "
   ]
  },
  {
   "cell_type": "markdown",
   "metadata": {},
   "source": [
    "## <a id='2_0'>2.0 Подготовка выборок</a> "
   ]
  },
  {
   "cell_type": "markdown",
   "metadata": {},
   "source": [
    "Разделим выборку на **features** и **target** части. Подготовим функцию для предсказаний модели и проверки качества. Для оценки качества используем метрику **RMSE**."
   ]
  },
  {
   "cell_type": "code",
   "execution_count": 22,
   "metadata": {},
   "outputs": [],
   "source": [
    "target = autos.loc[:,'Price']\n",
    "features = autos.drop('Price', axis=1)\n",
    "features_encod = encode_autos.drop('Price', axis=1) #признаки для XGBoost"
   ]
  },
  {
   "cell_type": "code",
   "execution_count": 23,
   "metadata": {},
   "outputs": [],
   "source": [
    "#разбиение выборок на тренировочную и тестовую части\n",
    "features_train, features_test, target_train, target_test = train_test_split(features, target, \n",
    "                                                                            test_size=0.25, \n",
    "                                                                            random_state=42)\n",
    "features_encod_train = features_encod.loc[features_train.index,:]\n",
    "features_encod_test = features_encod.loc[features_test.index,:]"
   ]
  },
  {
   "cell_type": "code",
   "execution_count": 24,
   "metadata": {},
   "outputs": [
    {
     "name": "stdout",
     "output_type": "stream",
     "text": [
      "Размеры обучающей выборки (250998, 11) (250998, 11) (250998,)\n",
      "Размеры валидационной выборки (83666, 11) (83666, 11) (83666,)\n"
     ]
    }
   ],
   "source": [
    "print('Размеры обучающей выборки', features_train.shape,features_encod_train.shape, target_train.shape)\n",
    "print('Размеры валидационной выборки', features_test.shape,features_encod_test.shape, target_test.shape)\n"
   ]
  },
  {
   "cell_type": "code",
   "execution_count": 25,
   "metadata": {},
   "outputs": [],
   "source": [
    "#функция для предсказаний и вычисления метрики качества\n",
    "def get_rmse(model, X_test, y_test):\n",
    "    y_pred = model.predict(X_test)\n",
    "    score = mean_squared_error(y_test, y_pred)\n",
    "    print('MSE: {:.4f}'.format(score))\n",
    "    return score"
   ]
  },
  {
   "cell_type": "code",
   "execution_count": 26,
   "metadata": {},
   "outputs": [],
   "source": [
    "my_scorer = make_scorer(mean_squared_error, greater_is_better=False)"
   ]
  },
  {
   "cell_type": "code",
   "execution_count": 27,
   "metadata": {},
   "outputs": [],
   "source": [
    "def get_best_params(features, target, model, parameters):\n",
    "\n",
    "    #Подберём лучшие параметры модели с помощью RandomizedSearchCV\n",
    "    clf = RandomizedSearchCV(estimator = model,\n",
    "                             param_distributions = parameters,\n",
    "                             scoring=my_scorer, cv = 5,\n",
    "                             random_state = 124)\n",
    "    search = clf.fit(features, target)\n",
    "    print('Best Params: ', search.best_params_)"
   ]
  },
  {
   "cell_type": "code",
   "execution_count": 28,
   "metadata": {},
   "outputs": [],
   "source": [
    "time_fit = [] #сюда будем записывть время обучения\n",
    "time_predict = [] #а сюда время предсказания\n",
    "rmse = [] #метрика качества\n",
    "models = ['RandomForest', 'GradientBoosting', 'LightGBM', 'CatBoost', 'XGboost']"
   ]
  },
  {
   "cell_type": "markdown",
   "metadata": {},
   "source": [
    "## <a id='2_1'>2.1 RandomForestRegressor</a> "
   ]
  },
  {
   "cell_type": "code",
   "execution_count": 29,
   "metadata": {},
   "outputs": [
    {
     "name": "stdout",
     "output_type": "stream",
     "text": [
      "Best Params:  {'n_estimators': 15, 'max_depth': 10}\n"
     ]
    }
   ],
   "source": [
    "parameters ={'max_depth':np.arange(1, 11), \n",
    "             'n_estimators':np.arange(10, 50, 5)}\n",
    "rand_forest = RandomForestRegressor(random_state=124)\n",
    "get_best_params(features_encod_train, target_train, rand_forest, parameters)"
   ]
  },
  {
   "cell_type": "code",
   "execution_count": 30,
   "metadata": {},
   "outputs": [
    {
     "name": "stdout",
     "output_type": "stream",
     "text": [
      "CPU times: user 8.54 s, sys: 22 µs, total: 8.54 s\n",
      "Wall time: 8.55 s\n"
     ]
    }
   ],
   "source": [
    "%%time\n",
    "rand_forest = RandomForestRegressor(n_estimators=15,\n",
    "                                    max_depth=10, \n",
    "                                    random_state=42).fit(features_encod_train, target_train)"
   ]
  },
  {
   "cell_type": "code",
   "execution_count": 31,
   "metadata": {},
   "outputs": [],
   "source": [
    "time_fit.append(8.54)"
   ]
  },
  {
   "cell_type": "markdown",
   "metadata": {},
   "source": [
    "**Найдём предсказания модели**"
   ]
  },
  {
   "cell_type": "code",
   "execution_count": 32,
   "metadata": {},
   "outputs": [
    {
     "name": "stdout",
     "output_type": "stream",
     "text": [
      "MSE: 4046559.1106\n",
      "CPU times: user 128 ms, sys: 3.95 ms, total: 132 ms\n",
      "Wall time: 135 ms\n"
     ]
    }
   ],
   "source": [
    "%%time\n",
    "rf_rmse = get_rmse(rand_forest, features_encod_test, target_test)"
   ]
  },
  {
   "cell_type": "code",
   "execution_count": 33,
   "metadata": {},
   "outputs": [],
   "source": [
    "time_predict.append(0.000156)\n",
    "rmse.append(np.sqrt(rf_rmse))"
   ]
  },
  {
   "cell_type": "markdown",
   "metadata": {},
   "source": [
    "## <a id='2_2'>2.2 GradientBoostingRegressor</a> "
   ]
  },
  {
   "cell_type": "code",
   "execution_count": 34,
   "metadata": {},
   "outputs": [],
   "source": [
    "#parameters = {'learning_rate': np.arange(0.2, 0.6, 0.1),\n",
    "#              'n_estimators':np.arange(50, 100, 20)}\n",
    "#g_boost = GradientBoostingRegressor(max_depth=10, random_state=42)\n",
    "#get_best_params(features_encod_train, target_train, \n",
    "#                g_boost, parameters)"
   ]
  },
  {
   "cell_type": "code",
   "execution_count": 35,
   "metadata": {},
   "outputs": [
    {
     "name": "stdout",
     "output_type": "stream",
     "text": [
      "CPU times: user 4min 18s, sys: 35.8 ms, total: 4min 18s\n",
      "Wall time: 4min 22s\n"
     ]
    }
   ],
   "source": [
    "%%time\n",
    "g_boost = GradientBoostingRegressor(max_depth=10,\n",
    "                                    n_estimators=70,\n",
    "                                    learning_rate=0.2,\n",
    "                                    random_state=42).fit(features_encod_train, target_train)"
   ]
  },
  {
   "cell_type": "code",
   "execution_count": 36,
   "metadata": {},
   "outputs": [],
   "source": [
    "time_fit.append(263)"
   ]
  },
  {
   "cell_type": "code",
   "execution_count": 37,
   "metadata": {},
   "outputs": [
    {
     "name": "stdout",
     "output_type": "stream",
     "text": [
      "MSE: 2832791.0121\n",
      "CPU times: user 372 ms, sys: 0 ns, total: 372 ms\n",
      "Wall time: 378 ms\n"
     ]
    }
   ],
   "source": [
    "%%time\n",
    "gb_rmse = get_rmse(g_boost, features_encod_test, target_test)"
   ]
  },
  {
   "cell_type": "code",
   "execution_count": 38,
   "metadata": {},
   "outputs": [],
   "source": [
    "time_predict.append(0.000397)\n",
    "rmse.append(np.sqrt(gb_rmse))"
   ]
  },
  {
   "cell_type": "markdown",
   "metadata": {},
   "source": [
    "## <a id='2_3'>2.3 LightGBM</a> "
   ]
  },
  {
   "cell_type": "code",
   "execution_count": 39,
   "metadata": {},
   "outputs": [],
   "source": [
    "##данные для lightGBM\n",
    "#lgb_train = lgb.Dataset(features_encod_train, target_train)\n",
    "#lgb_eval = lgb.Dataset(features_encod_test, target_test, reference=lgb_train)"
   ]
  },
  {
   "cell_type": "code",
   "execution_count": 40,
   "metadata": {},
   "outputs": [],
   "source": [
    "#%%time\n",
    "#params = {'num_leaves': 31, \n",
    "#         'objective': 'regression',\n",
    "#         'learning_rate': 0.05, \n",
    "#         'metric': 'rmse'}\n",
    "#lgbm = lgb.train(params,\n",
    "#                lgb_train,\n",
    "#                num_boost_round=10,\n",
    "#                valid_sets=lgb_eval,\n",
    "#                early_stopping_rounds=5)"
   ]
  },
  {
   "cell_type": "code",
   "execution_count": 41,
   "metadata": {},
   "outputs": [
    {
     "name": "stdout",
     "output_type": "stream",
     "text": [
      "CPU times: user 7.87 s, sys: 56.9 ms, total: 7.93 s\n",
      "Wall time: 7.99 s\n"
     ]
    }
   ],
   "source": [
    "%%time\n",
    "lgbm = lgb.LGBMRegressor(max_depth=10, \n",
    "                         learning_rate=0.2, \n",
    "                         n_estimators=100, \n",
    "                         random_state=42).fit(features_encod_train, target_train)"
   ]
  },
  {
   "cell_type": "code",
   "execution_count": 42,
   "metadata": {},
   "outputs": [],
   "source": [
    "time_fit.append(10.9)"
   ]
  },
  {
   "cell_type": "code",
   "execution_count": 43,
   "metadata": {},
   "outputs": [
    {
     "name": "stdout",
     "output_type": "stream",
     "text": [
      "MSE: 3168212.7975\n",
      "CPU times: user 735 ms, sys: 0 ns, total: 735 ms\n",
      "Wall time: 783 ms\n"
     ]
    }
   ],
   "source": [
    "%%time\n",
    "lgbm_rmse = get_rmse(lgbm, features_encod_test, target_test)"
   ]
  },
  {
   "cell_type": "code",
   "execution_count": 44,
   "metadata": {},
   "outputs": [],
   "source": [
    "time_predict.append(0.000782)\n",
    "rmse.append(np.sqrt(lgbm_rmse))"
   ]
  },
  {
   "cell_type": "markdown",
   "metadata": {},
   "source": [
    "## <a id='2_4'>2.4 CatBoostRegressor</a>"
   ]
  },
  {
   "cell_type": "code",
   "execution_count": 45,
   "metadata": {
    "scrolled": true
   },
   "outputs": [
    {
     "name": "stdout",
     "output_type": "stream",
     "text": [
      "0:\tlearn: 3922.1184418\ttotal: 521ms\tremaining: 51.6s\n",
      "1:\tlearn: 3464.0629230\ttotal: 1.02s\tremaining: 50s\n",
      "2:\tlearn: 3111.2634050\ttotal: 1.52s\tremaining: 49.1s\n",
      "3:\tlearn: 2850.1146316\ttotal: 2.02s\tremaining: 48.6s\n",
      "4:\tlearn: 2651.3130332\ttotal: 2.42s\tremaining: 46s\n",
      "5:\tlearn: 2509.9026293\ttotal: 2.92s\tremaining: 45.7s\n",
      "6:\tlearn: 2404.9363739\ttotal: 3.32s\tremaining: 44.1s\n",
      "7:\tlearn: 2326.3943030\ttotal: 3.81s\tremaining: 43.8s\n",
      "8:\tlearn: 2244.1149752\ttotal: 4.22s\tremaining: 42.7s\n",
      "9:\tlearn: 2187.4475627\ttotal: 4.71s\tremaining: 42.4s\n",
      "10:\tlearn: 2143.4028984\ttotal: 5.12s\tremaining: 41.4s\n",
      "11:\tlearn: 2109.9284200\ttotal: 5.61s\tremaining: 41.1s\n",
      "12:\tlearn: 2082.8195037\ttotal: 6.01s\tremaining: 40.3s\n",
      "13:\tlearn: 2063.7539622\ttotal: 6.51s\tremaining: 40s\n",
      "14:\tlearn: 2043.6097269\ttotal: 6.91s\tremaining: 39.2s\n",
      "15:\tlearn: 2030.1549567\ttotal: 7.4s\tremaining: 38.9s\n",
      "16:\tlearn: 2018.2389437\ttotal: 7.83s\tremaining: 38.2s\n",
      "17:\tlearn: 1994.3613910\ttotal: 8.33s\tremaining: 38s\n",
      "18:\tlearn: 1978.1558122\ttotal: 8.71s\tremaining: 37.1s\n",
      "19:\tlearn: 1964.0840879\ttotal: 9.2s\tremaining: 36.8s\n",
      "20:\tlearn: 1952.1953123\ttotal: 9.6s\tremaining: 36.1s\n",
      "21:\tlearn: 1944.8349753\ttotal: 10s\tremaining: 35.5s\n",
      "22:\tlearn: 1938.5151665\ttotal: 10.5s\tremaining: 35.1s\n",
      "23:\tlearn: 1929.9536290\ttotal: 10.9s\tremaining: 34.5s\n",
      "24:\tlearn: 1925.0793756\ttotal: 11.3s\tremaining: 33.9s\n",
      "25:\tlearn: 1918.1396931\ttotal: 11.8s\tremaining: 33.6s\n",
      "26:\tlearn: 1911.5595923\ttotal: 12.2s\tremaining: 33s\n",
      "27:\tlearn: 1905.7656779\ttotal: 12.7s\tremaining: 32.6s\n",
      "28:\tlearn: 1899.1530988\ttotal: 13.1s\tremaining: 32s\n",
      "29:\tlearn: 1894.0377551\ttotal: 13.5s\tremaining: 31.5s\n",
      "30:\tlearn: 1890.3591258\ttotal: 14s\tremaining: 31.1s\n",
      "31:\tlearn: 1886.2004371\ttotal: 14.4s\tremaining: 30.6s\n",
      "32:\tlearn: 1880.1258313\ttotal: 14.8s\tremaining: 30s\n",
      "33:\tlearn: 1875.6096436\ttotal: 15.3s\tremaining: 29.7s\n",
      "34:\tlearn: 1871.2729882\ttotal: 15.7s\tremaining: 29.1s\n",
      "35:\tlearn: 1867.0129290\ttotal: 16.1s\tremaining: 28.6s\n",
      "36:\tlearn: 1864.4597444\ttotal: 16.6s\tremaining: 28.2s\n",
      "37:\tlearn: 1859.6300253\ttotal: 17s\tremaining: 27.7s\n",
      "38:\tlearn: 1856.9313570\ttotal: 17.5s\tremaining: 27.4s\n",
      "39:\tlearn: 1852.9661108\ttotal: 17.9s\tremaining: 26.8s\n",
      "40:\tlearn: 1850.5255103\ttotal: 18.4s\tremaining: 26.4s\n",
      "41:\tlearn: 1846.7042826\ttotal: 18.9s\tremaining: 26.1s\n",
      "42:\tlearn: 1842.8228502\ttotal: 19.3s\tremaining: 25.6s\n",
      "43:\tlearn: 1839.4838746\ttotal: 19.7s\tremaining: 25.1s\n",
      "44:\tlearn: 1835.1742704\ttotal: 20.2s\tremaining: 24.7s\n",
      "45:\tlearn: 1832.8877513\ttotal: 20.6s\tremaining: 24.2s\n",
      "46:\tlearn: 1829.4711351\ttotal: 21.1s\tremaining: 23.8s\n",
      "47:\tlearn: 1827.3936676\ttotal: 21.5s\tremaining: 23.3s\n",
      "48:\tlearn: 1823.3928767\ttotal: 22s\tremaining: 22.9s\n",
      "49:\tlearn: 1821.6155494\ttotal: 22.5s\tremaining: 22.5s\n",
      "50:\tlearn: 1819.0547196\ttotal: 22.9s\tremaining: 22s\n",
      "51:\tlearn: 1815.2606076\ttotal: 23.4s\tremaining: 21.6s\n",
      "52:\tlearn: 1812.7605258\ttotal: 23.8s\tremaining: 21.1s\n",
      "53:\tlearn: 1809.7833774\ttotal: 24.3s\tremaining: 20.7s\n",
      "54:\tlearn: 1807.6115160\ttotal: 24.7s\tremaining: 20.2s\n",
      "55:\tlearn: 1806.3327198\ttotal: 25.2s\tremaining: 19.8s\n",
      "56:\tlearn: 1804.6978501\ttotal: 25.6s\tremaining: 19.3s\n",
      "57:\tlearn: 1802.8502091\ttotal: 26.1s\tremaining: 18.9s\n",
      "58:\tlearn: 1800.5099239\ttotal: 26.5s\tremaining: 18.4s\n",
      "59:\tlearn: 1799.4599892\ttotal: 27s\tremaining: 18s\n",
      "60:\tlearn: 1798.1697672\ttotal: 27.5s\tremaining: 17.6s\n",
      "61:\tlearn: 1795.8138532\ttotal: 27.9s\tremaining: 17.1s\n",
      "62:\tlearn: 1794.3089782\ttotal: 28.3s\tremaining: 16.6s\n",
      "63:\tlearn: 1792.2956846\ttotal: 28.8s\tremaining: 16.2s\n",
      "64:\tlearn: 1789.8506196\ttotal: 29.3s\tremaining: 15.8s\n",
      "65:\tlearn: 1787.4958834\ttotal: 29.7s\tremaining: 15.3s\n",
      "66:\tlearn: 1785.2758650\ttotal: 30.2s\tremaining: 14.9s\n",
      "67:\tlearn: 1783.4578949\ttotal: 30.6s\tremaining: 14.4s\n",
      "68:\tlearn: 1782.1878329\ttotal: 31.1s\tremaining: 14s\n",
      "69:\tlearn: 1780.8729277\ttotal: 31.5s\tremaining: 13.5s\n",
      "70:\tlearn: 1779.0782125\ttotal: 32s\tremaining: 13.1s\n",
      "71:\tlearn: 1777.0694771\ttotal: 32.4s\tremaining: 12.6s\n",
      "72:\tlearn: 1775.3433329\ttotal: 32.8s\tremaining: 12.1s\n",
      "73:\tlearn: 1772.5657774\ttotal: 33.3s\tremaining: 11.7s\n",
      "74:\tlearn: 1771.5210471\ttotal: 33.8s\tremaining: 11.3s\n",
      "75:\tlearn: 1770.0133813\ttotal: 34.2s\tremaining: 10.8s\n",
      "76:\tlearn: 1769.1205428\ttotal: 34.6s\tremaining: 10.3s\n",
      "77:\tlearn: 1767.0802513\ttotal: 35.1s\tremaining: 9.91s\n",
      "78:\tlearn: 1765.0802393\ttotal: 35.6s\tremaining: 9.45s\n",
      "79:\tlearn: 1763.3078700\ttotal: 36s\tremaining: 9.01s\n",
      "80:\tlearn: 1761.8890209\ttotal: 36.4s\tremaining: 8.55s\n",
      "81:\tlearn: 1760.5714677\ttotal: 36.9s\tremaining: 8.11s\n",
      "82:\tlearn: 1759.3879269\ttotal: 37.3s\tremaining: 7.65s\n",
      "83:\tlearn: 1758.5473538\ttotal: 37.8s\tremaining: 7.21s\n",
      "84:\tlearn: 1757.5923589\ttotal: 38.2s\tremaining: 6.75s\n",
      "85:\tlearn: 1756.4047721\ttotal: 38.7s\tremaining: 6.31s\n",
      "86:\tlearn: 1754.8179933\ttotal: 39.1s\tremaining: 5.85s\n",
      "87:\tlearn: 1753.4293786\ttotal: 39.6s\tremaining: 5.4s\n",
      "88:\tlearn: 1752.1577016\ttotal: 40s\tremaining: 4.95s\n",
      "89:\tlearn: 1750.1024992\ttotal: 40.5s\tremaining: 4.5s\n",
      "90:\tlearn: 1748.6991833\ttotal: 40.9s\tremaining: 4.05s\n",
      "91:\tlearn: 1746.3081072\ttotal: 41.4s\tremaining: 3.6s\n",
      "92:\tlearn: 1745.4577692\ttotal: 41.8s\tremaining: 3.15s\n",
      "93:\tlearn: 1742.6192690\ttotal: 42.2s\tremaining: 2.7s\n",
      "94:\tlearn: 1741.7196526\ttotal: 42.7s\tremaining: 2.25s\n",
      "95:\tlearn: 1740.7724347\ttotal: 43.1s\tremaining: 1.8s\n",
      "96:\tlearn: 1738.9855484\ttotal: 43.6s\tremaining: 1.35s\n",
      "97:\tlearn: 1737.8171086\ttotal: 44s\tremaining: 899ms\n",
      "98:\tlearn: 1736.1896035\ttotal: 44.5s\tremaining: 450ms\n",
      "99:\tlearn: 1735.1207410\ttotal: 44.9s\tremaining: 0us\n",
      "CPU times: user 42.4 s, sys: 3.51 s, total: 45.9 s\n",
      "Wall time: 47.2 s\n"
     ]
    }
   ],
   "source": [
    "%%time\n",
    "cat = CatBoostRegressor(max_depth=10,\n",
    "                        n_estimators=100,\n",
    "                        learning_rate=0.2,\n",
    "                        cat_features=['VehicleType', \n",
    "                                      'Gearbox', \n",
    "                                      'FuelType', \n",
    "                                      'NotRepaired', \n",
    "                                      'Brand_Model']).fit(features_train, target_train)"
   ]
  },
  {
   "cell_type": "code",
   "execution_count": 46,
   "metadata": {},
   "outputs": [],
   "source": [
    "time_fit.append(47.4)"
   ]
  },
  {
   "cell_type": "code",
   "execution_count": 47,
   "metadata": {},
   "outputs": [
    {
     "name": "stdout",
     "output_type": "stream",
     "text": [
      "MSE: 3263827.5783\n",
      "CPU times: user 256 ms, sys: 19.8 ms, total: 276 ms\n",
      "Wall time: 229 ms\n"
     ]
    }
   ],
   "source": [
    "%%time\n",
    "cat_rmse = get_rmse(cat, features_test, target_test)"
   ]
  },
  {
   "cell_type": "code",
   "execution_count": 48,
   "metadata": {},
   "outputs": [],
   "source": [
    "time_predict.append(0.000243)\n",
    "rmse.append(np.sqrt(cat_rmse))"
   ]
  },
  {
   "cell_type": "markdown",
   "metadata": {},
   "source": [
    "## <a id='2_5'> 2.5 XGboost</a>"
   ]
  },
  {
   "cell_type": "code",
   "execution_count": 49,
   "metadata": {},
   "outputs": [
    {
     "name": "stderr",
     "output_type": "stream",
     "text": [
      "/opt/conda/lib/python3.7/site-packages/xgboost/core.py:587: FutureWarning: Series.base is deprecated and will be removed in a future version\n",
      "  if getattr(data, 'base', None) is not None and \\\n"
     ]
    },
    {
     "name": "stdout",
     "output_type": "stream",
     "text": [
      "[07:53:34] WARNING: /workspace/src/objective/regression_obj.cu:152: reg:linear is now deprecated in favor of reg:squarederror.\n",
      "CPU times: user 59.8 s, sys: 73.8 ms, total: 59.9 s\n",
      "Wall time: 1min\n"
     ]
    }
   ],
   "source": [
    "%%time\n",
    "xgbr = xgb.XGBRegressor(n_estimators=100,\n",
    "                        max_depth=10,\n",
    "                        learning_rate=0.2).fit(features_encod_train, target_train)"
   ]
  },
  {
   "cell_type": "code",
   "execution_count": 50,
   "metadata": {},
   "outputs": [],
   "source": [
    "time_fit.append(60)"
   ]
  },
  {
   "cell_type": "code",
   "execution_count": 51,
   "metadata": {},
   "outputs": [
    {
     "name": "stdout",
     "output_type": "stream",
     "text": [
      "MSE: 2776934.3472\n",
      "CPU times: user 1.22 s, sys: 0 ns, total: 1.22 s\n",
      "Wall time: 1.24 s\n"
     ]
    }
   ],
   "source": [
    "%%time\n",
    "xgbr_rmse = get_rmse(xgbr, features_encod_test, target_test)"
   ]
  },
  {
   "cell_type": "code",
   "execution_count": 52,
   "metadata": {},
   "outputs": [],
   "source": [
    "time_predict.append(1.23)\n",
    "rmse.append(np.sqrt(xgbr_rmse))"
   ]
  },
  {
   "cell_type": "markdown",
   "metadata": {},
   "source": [
    "# 3. Анализ моделей"
   ]
  },
  {
   "cell_type": "code",
   "execution_count": 53,
   "metadata": {},
   "outputs": [],
   "source": [
    "models_score = pd.DataFrame(data=time_fit, index=models, columns=['time_fit'])\n",
    "models_score['time_predict'] = time_predict\n",
    "models_score['RMSE'] = rmse"
   ]
  },
  {
   "cell_type": "code",
   "execution_count": 54,
   "metadata": {},
   "outputs": [
    {
     "data": {
      "text/html": [
       "<div>\n",
       "<style scoped>\n",
       "    .dataframe tbody tr th:only-of-type {\n",
       "        vertical-align: middle;\n",
       "    }\n",
       "\n",
       "    .dataframe tbody tr th {\n",
       "        vertical-align: top;\n",
       "    }\n",
       "\n",
       "    .dataframe thead th {\n",
       "        text-align: right;\n",
       "    }\n",
       "</style>\n",
       "<table border=\"1\" class=\"dataframe\">\n",
       "  <thead>\n",
       "    <tr style=\"text-align: right;\">\n",
       "      <th></th>\n",
       "      <th>time_fit</th>\n",
       "      <th>time_predict</th>\n",
       "      <th>RMSE</th>\n",
       "    </tr>\n",
       "  </thead>\n",
       "  <tbody>\n",
       "    <tr>\n",
       "      <td>RandomForest</td>\n",
       "      <td>8.54</td>\n",
       "      <td>0.000156</td>\n",
       "      <td>2011.606102</td>\n",
       "    </tr>\n",
       "    <tr>\n",
       "      <td>GradientBoosting</td>\n",
       "      <td>263.00</td>\n",
       "      <td>0.000397</td>\n",
       "      <td>1683.089722</td>\n",
       "    </tr>\n",
       "    <tr>\n",
       "      <td>LightGBM</td>\n",
       "      <td>10.90</td>\n",
       "      <td>0.000782</td>\n",
       "      <td>1779.947414</td>\n",
       "    </tr>\n",
       "    <tr>\n",
       "      <td>CatBoost</td>\n",
       "      <td>47.40</td>\n",
       "      <td>0.000243</td>\n",
       "      <td>1806.606647</td>\n",
       "    </tr>\n",
       "    <tr>\n",
       "      <td>XGboost</td>\n",
       "      <td>60.00</td>\n",
       "      <td>1.230000</td>\n",
       "      <td>1666.413618</td>\n",
       "    </tr>\n",
       "  </tbody>\n",
       "</table>\n",
       "</div>"
      ],
      "text/plain": [
       "                  time_fit  time_predict         RMSE\n",
       "RandomForest          8.54      0.000156  2011.606102\n",
       "GradientBoosting    263.00      0.000397  1683.089722\n",
       "LightGBM             10.90      0.000782  1779.947414\n",
       "CatBoost             47.40      0.000243  1806.606647\n",
       "XGboost              60.00      1.230000  1666.413618"
      ]
     },
     "execution_count": 54,
     "metadata": {},
     "output_type": "execute_result"
    }
   ],
   "source": [
    "models_score"
   ]
  },
  {
   "cell_type": "code",
   "execution_count": 55,
   "metadata": {},
   "outputs": [],
   "source": [
    "models_score = models_score.reset_index(drop=False)\n",
    "models_score.set_axis(['models', 'time_fit', 'time_predict', 'RMSE'], axis='columns', inplace=True)\n",
    "models_score = models_score.sort_values('RMSE')"
   ]
  },
  {
   "cell_type": "code",
   "execution_count": 56,
   "metadata": {},
   "outputs": [
    {
     "data": {
      "image/png": "[encoded data removed]",
      "text/plain": [
       "<Figure size 800x480 with 1 Axes>"
      ]
     },
     "metadata": {},
     "output_type": "display_data"
    }
   ],
   "source": [
    "sns.set(style=\"white\", palette=\"deep\", color_codes=True)\n",
    "fig, ax = plt.subplots(figsize=(10,6), dpi= 80)\n",
    "plt.title('Качество моделей регрессии', fontdict={'fontsize':14})\n",
    "\n",
    "ax=sns.barplot(x='models', y='RMSE', palette=\"deep\", data=models_score, alpha=.5)\n",
    "for i, rmse in enumerate(models_score.RMSE):\n",
    "    ax.text(i, rmse+0.5, round(rmse, 1), horizontalalignment='center')\n",
    "ax.set_xlabel('Модели Регрессии')\n",
    "ax.set_ylabel('RMSE')\n",
    "plt.xticks( rotation=60, horizontalalignment='right', fontsize=12)\n",
    "plt.show()"
   ]
  },
  {
   "cell_type": "markdown",
   "metadata": {},
   "source": [
    "### Вывод:\n",
    "- Лучшее качество показывает модель **XGBoost**, но время обучение и время предсказания у неё выше, чем у других моделей (за исключением **GradientBoostingRegressor**, который обучается очень долго)\n",
    "- Быстрее всех обучалась модель RandomForestRegressor, Но качество у неё самое низкое. "
   ]
  }
 ],
 "metadata": {
  "kernelspec": {
   "display_name": "Python 3",
   "language": "python",
   "name": "python3"
  },
  "language_info": {
   "codemirror_mode": {
    "name": "ipython",
    "version": 3
   },
   "file_extension": ".py",
   "mimetype": "text/x-python",
   "name": "python",
   "nbconvert_exporter": "python",
   "pygments_lexer": "ipython3",
   "version": "3.8.5"
  }
 },
 "nbformat": 4,
 "nbformat_minor": 2
}
